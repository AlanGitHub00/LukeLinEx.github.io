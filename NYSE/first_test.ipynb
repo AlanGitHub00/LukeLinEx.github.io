{
 "cells": [
  {
   "cell_type": "code",
   "execution_count": 20,
   "metadata": {
    "collapsed": true
   },
   "outputs": [],
   "source": [
    "### 1. find split?\n",
    "### 2. find new?.....\n",
    "### 3. find removed?.......\n",
    "### 4. techincal signal?\n",
    "### 5. pair trade???"
   ]
  },
  {
   "cell_type": "markdown",
   "metadata": {},
   "source": [
    "### Load packages"
   ]
  },
  {
   "cell_type": "code",
   "execution_count": 1,
   "metadata": {
    "collapsed": true
   },
   "outputs": [],
   "source": [
    "import numpy as np\n",
    "import pandas as pd"
   ]
  },
  {
   "cell_type": "markdown",
   "metadata": {},
   "source": [
    "### Load data/ Inspect missing values"
   ]
  },
  {
   "cell_type": "code",
   "execution_count": null,
   "metadata": {
    "collapsed": true
   },
   "outputs": [],
   "source": [
    "adjusted = pd.read_csv('./input/prices-split-adjusted.csv')\n",
    "fundamentals = pd.read_csv('./input/fundamentals.csv', index_col=0)\n",
    "securities = pd.read_csv('./input/securities.csv')"
   ]
  },
  {
   "cell_type": "code",
   "execution_count": 3,
   "metadata": {
    "collapsed": false
   },
   "outputs": [
    {
     "name": "stdout",
     "output_type": "stream",
     "text": [
      "There are 501 symbols in \"adjusted\"\n",
      "There are 448 symbols in \"fundamentals\"\n",
      "There are 505 symbols in \"securities\".\n"
     ]
    }
   ],
   "source": [
    "symbol_adjusted = set(adjusted['symbol'])\n",
    "symbol_fundamentals = set(fundamentals['Ticker Symbol'])\n",
    "symbol_securities = set(securities['Ticker symbol'])\n",
    "\n",
    "\n",
    "print 'There are %d symbols in \"adjusted\"' % len(symbol_adjusted)\n",
    "print 'There are %d symbols in \"fundamentals\"' % len(symbol_fundamentals)\n",
    "print 'There are %d symbols in \"securities\".' % len(symbol_securities)"
   ]
  },
  {
   "cell_type": "code",
   "execution_count": 5,
   "metadata": {
    "collapsed": false
   },
   "outputs": [
    {
     "data": {
      "text/plain": [
       "{'BF.B', 'BRK.B', 'MS', 'UA'}"
      ]
     },
     "execution_count": 5,
     "metadata": {},
     "output_type": "execute_result"
    }
   ],
   "source": [
    "symbol_adjusted ^ symbol_securities"
   ]
  },
  {
   "cell_type": "code",
   "execution_count": 13,
   "metadata": {
    "collapsed": false
   },
   "outputs": [
    {
     "name": "stdout",
     "output_type": "stream",
     "text": [
      "set(['AGN', 'AES', 'BEN', 'GOOGL', 'COP', 'ACN', 'EVHC', 'MSI', 'WBA', 'COH', 'TWX', 'DOW', 'AET', 'NI', 'CBS', 'ICE', 'RTN', 'ORCL', 'RAI', 'RF', 'MNK', 'GOOG', 'RIG', 'KHC', 'MDT', 'PXD', 'A', 'ENDP', 'GS', 'ADP', 'FTV', 'FITB', 'CA', 'IR', 'FOX', 'L', 'ESRX', 'URI', 'GE', 'DTE', 'BLK', 'FTI', 'TROW', 'JCI', 'SLB', 'FOXA', 'PSA', 'NRG', 'NOC', 'PRGO', 'PLD', 'LNC', 'JNJ', 'CMCSA'])\n",
      "\n",
      "\n",
      "set(['UA'])\n"
     ]
    }
   ],
   "source": [
    "print symbol_adjusted - symbol_fundamentals\n",
    "print '\\n'\n",
    "print symbol_fundamentals - symbol_adjusted"
   ]
  },
  {
   "cell_type": "code",
   "execution_count": 19,
   "metadata": {
    "collapsed": false
   },
   "outputs": [
    {
     "name": "stdout",
     "output_type": "stream",
     "text": [
      "set(['AGN', 'EVHC', 'RIG', 'ENDP', 'GE', 'FOXA', 'JNJ', 'AES', 'BEN', 'AET', 'FTV', 'FOX', 'BLK', 'FTI', 'PRGO', 'PSA', 'NOC', 'CBS', 'MS', 'COP', 'DOW', 'MDT', 'CA', 'KHC', 'PLD', 'GS', 'MSI', 'URI', 'A', 'IR', 'JCI', 'GOOGL', 'RAI', 'RF', 'FITB', 'BF.B', 'L', 'ESRX', 'GOOG', 'COH', 'CMCSA', 'BRK.B', 'RTN', 'MNK', 'ACN', 'NI', 'DTE', 'LNC', 'WBA', 'TWX', 'ADP', 'ORCL', 'PXD', 'ICE', 'TROW', 'SLB', 'NRG'])\n"
     ]
    }
   ],
   "source": [
    "print symbol_fundamentals ^ symbol_securities"
   ]
  },
  {
   "cell_type": "code",
   "execution_count": 5,
   "metadata": {
    "collapsed": false
   },
   "outputs": [
    {
     "name": "stdout",
     "output_type": "stream",
     "text": [
      "Amount of missing values in each column of securities:\n"
     ]
    },
    {
     "data": {
      "text/plain": [
       "Ticker symbol                0\n",
       "Security                     0\n",
       "SEC filings                  0\n",
       "GICS Sector                  0\n",
       "GICS Sub Industry            0\n",
       "Address of Headquarters      0\n",
       "Date first added           198\n",
       "CIK                          0\n",
       "dtype: int64"
      ]
     },
     "execution_count": 5,
     "metadata": {},
     "output_type": "execute_result"
    }
   ],
   "source": [
    "print 'Amount of missing values in each column of securities:' \n",
    "np.sum(securities.isnull(), axis=0)"
   ]
  },
  {
   "cell_type": "code",
   "execution_count": 11,
   "metadata": {
    "collapsed": false
   },
   "outputs": [
    {
     "name": "stdout",
     "output_type": "stream",
     "text": [
      "Any row in securities has more than one missing value? False\n"
     ]
    }
   ],
   "source": [
    "print 'Any row in securities has more than one missing value? %s' % (np.sum(securities.isnull(), axis=1)>1).any()"
   ]
  },
  {
   "cell_type": "code",
   "execution_count": 14,
   "metadata": {
    "collapsed": false
   },
   "outputs": [
    {
     "name": "stdout",
     "output_type": "stream",
     "text": [
      "summary of missing values in adjusted:\n"
     ]
    },
    {
     "data": {
      "text/plain": [
       "date      0\n",
       "symbol    0\n",
       "open      0\n",
       "close     0\n",
       "low       0\n",
       "high      0\n",
       "volume    0\n",
       "dtype: int64"
      ]
     },
     "execution_count": 14,
     "metadata": {},
     "output_type": "execute_result"
    }
   ],
   "source": [
    "print 'summary of missing values in adjusted:'\n",
    "np.sum(adjusted.isnull(), axis=0)"
   ]
  },
  {
   "cell_type": "code",
   "execution_count": 21,
   "metadata": {
    "collapsed": false
   },
   "outputs": [
    {
     "name": "stdout",
     "output_type": "stream",
     "text": [
      "summary of missing values in fundamentals:\n"
     ]
    },
    {
     "data": {
      "text/plain": [
       "Cash Ratio                                        299\n",
       "Quick Ratio                                       299\n",
       "Current Ratio                                     299\n",
       "Estimated Shares Outstanding                      219\n",
       "Earnings Per Share                                219\n",
       "For Year                                          173\n",
       "Accounts Receivable                                 0\n",
       "Equity Earnings/Loss Unconsolidated Subsidiary      0\n",
       "dtype: int64"
      ]
     },
     "execution_count": 21,
     "metadata": {},
     "output_type": "execute_result"
    }
   ],
   "source": [
    "print 'summary of missing values in fundamentals:'\n",
    "np.sum(fundamentals.isnull(), axis=0).sort_values(ascending=False).head(8)"
   ]
  },
  {
   "cell_type": "code",
   "execution_count": 56,
   "metadata": {
    "collapsed": false
   },
   "outputs": [
    {
     "name": "stdout",
     "output_type": "stream",
     "text": [
      "['Estimated Shares Outstanding', 'Earnings Per Share']\n",
      "Are the three columns above always miss together? True\n"
     ]
    }
   ],
   "source": [
    "mv219 = ['Estimated Shares Outstanding', 'Earnings Per Share']\n",
    "print mv219\n",
    "print 'Do the three columns above always miss together? %s' % \\\n",
    "(len(filter(lambda x: x in {0, 2}, \n",
    "       np.sum(fundamentals[mv219].isnull(), axis=1)\n",
    "      )) == fundamentals.shape[0])"
   ]
  },
  {
   "cell_type": "code",
   "execution_count": 57,
   "metadata": {
    "collapsed": false
   },
   "outputs": [
    {
     "name": "stdout",
     "output_type": "stream",
     "text": [
      "['Cash Ratio', 'Quick Ratio', 'Current Ratio']\n",
      "Do the three columns above always miss together? True\n"
     ]
    }
   ],
   "source": [
    "mv299 = ['Cash Ratio', 'Quick Ratio', 'Current Ratio']\n",
    "print mv299\n",
    "print 'Do the three columns above always miss together? %s' % \\\n",
    "(len(filter(lambda x: x in {0, 3}, \n",
    "            np.sum(fundamentals[mv299].isnull(), axis=1)\n",
    "           )) == fundamentals.shape[0])"
   ]
  },
  {
   "cell_type": "markdown",
   "metadata": {},
   "source": [
    "### Frequency of each length"
   ]
  },
  {
   "cell_type": "code",
   "execution_count": 37,
   "metadata": {
    "collapsed": false
   },
   "outputs": [
    {
     "name": "stdout",
     "output_type": "stream",
     "text": [
      "The longest timestamp: 1762 days\n",
      "The frequency table of each length:\n"
     ]
    },
    {
     "data": {
      "text/html": [
       "<div>\n",
       "<table border=\"1\" class=\"dataframe\">\n",
       "  <thead>\n",
       "    <tr style=\"text-align: right;\">\n",
       "      <th></th>\n",
       "      <th>symbol</th>\n",
       "    </tr>\n",
       "    <tr>\n",
       "      <th>count</th>\n",
       "      <th></th>\n",
       "    </tr>\n",
       "  </thead>\n",
       "  <tbody>\n",
       "    <tr>\n",
       "      <th>1762.0</th>\n",
       "      <td>467</td>\n",
       "    </tr>\n",
       "    <tr>\n",
       "      <th>1008.0</th>\n",
       "      <td>13</td>\n",
       "    </tr>\n",
       "    <tr>\n",
       "      <th>504.0</th>\n",
       "      <td>4</td>\n",
       "    </tr>\n",
       "    <tr>\n",
       "      <th>378.0</th>\n",
       "      <td>2</td>\n",
       "    </tr>\n",
       "    <tr>\n",
       "      <th>892.0</th>\n",
       "      <td>2</td>\n",
       "    </tr>\n",
       "    <tr>\n",
       "      <th>385.0</th>\n",
       "      <td>1</td>\n",
       "    </tr>\n",
       "    <tr>\n",
       "      <th>304.0</th>\n",
       "      <td>1</td>\n",
       "    </tr>\n",
       "    <tr>\n",
       "      <th>786.0</th>\n",
       "      <td>1</td>\n",
       "    </tr>\n",
       "    <tr>\n",
       "      <th>853.0</th>\n",
       "      <td>1</td>\n",
       "    </tr>\n",
       "    <tr>\n",
       "      <th>251.0</th>\n",
       "      <td>1</td>\n",
       "    </tr>\n",
       "    <tr>\n",
       "      <th>894.0</th>\n",
       "      <td>1</td>\n",
       "    </tr>\n",
       "    <tr>\n",
       "      <th>896.0</th>\n",
       "      <td>1</td>\n",
       "    </tr>\n",
       "    <tr>\n",
       "      <th>987.0</th>\n",
       "      <td>1</td>\n",
       "    </tr>\n",
       "    <tr>\n",
       "      <th>284.0</th>\n",
       "      <td>1</td>\n",
       "    </tr>\n",
       "    <tr>\n",
       "      <th>1540.0</th>\n",
       "      <td>1</td>\n",
       "    </tr>\n",
       "    <tr>\n",
       "      <th>1683.0</th>\n",
       "      <td>1</td>\n",
       "    </tr>\n",
       "    <tr>\n",
       "      <th>1761.0</th>\n",
       "      <td>1</td>\n",
       "    </tr>\n",
       "    <tr>\n",
       "      <th>126.0</th>\n",
       "      <td>1</td>\n",
       "    </tr>\n",
       "  </tbody>\n",
       "</table>\n",
       "</div>"
      ],
      "text/plain": [
       "        symbol\n",
       "count         \n",
       "1762.0     467\n",
       "1008.0      13\n",
       "504.0        4\n",
       "378.0        2\n",
       "892.0        2\n",
       "385.0        1\n",
       "304.0        1\n",
       "786.0        1\n",
       "853.0        1\n",
       "251.0        1\n",
       "894.0        1\n",
       "896.0        1\n",
       "987.0        1\n",
       "284.0        1\n",
       "1540.0       1\n",
       "1683.0       1\n",
       "1761.0       1\n",
       "126.0        1"
      ]
     },
     "execution_count": 37,
     "metadata": {},
     "output_type": "execute_result"
    }
   ],
   "source": [
    "print 'The longest timestamp: %d days' % np.max(adjusted.groupby('symbol')['date'].count())\n",
    "print 'The frequency table of each length:'\n",
    "len_symbol = adjusted.groupby('symbol')['close'].agg({'count':len})\n",
    "len_symbol.reset_index().groupby('count').count().sort_values('symbol', ascending=False)"
   ]
  },
  {
   "cell_type": "code",
   "execution_count": null,
   "metadata": {
    "collapsed": true
   },
   "outputs": [],
   "source": []
  }
 ],
 "metadata": {
  "kernelspec": {
   "display_name": "Python [Root]",
   "language": "python",
   "name": "Python [Root]"
  },
  "language_info": {
   "codemirror_mode": {
    "name": "ipython",
    "version": 2
   },
   "file_extension": ".py",
   "mimetype": "text/x-python",
   "name": "python",
   "nbconvert_exporter": "python",
   "pygments_lexer": "ipython2",
   "version": "2.7.12"
  }
 },
 "nbformat": 4,
 "nbformat_minor": 2
}
