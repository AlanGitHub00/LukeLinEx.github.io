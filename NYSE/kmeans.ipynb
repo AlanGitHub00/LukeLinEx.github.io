{
 "cells": [
  {
   "cell_type": "code",
   "execution_count": 1,
   "metadata": {
    "collapsed": true
   },
   "outputs": [],
   "source": [
    "import numpy as np\n",
    "import pandas as pd\n",
    "import datetime as dt\n",
    "from scipy.stats import itemfreq\n",
    "import matplotlib.pyplot as plt\n",
    "%matplotlib inline"
   ]
  },
  {
   "cell_type": "code",
   "execution_count": 2,
   "metadata": {
    "collapsed": true
   },
   "outputs": [],
   "source": [
    "adjusted = pd.read_csv('./input/prices-split-adjusted.csv')\n",
    "fundamentals = pd.read_csv('./input/fundamentals.csv', index_col=0)\n",
    "securities = pd.read_csv('./input/securities.csv')"
   ]
  },
  {
   "cell_type": "code",
   "execution_count": 3,
   "metadata": {
    "collapsed": true
   },
   "outputs": [],
   "source": [
    "to_be_removed = ['Period Ending','Cash Ratio', 'Quick Ratio', 'Current Ratio', \n",
    "                 'Estimated Shares Outstanding', 'Earnings Per Share', 'For Year']"
   ]
  },
  {
   "cell_type": "code",
   "execution_count": 4,
   "metadata": {
    "collapsed": false
   },
   "outputs": [
    {
     "data": {
      "text/html": [
       "<div>\n",
       "<table border=\"1\" class=\"dataframe\">\n",
       "  <thead>\n",
       "    <tr style=\"text-align: right;\">\n",
       "      <th></th>\n",
       "      <th>Accounts Payable</th>\n",
       "      <th>Accounts Receivable</th>\n",
       "      <th>Add'l income/expense items</th>\n",
       "      <th>After Tax ROE</th>\n",
       "      <th>Capital Expenditures</th>\n",
       "      <th>Capital Surplus</th>\n",
       "      <th>Cash and Cash Equivalents</th>\n",
       "      <th>Changes in Inventories</th>\n",
       "      <th>Common Stocks</th>\n",
       "      <th>Cost of Revenue</th>\n",
       "      <th>...</th>\n",
       "      <th>Short-Term Debt / Current Portion of Long-Term Debt</th>\n",
       "      <th>Short-Term Investments</th>\n",
       "      <th>Total Assets</th>\n",
       "      <th>Total Current Assets</th>\n",
       "      <th>Total Current Liabilities</th>\n",
       "      <th>Total Equity</th>\n",
       "      <th>Total Liabilities</th>\n",
       "      <th>Total Liabilities &amp; Equity</th>\n",
       "      <th>Total Revenue</th>\n",
       "      <th>Treasury Stock</th>\n",
       "    </tr>\n",
       "    <tr>\n",
       "      <th>Ticker Symbol</th>\n",
       "      <th></th>\n",
       "      <th></th>\n",
       "      <th></th>\n",
       "      <th></th>\n",
       "      <th></th>\n",
       "      <th></th>\n",
       "      <th></th>\n",
       "      <th></th>\n",
       "      <th></th>\n",
       "      <th></th>\n",
       "      <th></th>\n",
       "      <th></th>\n",
       "      <th></th>\n",
       "      <th></th>\n",
       "      <th></th>\n",
       "      <th></th>\n",
       "      <th></th>\n",
       "      <th></th>\n",
       "      <th></th>\n",
       "      <th></th>\n",
       "      <th></th>\n",
       "    </tr>\n",
       "  </thead>\n",
       "  <tbody>\n",
       "    <tr>\n",
       "      <th>AAL</th>\n",
       "      <td>-0.086035</td>\n",
       "      <td>-0.279785</td>\n",
       "      <td>-2.703533</td>\n",
       "      <td>-0.097020</td>\n",
       "      <td>-0.123244</td>\n",
       "      <td>0.051639</td>\n",
       "      <td>-0.159666</td>\n",
       "      <td>0.192495</td>\n",
       "      <td>-0.195995</td>\n",
       "      <td>-0.099624</td>\n",
       "      <td>...</td>\n",
       "      <td>0.159958</td>\n",
       "      <td>0.347843</td>\n",
       "      <td>-0.072886</td>\n",
       "      <td>-0.070032</td>\n",
       "      <td>0.336829</td>\n",
       "      <td>-0.960690</td>\n",
       "      <td>0.272989</td>\n",
       "      <td>-0.223905</td>\n",
       "      <td>0.078146</td>\n",
       "      <td>0.251187</td>\n",
       "    </tr>\n",
       "    <tr>\n",
       "      <th>AAL</th>\n",
       "      <td>0.169587</td>\n",
       "      <td>-0.036497</td>\n",
       "      <td>-3.708721</td>\n",
       "      <td>0.079126</td>\n",
       "      <td>-0.486017</td>\n",
       "      <td>0.734139</td>\n",
       "      <td>0.115479</td>\n",
       "      <td>0.192495</td>\n",
       "      <td>-0.215641</td>\n",
       "      <td>-0.084166</td>\n",
       "      <td>...</td>\n",
       "      <td>0.170517</td>\n",
       "      <td>1.086006</td>\n",
       "      <td>0.357554</td>\n",
       "      <td>0.430957</td>\n",
       "      <td>0.815652</td>\n",
       "      <td>-0.672564</td>\n",
       "      <td>0.980509</td>\n",
       "      <td>0.358048</td>\n",
       "      <td>0.120217</td>\n",
       "      <td>0.274049</td>\n",
       "    </tr>\n",
       "    <tr>\n",
       "      <th>AAL</th>\n",
       "      <td>0.128436</td>\n",
       "      <td>-0.162856</td>\n",
       "      <td>-0.314562</td>\n",
       "      <td>0.383379</td>\n",
       "      <td>-1.136109</td>\n",
       "      <td>1.259931</td>\n",
       "      <td>-0.017047</td>\n",
       "      <td>0.192495</td>\n",
       "      <td>-0.215319</td>\n",
       "      <td>0.052609</td>\n",
       "      <td>...</td>\n",
       "      <td>0.260855</td>\n",
       "      <td>0.802931</td>\n",
       "      <td>0.379273</td>\n",
       "      <td>0.253182</td>\n",
       "      <td>0.775508</td>\n",
       "      <td>-0.412066</td>\n",
       "      <td>0.846693</td>\n",
       "      <td>0.379767</td>\n",
       "      <td>0.474674</td>\n",
       "      <td>0.274049</td>\n",
       "    </tr>\n",
       "    <tr>\n",
       "      <th>AAL</th>\n",
       "      <td>0.186611</td>\n",
       "      <td>0.802755</td>\n",
       "      <td>-1.050645</td>\n",
       "      <td>0.351352</td>\n",
       "      <td>-1.384665</td>\n",
       "      <td>0.849760</td>\n",
       "      <td>-0.239442</td>\n",
       "      <td>0.192495</td>\n",
       "      <td>-0.215480</td>\n",
       "      <td>-0.081877</td>\n",
       "      <td>...</td>\n",
       "      <td>0.477510</td>\n",
       "      <td>0.733026</td>\n",
       "      <td>0.498305</td>\n",
       "      <td>0.131234</td>\n",
       "      <td>0.795580</td>\n",
       "      <td>-0.213952</td>\n",
       "      <td>0.902119</td>\n",
       "      <td>0.498800</td>\n",
       "      <td>0.437684</td>\n",
       "      <td>0.274049</td>\n",
       "    </tr>\n",
       "    <tr>\n",
       "      <th>AAP</th>\n",
       "      <td>-0.174309</td>\n",
       "      <td>-0.029862</td>\n",
       "      <td>-0.115899</td>\n",
       "      <td>-0.060990</td>\n",
       "      <td>0.355172</td>\n",
       "      <td>-0.431537</td>\n",
       "      <td>-0.397981</td>\n",
       "      <td>-0.424805</td>\n",
       "      <td>-0.216445</td>\n",
       "      <td>-0.319369</td>\n",
       "      <td>...</td>\n",
       "      <td>-0.394731</td>\n",
       "      <td>-0.188147</td>\n",
       "      <td>-0.506265</td>\n",
       "      <td>-0.338649</td>\n",
       "      <td>-0.307397</td>\n",
       "      <td>-0.456486</td>\n",
       "      <td>-0.482707</td>\n",
       "      <td>-0.505780</td>\n",
       "      <td>-0.337434</td>\n",
       "      <td>0.272361</td>\n",
       "    </tr>\n",
       "  </tbody>\n",
       "</table>\n",
       "<p>5 rows × 70 columns</p>\n",
       "</div>"
      ],
      "text/plain": [
       "               Accounts Payable  Accounts Receivable  \\\n",
       "Ticker Symbol                                          \n",
       "AAL                   -0.086035            -0.279785   \n",
       "AAL                    0.169587            -0.036497   \n",
       "AAL                    0.128436            -0.162856   \n",
       "AAL                    0.186611             0.802755   \n",
       "AAP                   -0.174309            -0.029862   \n",
       "\n",
       "               Add'l income/expense items  After Tax ROE  \\\n",
       "Ticker Symbol                                              \n",
       "AAL                             -2.703533      -0.097020   \n",
       "AAL                             -3.708721       0.079126   \n",
       "AAL                             -0.314562       0.383379   \n",
       "AAL                             -1.050645       0.351352   \n",
       "AAP                             -0.115899      -0.060990   \n",
       "\n",
       "               Capital Expenditures  Capital Surplus  \\\n",
       "Ticker Symbol                                          \n",
       "AAL                       -0.123244         0.051639   \n",
       "AAL                       -0.486017         0.734139   \n",
       "AAL                       -1.136109         1.259931   \n",
       "AAL                       -1.384665         0.849760   \n",
       "AAP                        0.355172        -0.431537   \n",
       "\n",
       "               Cash and Cash Equivalents  Changes in Inventories  \\\n",
       "Ticker Symbol                                                      \n",
       "AAL                            -0.159666                0.192495   \n",
       "AAL                             0.115479                0.192495   \n",
       "AAL                            -0.017047                0.192495   \n",
       "AAL                            -0.239442                0.192495   \n",
       "AAP                            -0.397981               -0.424805   \n",
       "\n",
       "               Common Stocks  Cost of Revenue       ...        \\\n",
       "Ticker Symbol                                       ...         \n",
       "AAL                -0.195995        -0.099624       ...         \n",
       "AAL                -0.215641        -0.084166       ...         \n",
       "AAL                -0.215319         0.052609       ...         \n",
       "AAL                -0.215480        -0.081877       ...         \n",
       "AAP                -0.216445        -0.319369       ...         \n",
       "\n",
       "               Short-Term Debt / Current Portion of Long-Term Debt  \\\n",
       "Ticker Symbol                                                        \n",
       "AAL                                                     0.159958     \n",
       "AAL                                                     0.170517     \n",
       "AAL                                                     0.260855     \n",
       "AAL                                                     0.477510     \n",
       "AAP                                                    -0.394731     \n",
       "\n",
       "               Short-Term Investments  Total Assets  Total Current Assets  \\\n",
       "Ticker Symbol                                                               \n",
       "AAL                          0.347843     -0.072886             -0.070032   \n",
       "AAL                          1.086006      0.357554              0.430957   \n",
       "AAL                          0.802931      0.379273              0.253182   \n",
       "AAL                          0.733026      0.498305              0.131234   \n",
       "AAP                         -0.188147     -0.506265             -0.338649   \n",
       "\n",
       "               Total Current Liabilities  Total Equity  Total Liabilities  \\\n",
       "Ticker Symbol                                                               \n",
       "AAL                             0.336829     -0.960690           0.272989   \n",
       "AAL                             0.815652     -0.672564           0.980509   \n",
       "AAL                             0.775508     -0.412066           0.846693   \n",
       "AAL                             0.795580     -0.213952           0.902119   \n",
       "AAP                            -0.307397     -0.456486          -0.482707   \n",
       "\n",
       "               Total Liabilities & Equity  Total Revenue  Treasury Stock  \n",
       "Ticker Symbol                                                             \n",
       "AAL                             -0.223905       0.078146        0.251187  \n",
       "AAL                              0.358048       0.120217        0.274049  \n",
       "AAL                              0.379767       0.474674        0.274049  \n",
       "AAL                              0.498800       0.437684        0.274049  \n",
       "AAP                             -0.505780      -0.337434        0.272361  \n",
       "\n",
       "[5 rows x 70 columns]"
      ]
     },
     "execution_count": 4,
     "metadata": {},
     "output_type": "execute_result"
    }
   ],
   "source": [
    "tmp = fundamentals[filter(lambda col: col not in to_be_removed, fundamentals)]\n",
    "tmp = tmp.loc[np.sum(fundamentals.isnull(), axis=1) ==0]\n",
    "tmp = tmp.set_index('Ticker Symbol')\n",
    "tmp = (tmp - np.mean(tmp))/(np.std(tmp))\n",
    "tmp.head()"
   ]
  },
  {
   "cell_type": "code",
   "execution_count": 5,
   "metadata": {
    "collapsed": false
   },
   "outputs": [
    {
     "data": {
      "text/plain": [
       "KMeans(algorithm='auto', copy_x=True, init='k-means++', max_iter=300,\n",
       "    n_clusters=1, n_init=10, n_jobs=1, precompute_distances='auto',\n",
       "    random_state=None, tol=0.0001, verbose=0)"
      ]
     },
     "execution_count": 5,
     "metadata": {},
     "output_type": "execute_result"
    }
   ],
   "source": [
    "from sklearn.cluster import KMeans\n",
    "\n",
    "k1 = KMeans(n_clusters=1)\n",
    "k1.fit(tmp)"
   ]
  },
  {
   "cell_type": "code",
   "execution_count": 6,
   "metadata": {
    "collapsed": false
   },
   "outputs": [],
   "source": [
    "result = []\n",
    "models = []\n",
    "for i in range(1, 50):\n",
    "    k1 = KMeans(n_clusters=i)\n",
    "    k1.fit(tmp)\n",
    "    result.append(k1.inertia_)\n",
    "    models.append(k1)"
   ]
  },
  {
   "cell_type": "code",
   "execution_count": 7,
   "metadata": {
    "collapsed": false
   },
   "outputs": [
    {
     "data": {
      "text/plain": [
       "[<matplotlib.lines.Line2D at 0x115782350>]"
      ]
     },
     "execution_count": 7,
     "metadata": {},
     "output_type": "execute_result"
    },
    {
     "data": {
      "image/png": "[encoded data removed]",
      "text/plain": [
       "<matplotlib.figure.Figure at 0x118fcf190>"
      ]
     },
     "metadata": {},
     "output_type": "display_data"
    }
   ],
   "source": [
    "plt.plot(range(1, 50), result)"
   ]
  },
  {
   "cell_type": "code",
   "execution_count": 16,
   "metadata": {
    "collapsed": false
   },
   "outputs": [
    {
     "data": {
      "text/plain": [
       "array([[  0,   2],\n",
       "       [  1, 652],\n",
       "       [  2,   8],\n",
       "       [  3,   4],\n",
       "       [  4, 120],\n",
       "       [  5,   3],\n",
       "       [  6,   6],\n",
       "       [  7, 322],\n",
       "       [  8,   4],\n",
       "       [  9,   4],\n",
       "       [ 10,   1],\n",
       "       [ 11,   5],\n",
       "       [ 12, 134],\n",
       "       [ 13,   3],\n",
       "       [ 14,   7],\n",
       "       [ 15,   1],\n",
       "       [ 16,   4],\n",
       "       [ 17,   4],\n",
       "       [ 18,   1],\n",
       "       [ 19,  10],\n",
       "       [ 20,   1],\n",
       "       [ 21,   3]])"
      ]
     },
     "execution_count": 16,
     "metadata": {},
     "output_type": "execute_result"
    }
   ],
   "source": [
    "itemfreq(models[21].labels_)"
   ]
  },
  {
   "cell_type": "code",
   "execution_count": 17,
   "metadata": {
    "collapsed": false
   },
   "outputs": [
    {
     "name": "stdout",
     "output_type": "stream",
     "text": [
      "(1, 70, 4)\n"
     ]
    }
   ],
   "source": [
    "#### To use only the four biggest cluster\n",
    "\n",
    "mod_id = 21\n",
    "\n",
    "c1 = models[mod_id].cluster_centers_[1].reshape(1, -1)\n",
    "c2 = models[mod_id].cluster_centers_[4].reshape(1, -1)\n",
    "c3 = models[mod_id].cluster_centers_[7].reshape(1, -1)\n",
    "c4 = models[mod_id].cluster_centers_[12].reshape(1, -1)\n",
    "centers = np.concatenate((c1, c2, c3, c4), axis=0)\n",
    "\n",
    "\n",
    "a = np.concatenate((c1.T, c2.T, c3.T, c4.T), axis=1)\n",
    "a = a.reshape(1, 70, 4)\n",
    "print a.shape\n",
    "lab = np.argmin(np.sum((np.array(tmp).reshape(1299, 70, 1) - a)**2, axis=1), axis=1)"
   ]
  },
  {
   "cell_type": "code",
   "execution_count": 18,
   "metadata": {
    "collapsed": false
   },
   "outputs": [],
   "source": [
    "from sklearn.decomposition import PCA\n",
    "\n",
    "pca = PCA(n_components=2)\n",
    "pc  = pca.fit_transform(tmp)\n",
    "pc_centers = pca.transform(centers)"
   ]
  },
  {
   "cell_type": "code",
   "execution_count": 19,
   "metadata": {
    "collapsed": false
   },
   "outputs": [
    {
     "data": {
      "text/plain": [
       "(-4, 4)"
      ]
     },
     "execution_count": 19,
     "metadata": {},
     "output_type": "execute_result"
    },
    {
     "data": {
      "image/png": "[encoded data removed]",
      "text/plain": [
       "<matplotlib.figure.Figure at 0x1159e8390>"
      ]
     },
     "metadata": {},
     "output_type": "display_data"
    }
   ],
   "source": [
    "plt.scatter(pc[:,0], pc[:, 1], alpha=0.1, c=lab)\n",
    "plt.scatter(pc_centers[:,0], pc_centers[:, 1], c=range(4), s =40)\n",
    "plt.xlim(-4, 4)\n",
    "plt.ylim(-4, 4)"
   ]
  },
  {
   "cell_type": "code",
   "execution_count": 20,
   "metadata": {
    "collapsed": false
   },
   "outputs": [
    {
     "name": "stdout",
     "output_type": "stream",
     "text": [
      "[41 66]\n"
     ]
    },
    {
     "data": {
      "image/png": "[encoded data removed]",
      "text/plain": [
       "<matplotlib.figure.Figure at 0x116907650>"
      ]
     },
     "metadata": {},
     "output_type": "display_data"
    }
   ],
   "source": [
    "idx= np.random.choice(tmp.shape[1], size=2, replace=False)\n",
    "\n",
    "plt.scatter(tmp.iloc[:,idx[0]], tmp.iloc[:, idx[1]], alpha=0.1, c=lab)\n",
    "plt.scatter(pc_centers[:,0], pc_centers[:, 1], c=range(4), s=40)\n",
    "#plt.xlim(-4, 4)\n",
    "#plt.ylim(-4, 4)\n",
    "print idx"
   ]
  },
  {
   "cell_type": "code",
   "execution_count": 21,
   "metadata": {
    "collapsed": false
   },
   "outputs": [],
   "source": [
    "tmp1 = tmp.copy(deep=True)\n",
    "tmp1['labels'] = lab"
   ]
  },
  {
   "cell_type": "code",
   "execution_count": 22,
   "metadata": {
    "collapsed": false
   },
   "outputs": [
    {
     "data": {
      "text/plain": [
       "labels\n",
       "0   -0.255703\n",
       "1    1.707828\n",
       "2   -0.365423\n",
       "3   -0.060553\n",
       "Name: Accounts Payable, dtype: float64"
      ]
     },
     "execution_count": 22,
     "metadata": {},
     "output_type": "execute_result"
    }
   ],
   "source": [
    "tmp1.groupby('labels')[tmp1.columns.values[0]].agg(np.mean)"
   ]
  },
  {
   "cell_type": "code",
   "execution_count": 23,
   "metadata": {
    "collapsed": false
   },
   "outputs": [
    {
     "data": {
      "text/plain": [
       "labels\n",
       "0    0.082647\n",
       "1   -0.415254\n",
       "2    0.046718\n",
       "3    0.018914\n",
       "Name: Accounts Receivable, dtype: float64"
      ]
     },
     "execution_count": 23,
     "metadata": {},
     "output_type": "execute_result"
    }
   ],
   "source": [
    "tmp1.groupby('labels')[tmp1.columns.values[1]].agg(np.mean)"
   ]
  },
  {
   "cell_type": "code",
   "execution_count": 24,
   "metadata": {
    "collapsed": false
   },
   "outputs": [
    {
     "data": {
      "text/plain": [
       "labels\n",
       "0   -0.108162\n",
       "1    0.496713\n",
       "2   -0.017555\n",
       "3   -0.070681\n",
       "Name: Add'l income/expense items, dtype: float64"
      ]
     },
     "execution_count": 24,
     "metadata": {},
     "output_type": "execute_result"
    }
   ],
   "source": [
    "tmp1.groupby('labels')[tmp1.columns.values[2]].agg(np.mean)"
   ]
  },
  {
   "cell_type": "code",
   "execution_count": 25,
   "metadata": {
    "collapsed": false
   },
   "outputs": [
    {
     "data": {
      "text/plain": [
       "labels\n",
       "0    0.004616\n",
       "1   -0.051879\n",
       "2    0.058181\n",
       "3   -0.096468\n",
       "Name: After Tax ROE, dtype: float64"
      ]
     },
     "execution_count": 25,
     "metadata": {},
     "output_type": "execute_result"
    }
   ],
   "source": [
    "tmp1.groupby('labels')[tmp1.columns.values[3]].agg(np.mean)"
   ]
  },
  {
   "cell_type": "code",
   "execution_count": 26,
   "metadata": {
    "collapsed": false
   },
   "outputs": [
    {
     "data": {
      "text/plain": [
       "labels\n",
       "0    0.280954\n",
       "1   -0.995358\n",
       "2    0.269782\n",
       "3   -0.727539\n",
       "Name: Capital Expenditures, dtype: float64"
      ]
     },
     "execution_count": 26,
     "metadata": {},
     "output_type": "execute_result"
    }
   ],
   "source": [
    "tmp1.groupby('labels')[tmp1.columns.values[4]].agg(np.mean)"
   ]
  },
  {
   "cell_type": "code",
   "execution_count": 27,
   "metadata": {
    "collapsed": false
   },
   "outputs": [
    {
     "data": {
      "text/plain": [
       "labels\n",
       "0   -0.231544\n",
       "1    0.824239\n",
       "2   -0.111700\n",
       "3    0.328465\n",
       "Name: Capital Surplus, dtype: float64"
      ]
     },
     "execution_count": 27,
     "metadata": {},
     "output_type": "execute_result"
    }
   ],
   "source": [
    "tmp1.groupby('labels')[tmp1.columns.values[5]].agg(np.mean)"
   ]
  },
  {
   "cell_type": "code",
   "execution_count": 28,
   "metadata": {
    "collapsed": false
   },
   "outputs": [
    {
     "data": {
      "text/plain": [
       "labels\n",
       "0   -0.283076\n",
       "1    1.631996\n",
       "2   -0.236809\n",
       "3   -0.144432\n",
       "Name: Cash and Cash Equivalents, dtype: float64"
      ]
     },
     "execution_count": 28,
     "metadata": {},
     "output_type": "execute_result"
    }
   ],
   "source": [
    "tmp1.groupby('labels')[tmp1.columns.values[6]].agg(np.mean)"
   ]
  },
  {
   "cell_type": "code",
   "execution_count": 29,
   "metadata": {
    "collapsed": false
   },
   "outputs": [
    {
     "data": {
      "text/plain": [
       "labels\n",
       "0    655\n",
       "1    174\n",
       "2    332\n",
       "3    138\n",
       "Name: Cash and Cash Equivalents, dtype: int64"
      ]
     },
     "execution_count": 29,
     "metadata": {},
     "output_type": "execute_result"
    }
   ],
   "source": [
    "tmp1.groupby('labels')[tmp1.columns.values[6]].count()"
   ]
  },
  {
   "cell_type": "code",
   "execution_count": 36,
   "metadata": {
    "collapsed": false
   },
   "outputs": [
    {
     "data": {
      "text/plain": [
       "AAPL    6.367919\n",
       "ABBV    0.479676\n",
       "ABC     2.602379\n",
       "ABT     0.436670\n",
       "ADM     1.414276\n",
       "AMGN    0.323380\n",
       "AMZN    3.026111\n",
       "BA      6.044292\n",
       "BMY     0.359796\n",
       "CAH     1.920605\n",
       "CAT     1.324198\n",
       "COST    1.040807\n",
       "CSCO    0.089630\n",
       "CVS     1.155839\n",
       "CVX     3.403434\n",
       "DAL     0.422260\n",
       "DD      0.875016\n",
       "DE      0.644081\n",
       "DIS     0.554026\n",
       "EBAY    0.047205\n",
       "F       2.176361\n",
       "FB     -0.276780\n",
       "GD      0.761660\n",
       "GILD    0.415022\n",
       "GM      6.232713\n",
       "HD      0.784715\n",
       "HON     1.117770\n",
       "HPE     1.341534\n",
       "HPQ     3.219447\n",
       "IBM     2.250219\n",
       "INTC    1.029435\n",
       "KO      0.798321\n",
       "KR      0.441361\n",
       "LLY    -0.054622\n",
       "LMT     0.792713\n",
       "LUK     0.661463\n",
       "MCD    -0.115370\n",
       "MCK     3.177134\n",
       "MDLZ    0.592831\n",
       "MMM    -0.114452\n",
       "MO      0.410196\n",
       "MRK     1.503024\n",
       "MSFT    1.150522\n",
       "PEP     1.247793\n",
       "PFE     0.522023\n",
       "PM      1.207446\n",
       "PSX     0.947545\n",
       "QCOM   -0.151080\n",
       "T       3.832475\n",
       "TGT     1.023515\n",
       "UPS     0.253454\n",
       "UTX     2.299324\n",
       "VLO     0.868962\n",
       "VZ      1.804154\n",
       "WMT     7.326569\n",
       "XOM     6.164071\n",
       "Name: Accounts Payable, dtype: float64"
      ]
     },
     "execution_count": 36,
     "metadata": {},
     "output_type": "execute_result"
    }
   ],
   "source": [
    "tmp1.loc[tmp1['labels']==1].groupby(lambda x: x)['Accounts Payable'].agg(np.mean)"
   ]
  },
  {
   "cell_type": "code",
   "execution_count": 45,
   "metadata": {
    "collapsed": false
   },
   "outputs": [
    {
     "data": {
      "image/png": "[encoded data removed]",
      "text/plain": [
       "<matplotlib.figure.Figure at 0x13247f910>"
      ]
     },
     "metadata": {},
     "output_type": "display_data"
    }
   ],
   "source": [
    "import seaborn as sns\n",
    "\n",
    "ax = sns.boxplot(x='Accounts Payable', y=\"labels\", data=tmp1, orient='h')"
   ]
  },
  {
   "cell_type": "code",
   "execution_count": 55,
   "metadata": {
    "collapsed": false
   },
   "outputs": [
    {
     "data": {
      "image/png": "[encoded data removed]",
      "text/plain": [
       "<matplotlib.figure.Figure at 0x133d9db10>"
      ]
     },
     "metadata": {},
     "output_type": "display_data"
    }
   ],
   "source": [
    "ax = sns.boxplot(x='Accounts Receivable', y=\"labels\", data=tmp1, orient='h')"
   ]
  },
  {
   "cell_type": "code",
   "execution_count": 57,
   "metadata": {
    "collapsed": false
   },
   "outputs": [
    {
     "data": {
      "image/png": "[encoded data removed]",
      "text/plain": [
       "<matplotlib.figure.Figure at 0x1363a3e50>"
      ]
     },
     "metadata": {},
     "output_type": "display_data"
    }
   ],
   "source": [
    "ax = sns.boxplot(x='Common Stocks', y=\"labels\", data=tmp1, orient='h')"
   ]
  },
  {
   "cell_type": "code",
   "execution_count": 59,
   "metadata": {
    "collapsed": false
   },
   "outputs": [
    {
     "data": {
      "image/png": "[encoded data removed]",
      "text/plain": [
       "<matplotlib.figure.Figure at 0x133ca9750>"
      ]
     },
     "metadata": {},
     "output_type": "display_data"
    }
   ],
   "source": [
    "ax = sns.boxplot(x='Cost of Revenue', y=\"labels\", data=tmp1, orient='h')"
   ]
  },
  {
   "cell_type": "code",
   "execution_count": 61,
   "metadata": {
    "collapsed": false
   },
   "outputs": [
    {
     "data": {
      "image/png": "[encoded data removed]",
      "text/plain": [
       "<matplotlib.figure.Figure at 0x115c89d90>"
      ]
     },
     "metadata": {},
     "output_type": "display_data"
    }
   ],
   "source": [
    "ax = sns.boxplot(x='Sales, General and Admin.', y=\"labels\", data=tmp1, orient='h')"
   ]
  },
  {
   "cell_type": "code",
   "execution_count": 63,
   "metadata": {
    "collapsed": false
   },
   "outputs": [
    {
     "data": {
      "image/png": "[encoded data removed]",
      "text/plain": [
       "<matplotlib.figure.Figure at 0x1158a0750>"
      ]
     },
     "metadata": {},
     "output_type": "display_data"
    }
   ],
   "source": [
    "ax = sns.boxplot(x='Earnings Before Interest and Tax', y=\"labels\", data=tmp1, orient='h')"
   ]
  },
  {
   "cell_type": "code",
   "execution_count": 62,
   "metadata": {
    "collapsed": false
   },
   "outputs": [
    {
     "name": "stdout",
     "output_type": "stream",
     "text": [
      "Earnings Before Interest and Tax\n"
     ]
    },
    {
     "data": {
      "image/png": "[encoded data removed]",
      "text/plain": [
       "<matplotlib.figure.Figure at 0x1175be590>"
      ]
     },
     "metadata": {},
     "output_type": "display_data"
    }
   ],
   "source": [
    "idx = np.random.choice(tmp.shape[1], size=1, replace=False)\n",
    "col = tmp.columns.values[idx]\n",
    "print col[0]\n",
    "\n",
    "ax = sns.boxplot(x=col[0], y=\"labels\", data=tmp1, orient='h')"
   ]
  },
  {
   "cell_type": "code",
   "execution_count": null,
   "metadata": {
    "collapsed": true
   },
   "outputs": [],
   "source": []
  }
 ],
 "metadata": {
  "kernelspec": {
   "display_name": "Python [Root]",
   "language": "python",
   "name": "Python [Root]"
  },
  "language_info": {
   "codemirror_mode": {
    "name": "ipython",
    "version": 2
   },
   "file_extension": ".py",
   "mimetype": "text/x-python",
   "name": "python",
   "nbconvert_exporter": "python",
   "pygments_lexer": "ipython2",
   "version": "2.7.12"
  }
 },
 "nbformat": 4,
 "nbformat_minor": 0
}
