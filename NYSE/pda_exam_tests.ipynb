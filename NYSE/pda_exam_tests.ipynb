{
 "cells": [
  {
   "cell_type": "code",
   "execution_count": 1,
   "metadata": {
    "collapsed": true
   },
   "outputs": [],
   "source": [
    "import numpy as np\n",
    "import pandas as pd\n",
    "import datetime as dt\n",
    "from scipy.stats import itemfreq\n",
    "import matplotlib.pyplot as plt\n",
    "%matplotlib inline"
   ]
  },
  {
   "cell_type": "code",
   "execution_count": 2,
   "metadata": {
    "collapsed": true
   },
   "outputs": [],
   "source": [
    "adjusted = pd.read_csv('./input/prices-split-adjusted.csv')\n",
    "fundamentals = pd.read_csv('./input/fundamentals.csv', index_col=0)\n",
    "securities = pd.read_csv('./input/securities.csv')"
   ]
  },
  {
   "cell_type": "code",
   "execution_count": 3,
   "metadata": {
    "collapsed": false,
    "scrolled": true
   },
   "outputs": [
    {
     "data": {
      "text/plain": [
       "Ticker symbol              0.000000\n",
       "Security                   0.000000\n",
       "SEC filings                0.000000\n",
       "GICS Sector                0.000000\n",
       "GICS Sub Industry          0.000000\n",
       "Address of Headquarters    0.000000\n",
       "Date first added           0.392079\n",
       "CIK                        0.000000\n",
       "dtype: float64"
      ]
     },
     "execution_count": 3,
     "metadata": {},
     "output_type": "execute_result"
    }
   ],
   "source": [
    "np.mean(securities.isnull(), axis=0)"
   ]
  },
  {
   "cell_type": "code",
   "execution_count": 4,
   "metadata": {
    "collapsed": false
   },
   "outputs": [
    {
     "data": {
      "text/plain": [
       "[dtype('O'),\n",
       " dtype('O'),\n",
       " dtype('O'),\n",
       " dtype('O'),\n",
       " dtype('O'),\n",
       " dtype('O'),\n",
       " dtype('O'),\n",
       " dtype('int64')]"
      ]
     },
     "execution_count": 4,
     "metadata": {},
     "output_type": "execute_result"
    }
   ],
   "source": [
    "map(lambda col: securities[col].dtype, securities)"
   ]
  },
  {
   "cell_type": "code",
   "execution_count": 5,
   "metadata": {
    "collapsed": false
   },
   "outputs": [
    {
     "data": {
      "text/plain": [
       "date      0.0\n",
       "symbol    0.0\n",
       "open      0.0\n",
       "close     0.0\n",
       "low       0.0\n",
       "high      0.0\n",
       "volume    0.0\n",
       "dtype: float64"
      ]
     },
     "execution_count": 5,
     "metadata": {},
     "output_type": "execute_result"
    }
   ],
   "source": [
    "np.mean(adjusted.isnull(), axis=0)"
   ]
  },
  {
   "cell_type": "code",
   "execution_count": 8,
   "metadata": {
    "collapsed": false,
    "scrolled": true
   },
   "outputs": [
    {
     "data": {
      "text/plain": [
       "Cash Ratio                                             0.167883\n",
       "Quick Ratio                                            0.167883\n",
       "Current Ratio                                          0.167883\n",
       "Estimated Shares Outstanding                           0.122965\n",
       "Earnings Per Share                                     0.122965\n",
       "For Year                                               0.097136\n",
       "Accounts Receivable                                    0.000000\n",
       "Equity Earnings/Loss Unconsolidated Subsidiary         0.000000\n",
       "Goodwill                                               0.000000\n",
       "Gross Margin                                           0.000000\n",
       "Gross Profit                                           0.000000\n",
       "Income Tax                                             0.000000\n",
       "Intangible Assets                                      0.000000\n",
       "Interest Expense                                       0.000000\n",
       "Inventory                                              0.000000\n",
       "Investments                                            0.000000\n",
       "Liabilities                                            0.000000\n",
       "Long-Term Debt                                         0.000000\n",
       "Long-Term Investments                                  0.000000\n",
       "Minority Interest                                      0.000000\n",
       "Misc. Stocks                                           0.000000\n",
       "Net Borrowings                                         0.000000\n",
       "Fixed Assets                                           0.000000\n",
       "Effect of Exchange Rate                                0.000000\n",
       "Add'l income/expense items                             0.000000\n",
       "Earnings Before Tax                                    0.000000\n",
       "Net Cash Flow                                          0.000000\n",
       "Depreciation                                           0.000000\n",
       "Deferred Liability Charges                             0.000000\n",
       "Deferred Asset Charges                                 0.000000\n",
       "                                                         ...   \n",
       "Short-Term Debt / Current Portion of Long-Term Debt    0.000000\n",
       "Short-Term Investments                                 0.000000\n",
       "Total Assets                                           0.000000\n",
       "Total Current Assets                                   0.000000\n",
       "Total Current Liabilities                              0.000000\n",
       "Total Equity                                           0.000000\n",
       "Total Liabilities                                      0.000000\n",
       "Total Liabilities & Equity                             0.000000\n",
       "Total Revenue                                          0.000000\n",
       "Treasury Stock                                         0.000000\n",
       "Pre-Tax ROE                                            0.000000\n",
       "Other Operating Items                                  0.000000\n",
       "Net Cash Flows-Investing                               0.000000\n",
       "Other Operating Activities                             0.000000\n",
       "Net Income                                             0.000000\n",
       "Net Income Adjustments                                 0.000000\n",
       "Net Income Applicable to Common Shareholders           0.000000\n",
       "Net Income-Cont. Operations                            0.000000\n",
       "Net Receivables                                        0.000000\n",
       "Non-Recurring Items                                    0.000000\n",
       "Operating Income                                       0.000000\n",
       "Operating Margin                                       0.000000\n",
       "Other Assets                                           0.000000\n",
       "Other Current Assets                                   0.000000\n",
       "Other Current Liabilities                              0.000000\n",
       "Other Equity                                           0.000000\n",
       "Other Financing Activities                             0.000000\n",
       "Other Investing Activities                             0.000000\n",
       "Other Liabilities                                      0.000000\n",
       "Ticker Symbol                                          0.000000\n",
       "Length: 78, dtype: float64"
      ]
     },
     "execution_count": 8,
     "metadata": {},
     "output_type": "execute_result"
    }
   ],
   "source": [
    "np.mean(fundamentals.isnull(), axis=0).sort_values(ascending=False)"
   ]
  },
  {
   "cell_type": "code",
   "execution_count": 9,
   "metadata": {
    "collapsed": true
   },
   "outputs": [],
   "source": [
    "url ='https://graderdata.s3.amazonaws.com/prices-split-adjusted.txt'\n",
    "adjusted = pd.read_csv(url, parse_dates= [0])"
   ]
  },
  {
   "cell_type": "code",
   "execution_count": 10,
   "metadata": {
    "collapsed": false
   },
   "outputs": [
    {
     "data": {
      "text/plain": [
       "[dtype('<M8[ns]'),\n",
       " dtype('O'),\n",
       " dtype('float64'),\n",
       " dtype('float64'),\n",
       " dtype('float64'),\n",
       " dtype('float64'),\n",
       " dtype('float64')]"
      ]
     },
     "execution_count": 10,
     "metadata": {},
     "output_type": "execute_result"
    }
   ],
   "source": [
    "map(lambda col: adjusted[col].dtype, adjusted)"
   ]
  },
  {
   "cell_type": "code",
   "execution_count": 29,
   "metadata": {
    "collapsed": false
   },
   "outputs": [
    {
     "data": {
      "text/html": [
       "<div>\n",
       "<style>\n",
       "    .dataframe thead tr:only-child th {\n",
       "        text-align: right;\n",
       "    }\n",
       "\n",
       "    .dataframe thead th {\n",
       "        text-align: left;\n",
       "    }\n",
       "\n",
       "    .dataframe tbody tr th {\n",
       "        vertical-align: top;\n",
       "    }\n",
       "</style>\n",
       "<table border=\"1\" class=\"dataframe\">\n",
       "  <thead>\n",
       "    <tr style=\"text-align: right;\">\n",
       "      <th></th>\n",
       "      <th>Ticker Symbol</th>\n",
       "      <th>Period Ending</th>\n",
       "      <th>Accounts Payable</th>\n",
       "      <th>Accounts Receivable</th>\n",
       "      <th>Add'l income/expense items</th>\n",
       "      <th>After Tax ROE</th>\n",
       "      <th>Capital Expenditures</th>\n",
       "      <th>Capital Surplus</th>\n",
       "      <th>Cash Ratio</th>\n",
       "      <th>Cash and Cash Equivalents</th>\n",
       "      <th>...</th>\n",
       "      <th>Total Current Assets</th>\n",
       "      <th>Total Current Liabilities</th>\n",
       "      <th>Total Equity</th>\n",
       "      <th>Total Liabilities</th>\n",
       "      <th>Total Liabilities &amp; Equity</th>\n",
       "      <th>Total Revenue</th>\n",
       "      <th>Treasury Stock</th>\n",
       "      <th>For Year</th>\n",
       "      <th>Earnings Per Share</th>\n",
       "      <th>Estimated Shares Outstanding</th>\n",
       "    </tr>\n",
       "  </thead>\n",
       "  <tbody>\n",
       "    <tr>\n",
       "      <th>0</th>\n",
       "      <td>AAL</td>\n",
       "      <td>2012-12-31</td>\n",
       "      <td>3.068000e+09</td>\n",
       "      <td>-222000000.0</td>\n",
       "      <td>-1.961000e+09</td>\n",
       "      <td>23.0</td>\n",
       "      <td>-1.888000e+09</td>\n",
       "      <td>4.695000e+09</td>\n",
       "      <td>53.0</td>\n",
       "      <td>1.330000e+09</td>\n",
       "      <td>...</td>\n",
       "      <td>7.072000e+09</td>\n",
       "      <td>9.011000e+09</td>\n",
       "      <td>-7.987000e+09</td>\n",
       "      <td>2.489100e+10</td>\n",
       "      <td>1.690400e+10</td>\n",
       "      <td>2.485500e+10</td>\n",
       "      <td>-367000000.0</td>\n",
       "      <td>2012.0</td>\n",
       "      <td>-5.60</td>\n",
       "      <td>3.350000e+08</td>\n",
       "    </tr>\n",
       "    <tr>\n",
       "      <th>1</th>\n",
       "      <td>AAL</td>\n",
       "      <td>2013-12-31</td>\n",
       "      <td>4.975000e+09</td>\n",
       "      <td>-93000000.0</td>\n",
       "      <td>-2.723000e+09</td>\n",
       "      <td>67.0</td>\n",
       "      <td>-3.114000e+09</td>\n",
       "      <td>1.059200e+10</td>\n",
       "      <td>75.0</td>\n",
       "      <td>2.175000e+09</td>\n",
       "      <td>...</td>\n",
       "      <td>1.432300e+10</td>\n",
       "      <td>1.380600e+10</td>\n",
       "      <td>-2.731000e+09</td>\n",
       "      <td>4.500900e+10</td>\n",
       "      <td>4.227800e+10</td>\n",
       "      <td>2.674300e+10</td>\n",
       "      <td>0.0</td>\n",
       "      <td>2013.0</td>\n",
       "      <td>-11.25</td>\n",
       "      <td>1.630222e+08</td>\n",
       "    </tr>\n",
       "    <tr>\n",
       "      <th>2</th>\n",
       "      <td>AAL</td>\n",
       "      <td>2014-12-31</td>\n",
       "      <td>4.668000e+09</td>\n",
       "      <td>-160000000.0</td>\n",
       "      <td>-1.500000e+08</td>\n",
       "      <td>143.0</td>\n",
       "      <td>-5.311000e+09</td>\n",
       "      <td>1.513500e+10</td>\n",
       "      <td>60.0</td>\n",
       "      <td>1.768000e+09</td>\n",
       "      <td>...</td>\n",
       "      <td>1.175000e+10</td>\n",
       "      <td>1.340400e+10</td>\n",
       "      <td>2.021000e+09</td>\n",
       "      <td>4.120400e+10</td>\n",
       "      <td>4.322500e+10</td>\n",
       "      <td>4.265000e+10</td>\n",
       "      <td>0.0</td>\n",
       "      <td>2014.0</td>\n",
       "      <td>4.02</td>\n",
       "      <td>7.169154e+08</td>\n",
       "    </tr>\n",
       "    <tr>\n",
       "      <th>3</th>\n",
       "      <td>AAL</td>\n",
       "      <td>2015-12-31</td>\n",
       "      <td>5.102000e+09</td>\n",
       "      <td>352000000.0</td>\n",
       "      <td>-7.080000e+08</td>\n",
       "      <td>135.0</td>\n",
       "      <td>-6.151000e+09</td>\n",
       "      <td>1.159100e+10</td>\n",
       "      <td>51.0</td>\n",
       "      <td>1.085000e+09</td>\n",
       "      <td>...</td>\n",
       "      <td>9.985000e+09</td>\n",
       "      <td>1.360500e+10</td>\n",
       "      <td>5.635000e+09</td>\n",
       "      <td>4.278000e+10</td>\n",
       "      <td>4.841500e+10</td>\n",
       "      <td>4.099000e+10</td>\n",
       "      <td>0.0</td>\n",
       "      <td>2015.0</td>\n",
       "      <td>11.39</td>\n",
       "      <td>6.681299e+08</td>\n",
       "    </tr>\n",
       "    <tr>\n",
       "      <th>4</th>\n",
       "      <td>AAP</td>\n",
       "      <td>2012-12-29</td>\n",
       "      <td>2.409453e+09</td>\n",
       "      <td>-89482000.0</td>\n",
       "      <td>6.000000e+05</td>\n",
       "      <td>32.0</td>\n",
       "      <td>-2.711820e+08</td>\n",
       "      <td>5.202150e+08</td>\n",
       "      <td>23.0</td>\n",
       "      <td>5.981110e+08</td>\n",
       "      <td>...</td>\n",
       "      <td>3.184200e+09</td>\n",
       "      <td>2.559638e+09</td>\n",
       "      <td>1.210694e+09</td>\n",
       "      <td>3.403120e+09</td>\n",
       "      <td>4.613814e+09</td>\n",
       "      <td>6.205003e+09</td>\n",
       "      <td>-27095000.0</td>\n",
       "      <td>2012.0</td>\n",
       "      <td>5.29</td>\n",
       "      <td>7.328355e+07</td>\n",
       "    </tr>\n",
       "  </tbody>\n",
       "</table>\n",
       "<p>5 rows × 78 columns</p>\n",
       "</div>"
      ],
      "text/plain": [
       "  Ticker Symbol Period Ending  Accounts Payable  Accounts Receivable  \\\n",
       "0           AAL    2012-12-31      3.068000e+09         -222000000.0   \n",
       "1           AAL    2013-12-31      4.975000e+09          -93000000.0   \n",
       "2           AAL    2014-12-31      4.668000e+09         -160000000.0   \n",
       "3           AAL    2015-12-31      5.102000e+09          352000000.0   \n",
       "4           AAP    2012-12-29      2.409453e+09          -89482000.0   \n",
       "\n",
       "   Add'l income/expense items  After Tax ROE  Capital Expenditures  \\\n",
       "0               -1.961000e+09           23.0         -1.888000e+09   \n",
       "1               -2.723000e+09           67.0         -3.114000e+09   \n",
       "2               -1.500000e+08          143.0         -5.311000e+09   \n",
       "3               -7.080000e+08          135.0         -6.151000e+09   \n",
       "4                6.000000e+05           32.0         -2.711820e+08   \n",
       "\n",
       "   Capital Surplus  Cash Ratio  Cash and Cash Equivalents  \\\n",
       "0     4.695000e+09        53.0               1.330000e+09   \n",
       "1     1.059200e+10        75.0               2.175000e+09   \n",
       "2     1.513500e+10        60.0               1.768000e+09   \n",
       "3     1.159100e+10        51.0               1.085000e+09   \n",
       "4     5.202150e+08        23.0               5.981110e+08   \n",
       "\n",
       "               ...               Total Current Assets  \\\n",
       "0              ...                       7.072000e+09   \n",
       "1              ...                       1.432300e+10   \n",
       "2              ...                       1.175000e+10   \n",
       "3              ...                       9.985000e+09   \n",
       "4              ...                       3.184200e+09   \n",
       "\n",
       "   Total Current Liabilities  Total Equity  Total Liabilities  \\\n",
       "0               9.011000e+09 -7.987000e+09       2.489100e+10   \n",
       "1               1.380600e+10 -2.731000e+09       4.500900e+10   \n",
       "2               1.340400e+10  2.021000e+09       4.120400e+10   \n",
       "3               1.360500e+10  5.635000e+09       4.278000e+10   \n",
       "4               2.559638e+09  1.210694e+09       3.403120e+09   \n",
       "\n",
       "   Total Liabilities & Equity  Total Revenue  Treasury Stock  For Year  \\\n",
       "0                1.690400e+10   2.485500e+10    -367000000.0    2012.0   \n",
       "1                4.227800e+10   2.674300e+10             0.0    2013.0   \n",
       "2                4.322500e+10   4.265000e+10             0.0    2014.0   \n",
       "3                4.841500e+10   4.099000e+10             0.0    2015.0   \n",
       "4                4.613814e+09   6.205003e+09     -27095000.0    2012.0   \n",
       "\n",
       "   Earnings Per Share  Estimated Shares Outstanding  \n",
       "0               -5.60                  3.350000e+08  \n",
       "1              -11.25                  1.630222e+08  \n",
       "2                4.02                  7.169154e+08  \n",
       "3               11.39                  6.681299e+08  \n",
       "4                5.29                  7.328355e+07  \n",
       "\n",
       "[5 rows x 78 columns]"
      ]
     },
     "execution_count": 29,
     "metadata": {},
     "output_type": "execute_result"
    }
   ],
   "source": [
    "fundamentals.head()"
   ]
  },
  {
   "cell_type": "code",
   "execution_count": 32,
   "metadata": {
    "collapsed": false
   },
   "outputs": [],
   "source": [
    "tmp = pd.merge(\n",
    "    securities[['Ticker symbol', 'GICS Sector']],\n",
    "    fundamentals,\n",
    "    how = 'inner',\n",
    "    left_on = 'Ticker symbol',\n",
    "    right_on = 'Ticker Symbol')"
   ]
  },
  {
   "cell_type": "code",
   "execution_count": 74,
   "metadata": {
    "collapsed": false
   },
   "outputs": [
    {
     "data": {
      "text/plain": [
       "GICS Sector\n",
       "Real Estate                     5,235,093,315.0\n",
       "Consumer Discretionary          5,625,190,361.0\n",
       "Materials                       5,810,683,253.0\n",
       "Industrials                     5,965,306,944.0\n",
       "Consumer Staples                8,943,538,114.0\n",
       "Health Care                     9,068,469,186.0\n",
       "Utilities                      11,934,415,479.0\n",
       "Information Technology         12,563,978,084.0\n",
       "Energy                         21,829,732,266.0\n",
       "Telecommunications Services    29,926,253,850.0\n",
       "Financials                     30,475,685,313.0\n",
       "Name: Total Equity, dtype: object"
      ]
     },
     "execution_count": 74,
     "metadata": {},
     "output_type": "execute_result"
    }
   ],
   "source": [
    "col='Total Equity'\n",
    "tmp.groupby('GICS Sector').agg({col: lambda x: np.round(np.mean(x))}).sort_values(col)[col].apply(lambda x: \"{:,}\".format(x))"
   ]
  },
  {
   "cell_type": "code",
   "execution_count": 75,
   "metadata": {
    "collapsed": false
   },
   "outputs": [
    {
     "data": {
      "text/plain": [
       "GICS Sector\n",
       "Real Estate                       624,717,407.0\n",
       "Utilities                       1,698,103,094.0\n",
       "Materials                       2,128,060,474.0\n",
       "Information Technology          3,308,296,709.0\n",
       "Consumer Discretionary          3,500,750,231.0\n",
       "Industrials                     3,621,331,347.0\n",
       "Health Care                     4,043,224,149.0\n",
       "Energy                          5,250,199,508.0\n",
       "Consumer Staples                5,659,070,417.0\n",
       "Telecommunications Services    10,908,116,850.0\n",
       "Financials                     12,804,457,242.0\n",
       "Name: Accounts Payable, dtype: object"
      ]
     },
     "execution_count": 75,
     "metadata": {},
     "output_type": "execute_result"
    }
   ],
   "source": [
    "col='Accounts Payable'\n",
    "tmp.groupby('GICS Sector').agg({col: lambda x: np.round(np.mean(x))}).sort_values(col)[col].apply(lambda x: \"{:,}\".format(x))"
   ]
  },
  {
   "cell_type": "code",
   "execution_count": 76,
   "metadata": {
    "collapsed": false
   },
   "outputs": [
    {
     "data": {
      "text/plain": [
       "GICS Sector\n",
       "Telecommunications Services    -641,509,350.0\n",
       "Health Care                    -243,303,082.0\n",
       "Consumer Discretionary         -121,640,383.0\n",
       "Information Technology          -78,764,295.0\n",
       "Industrials                     -54,737,444.0\n",
       "Materials                       -31,151,832.0\n",
       "Consumer Staples                -22,857,667.0\n",
       "Real Estate                     -18,026,370.0\n",
       "Utilities                       -17,987,177.0\n",
       "Financials                        9,406,858.0\n",
       "Energy                          203,396,952.0\n",
       "Name: Accounts Receivable, dtype: object"
      ]
     },
     "execution_count": 76,
     "metadata": {},
     "output_type": "execute_result"
    }
   ],
   "source": [
    "col= 'Accounts Receivable'\n",
    "tmp.groupby('GICS Sector').agg({col: lambda x: np.round(np.mean(x))}).sort_values(col)[col].apply(lambda x: \"{:,}\".format(x))"
   ]
  },
  {
   "cell_type": "code",
   "execution_count": 78,
   "metadata": {
    "collapsed": false
   },
   "outputs": [
    {
     "data": {
      "text/plain": [
       "GICS Sector\n",
       "Real Estate                      9.0\n",
       "Utilities                       15.0\n",
       "Telecommunications Services     28.0\n",
       "Materials                       32.0\n",
       "Health Care                     40.0\n",
       "Financials                      42.0\n",
       "Energy                          47.0\n",
       "Information Technology          47.0\n",
       "Industrials                     77.0\n",
       "Consumer Discretionary          83.0\n",
       "Consumer Staples               158.0\n",
       "Name: Pre-Tax ROE, dtype: object"
      ]
     },
     "execution_count": 78,
     "metadata": {},
     "output_type": "execute_result"
    }
   ],
   "source": [
    "col= 'Pre-Tax ROE'\n",
    "tmp.groupby('GICS Sector').agg({col: lambda x: np.round(np.mean(x))}).sort_values(col)[col].apply(lambda x: \"{:,}\".format(x))"
   ]
  },
  {
   "cell_type": "code",
   "execution_count": 85,
   "metadata": {
    "collapsed": false
   },
   "outputs": [
    {
     "data": {
      "text/plain": [
       "GICS Sector\n",
       "Utilities                        9.53\n",
       "Real Estate                     11.16\n",
       "Telecommunications Services     18.70\n",
       "Materials                       24.34\n",
       "Financials                      29.15\n",
       "Health Care                     31.13\n",
       "Energy                          33.44\n",
       "Information Technology          37.51\n",
       "Industrials                     54.42\n",
       "Consumer Discretionary          57.66\n",
       "Consumer Staples               120.51\n",
       "Name: After Tax ROE, dtype: float64"
      ]
     },
     "execution_count": 85,
     "metadata": {},
     "output_type": "execute_result"
    }
   ],
   "source": [
    "col = 'After Tax ROE'\n",
    "tmp.groupby('GICS Sector').agg({col: lambda x: np.round(np.mean(x), 2)}).sort_values(col)[col]\n",
    "#.apply(lambda x: \"{:,}\".format(x))"
   ]
  },
  {
   "cell_type": "code",
   "execution_count": 87,
   "metadata": {
    "collapsed": false
   },
   "outputs": [
    {
     "data": {
      "text/plain": [
       "GICS Sector\n",
       "Real Estate                        20,703,703.7\n",
       "Financials                        33,788,203.79\n",
       "Telecommunications Services       225,000,000.0\n",
       "Information Technology           677,477,936.71\n",
       "Utilities                        827,395,593.75\n",
       "Health Care                     1,596,898,500.0\n",
       "Materials                      1,695,822,105.26\n",
       "Energy                         1,798,810,830.65\n",
       "Industrials                    1,942,793,189.52\n",
       "Consumer Discretionary         2,147,112,177.22\n",
       "Consumer Staples               3,825,007,878.79\n",
       "Name: Inventory, dtype: object"
      ]
     },
     "execution_count": 87,
     "metadata": {},
     "output_type": "execute_result"
    }
   ],
   "source": [
    "col = 'Inventory'\n",
    "tmp.groupby('GICS Sector').agg({col: lambda x: np.round(np.mean(x), 2)}).sort_values(col)[col].apply(lambda x: \"{:,}\".format(x))"
   ]
  },
  {
   "cell_type": "code",
   "execution_count": 120,
   "metadata": {
    "collapsed": false
   },
   "outputs": [
    {
     "data": {
      "text/plain": [
       "<matplotlib.collections.PathCollection at 0x11e7181d0>"
      ]
     },
     "execution_count": 120,
     "metadata": {},
     "output_type": "execute_result"
    },
    {
     "data": {
      "image/png": "[encoded data removed]",
      "text/plain": [
       "<matplotlib.figure.Figure at 0x11bc4ab90>"
      ]
     },
     "metadata": {},
     "output_type": "display_data"
    }
   ],
   "source": [
    "import matplotlib.pyplot as plt\n",
    "%matplotlib inline\n",
    "\n",
    "\n",
    "# define the colormap\n",
    "cmap = plt.cm.jet\n",
    "# extract all colors from the .jet map\n",
    "cmaplist = [cmap(i) for i in range(cmap.N)]\n",
    "# create the new map\n",
    "cmap = cmap.from_list('Custom cmap', cmaplist, cmap.N)\n",
    "\n",
    "\n",
    "color = np.argmax(np.array(pd.get_dummies(tmp['GICS Sector'])), axis=1)\n",
    "color = map(lambda x: str(x), color)\n",
    "plt.scatter(tmp['Total Equity'], \n",
    "            tmp['Total Revenue'],\n",
    "            c = color, cmap=cmap)"
   ]
  },
  {
   "cell_type": "code",
   "execution_count": null,
   "metadata": {
    "collapsed": true
   },
   "outputs": [],
   "source": []
  }
 ],
 "metadata": {
  "anaconda-cloud": {},
  "kernelspec": {
   "display_name": "Python [Root]",
   "language": "python",
   "name": "Python [Root]"
  },
  "language_info": {
   "codemirror_mode": {
    "name": "ipython",
    "version": 2
   },
   "file_extension": ".py",
   "mimetype": "text/x-python",
   "name": "python",
   "nbconvert_exporter": "python",
   "pygments_lexer": "ipython2",
   "version": "2.7.11"
  }
 },
 "nbformat": 4,
 "nbformat_minor": 0
}
