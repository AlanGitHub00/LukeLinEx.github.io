{
 "cells": [
  {
   "cell_type": "markdown",
   "metadata": {},
   "source": [
    "- prob 1: remove constant column from securities VVV\n",
    "- prob 2: create a staightified cv/confirm VVV\n",
    "- prob 3: tune rf VVV\n",
    "- prob 4: pca (normalize)? VVV\n",
    "- prob 5: what lasso decides? VVV\n",
    "- prob 6: cluster\n",
    "- prob 7: linear regression"
   ]
  },
  {
   "cell_type": "code",
   "execution_count": 1,
   "metadata": {
    "collapsed": true
   },
   "outputs": [],
   "source": [
    "import numpy as np\n",
    "import pandas as pd\n",
    "from sklearn.linear_model import LinearRegression"
   ]
  },
  {
   "cell_type": "code",
   "execution_count": 2,
   "metadata": {
    "collapsed": true
   },
   "outputs": [],
   "source": [
    "adjusted = pd.read_csv('./input/prices-split-adjusted.csv')\n",
    "fundamentals = pd.read_csv('./input/fundamentals.csv', index_col=0)\n",
    "securities = pd.read_csv('./input/securities.csv')"
   ]
  },
  {
   "cell_type": "code",
   "execution_count": 3,
   "metadata": {
    "collapsed": false
   },
   "outputs": [
    {
     "data": {
      "text/plain": [
       "57"
      ]
     },
     "execution_count": 3,
     "metadata": {},
     "output_type": "execute_result"
    }
   ],
   "source": [
    "len(set(securities['Ticker symbol']) - set(fundamentals['Ticker Symbol']))"
   ]
  },
  {
   "cell_type": "code",
   "execution_count": 4,
   "metadata": {
    "collapsed": false
   },
   "outputs": [
    {
     "name": "stdout",
     "output_type": "stream",
     "text": [
      "Ticker symbol :  MMM\n",
      "Security :  3M Company\n",
      "SEC filings :  reports\n",
      "GICS Sector :  Industrials\n",
      "GICS Sub Industry :  Industrial Conglomerates\n",
      "Address of Headquarters :  St. Paul, Minnesota\n",
      "Date first added :  nan\n",
      "CIK :  66740\n"
     ]
    }
   ],
   "source": [
    "for col in securities.columns:\n",
    "    print col, ': ', securities.loc[0, col]"
   ]
  },
  {
   "cell_type": "markdown",
   "metadata": {},
   "source": [
    "#### Columns in securities; The columns to be kept: Ticker symbol, GICS Sector\n",
    "\n",
    "Ticker symbol :  MMM <br>\n",
    "Security :  3M Company <br>\n",
    "SEC filings :  reports *Everything is reports; useless*<br>\n",
    "GICS Sector :  Industrials *Totally 11 sectors* <br>\n",
    "GICS Sub Industry :  Industrial Conglomerates<br>\n",
    "Address of Headquarters :  St. Paul, Minnesota<br>\n",
    "Date first added :  nan<br>\n",
    "CIK :  66740 **Central Index Key to a company**<br>\n",
    "\n",
    "**Note**: check out `np.mean(securities.isnull())`, no column we used has missingness\n",
    "<br><br><br><br><br><br>\n",
    "\n",
    "---"
   ]
  },
  {
   "cell_type": "code",
   "execution_count": 5,
   "metadata": {
    "collapsed": false
   },
   "outputs": [
    {
     "name": "stdout",
     "output_type": "stream",
     "text": [
      "Ticker Symbol :  AAL\n",
      "Period Ending :  2012-12-31\n",
      "Accounts Payable :  3068000000.0\n",
      "Accounts Receivable :  -222000000.0\n",
      "Add'l income/expense items :  -1961000000.0\n",
      "After Tax ROE :  23.0\n",
      "Capital Expenditures :  -1888000000.0\n",
      "Capital Surplus :  4695000000.0\n",
      "Cash Ratio :  53.0\n",
      "Cash and Cash Equivalents :  1330000000.0\n",
      "Changes in Inventories :  0.0\n",
      "Common Stocks :  127000000.0\n",
      "Cost of Revenue :  10499000000.0\n",
      "Current Ratio :  78.0\n",
      "Deferred Asset Charges :  0.0\n",
      "Deferred Liability Charges :  223000000.0\n",
      "Depreciation :  1001000000.0\n",
      "Earnings Before Interest and Tax :  -1813000000.0\n",
      "Earnings Before Tax :  -2445000000.0\n",
      "Effect of Exchange Rate :  0.0\n",
      "Equity Earnings/Loss Unconsolidated Subsidiary :  0.0\n",
      "Fixed Assets :  13402000000.0\n",
      "Goodwill :  0.0\n",
      "Gross Margin :  58.0\n",
      "Gross Profit :  14356000000.0\n",
      "Income Tax :  -569000000.0\n",
      "Intangible Assets :  869000000.0\n",
      "Interest Expense :  632000000.0\n",
      "Inventory :  580000000.0\n",
      "Investments :  306000000.0\n",
      "Liabilities :  473000000.0\n",
      "Long-Term Debt :  7116000000.0\n",
      "Long-Term Investments :  0.0\n",
      "Minority Interest :  0.0\n",
      "Misc. Stocks :  0.0\n",
      "Net Borrowings :  -1020000000.0\n",
      "Net Cash Flow :  197000000.0\n",
      "Net Cash Flow-Operating :  1285000000.0\n",
      "Net Cash Flows-Financing :  483000000.0\n",
      "Net Cash Flows-Investing :  -1571000000.0\n",
      "Net Income :  -1876000000.0\n",
      "Net Income Adjustments :  2050000000.0\n",
      "Net Income Applicable to Common Shareholders :  -1876000000.0\n",
      "Net Income-Cont. Operations :  -4084000000.0\n",
      "Net Receivables :  1124000000.0\n",
      "Non-Recurring Items :  386000000.0\n",
      "Operating Income :  148000000.0\n",
      "Operating Margin :  1.0\n",
      "Other Assets :  2167000000.0\n",
      "Other Current Assets :  626000000.0\n",
      "Other Current Liabilities :  4524000000.0\n",
      "Other Equity :  -2980000000.0\n",
      "Other Financing Activities :  1509000000.0\n",
      "Other Investing Activities :  11000000.0\n",
      "Other Liabilities :  15147000000.0\n",
      "Other Operating Activities :  -141000000.0\n",
      "Other Operating Items :  845000000.0\n",
      "Pre-Tax Margin :  10.0\n",
      "Pre-Tax ROE :  31.0\n",
      "Profit Margin :  8.0\n",
      "Quick Ratio :  72.0\n",
      "Research and Development :  0.0\n",
      "Retained Earnings :  -9462000000.0\n",
      "Sale and Purchase of Stock :  0.0\n",
      "Sales, General and Admin. :  12977000000.0\n",
      "Short-Term Debt / Current Portion of Long-Term Debt :  1419000000.0\n",
      "Short-Term Investments :  3412000000.0\n",
      "Total Assets :  23510000000.0\n",
      "Total Current Assets :  7072000000.0\n",
      "Total Current Liabilities :  9011000000.0\n",
      "Total Equity :  -7987000000.0\n",
      "Total Liabilities :  24891000000.0\n",
      "Total Liabilities & Equity :  16904000000.0\n",
      "Total Revenue :  24855000000.0\n",
      "Treasury Stock :  -367000000.0\n",
      "For Year :  2012.0\n",
      "Earnings Per Share :  -5.6\n",
      "Estimated Shares Outstanding :  335000000.0\n"
     ]
    }
   ],
   "source": [
    "for col in fundamentals.columns:\n",
    "    print col, ': ', fundamentals.loc[0, col]"
   ]
  },
  {
   "cell_type": "code",
   "execution_count": 6,
   "metadata": {
    "collapsed": false
   },
   "outputs": [
    {
     "data": {
      "text/plain": [
       "[dtype('O'),\n",
       " dtype('O'),\n",
       " dtype('float64'),\n",
       " dtype('float64'),\n",
       " dtype('float64'),\n",
       " dtype('float64'),\n",
       " dtype('float64'),\n",
       " dtype('float64'),\n",
       " dtype('float64'),\n",
       " dtype('float64'),\n",
       " dtype('float64'),\n",
       " dtype('float64'),\n",
       " dtype('float64'),\n",
       " dtype('float64'),\n",
       " dtype('float64'),\n",
       " dtype('float64'),\n",
       " dtype('float64'),\n",
       " dtype('float64'),\n",
       " dtype('float64'),\n",
       " dtype('float64'),\n",
       " dtype('float64'),\n",
       " dtype('float64'),\n",
       " dtype('float64'),\n",
       " dtype('float64'),\n",
       " dtype('float64'),\n",
       " dtype('float64'),\n",
       " dtype('float64'),\n",
       " dtype('float64'),\n",
       " dtype('float64'),\n",
       " dtype('float64'),\n",
       " dtype('float64'),\n",
       " dtype('float64'),\n",
       " dtype('float64'),\n",
       " dtype('float64'),\n",
       " dtype('float64'),\n",
       " dtype('float64'),\n",
       " dtype('float64'),\n",
       " dtype('float64'),\n",
       " dtype('float64'),\n",
       " dtype('float64'),\n",
       " dtype('float64'),\n",
       " dtype('float64'),\n",
       " dtype('float64'),\n",
       " dtype('float64'),\n",
       " dtype('float64'),\n",
       " dtype('float64'),\n",
       " dtype('float64'),\n",
       " dtype('float64'),\n",
       " dtype('float64'),\n",
       " dtype('float64'),\n",
       " dtype('float64'),\n",
       " dtype('float64'),\n",
       " dtype('float64'),\n",
       " dtype('float64'),\n",
       " dtype('float64'),\n",
       " dtype('float64'),\n",
       " dtype('float64'),\n",
       " dtype('float64'),\n",
       " dtype('float64'),\n",
       " dtype('float64'),\n",
       " dtype('float64'),\n",
       " dtype('float64'),\n",
       " dtype('float64'),\n",
       " dtype('float64'),\n",
       " dtype('float64'),\n",
       " dtype('float64'),\n",
       " dtype('float64'),\n",
       " dtype('float64'),\n",
       " dtype('float64'),\n",
       " dtype('float64'),\n",
       " dtype('float64'),\n",
       " dtype('float64'),\n",
       " dtype('float64'),\n",
       " dtype('float64'),\n",
       " dtype('float64'),\n",
       " dtype('float64'),\n",
       " dtype('float64'),\n",
       " dtype('float64')]"
      ]
     },
     "execution_count": 6,
     "metadata": {},
     "output_type": "execute_result"
    }
   ],
   "source": [
    "map(lambda x: fundamentals[x].dtype, fundamentals)"
   ]
  },
  {
   "cell_type": "code",
   "execution_count": 7,
   "metadata": {
    "collapsed": false
   },
   "outputs": [
    {
     "data": {
      "text/plain": [
       "Cash Ratio                                        0.167883\n",
       "Quick Ratio                                       0.167883\n",
       "Current Ratio                                     0.167883\n",
       "Estimated Shares Outstanding                      0.122965\n",
       "Earnings Per Share                                0.122965\n",
       "For Year                                          0.097136\n",
       "Accounts Receivable                               0.000000\n",
       "Equity Earnings/Loss Unconsolidated Subsidiary    0.000000\n",
       "dtype: float64"
      ]
     },
     "execution_count": 7,
     "metadata": {},
     "output_type": "execute_result"
    }
   ],
   "source": [
    "np.mean(fundamentals.isnull()).sort_values(ascending=False).head(8)"
   ]
  },
  {
   "cell_type": "code",
   "execution_count": 8,
   "metadata": {
    "collapsed": false
   },
   "outputs": [
    {
     "name": "stdout",
     "output_type": "stream",
     "text": [
      "219\n",
      "219\n",
      "219\n"
     ]
    }
   ],
   "source": [
    "print np.sum(fundamentals['Estimated Shares Outstanding'].isnull())\n",
    "print np.sum(fundamentals['Earnings Per Share'].isnull())\n",
    "print np.sum(\n",
    "    np.logical_and(fundamentals['Estimated Shares Outstanding'].isnull(),\n",
    "                  fundamentals['Earnings Per Share'].isnull()))"
   ]
  },
  {
   "cell_type": "code",
   "execution_count": 9,
   "metadata": {
    "collapsed": false
   },
   "outputs": [
    {
     "name": "stdout",
     "output_type": "stream",
     "text": [
      "299\n",
      "299\n",
      "299\n",
      "299\n"
     ]
    }
   ],
   "source": [
    "print np.sum(fundamentals['Cash Ratio'].isnull())\n",
    "print np.sum(fundamentals['Quick Ratio'].isnull())\n",
    "print np.sum(fundamentals['Current Ratio'].isnull())\n",
    "print np.sum(\n",
    "    np.logical_and(fundamentals['Cash Ratio'].isnull(),\n",
    "                  np.logical_and(fundamentals['Current Ratio'].isnull(),\n",
    "                                 fundamentals['Quick Ratio'].isnull(), \n",
    "                                )\n",
    "                  )\n",
    ")"
   ]
  },
  {
   "cell_type": "markdown",
   "metadata": {},
   "source": [
    "#### To remove columns with missing values in fundamentals"
   ]
  },
  {
   "cell_type": "code",
   "execution_count": 10,
   "metadata": {
    "collapsed": true
   },
   "outputs": [],
   "source": [
    "to_be_removed = ['Period Ending','Cash Ratio', 'Quick Ratio', 'Current Ratio', \n",
    "                 'Estimated Shares Outstanding', 'Earnings Per Share', 'For Year']"
   ]
  },
  {
   "cell_type": "code",
   "execution_count": 11,
   "metadata": {
    "collapsed": false
   },
   "outputs": [],
   "source": [
    "A = fundamentals[filter(lambda col: col not in to_be_removed, fundamentals)]\n",
    "A = A.groupby('Ticker Symbol').agg(np.mean)\n",
    "\n",
    "A = (A - np.mean(A))/(np.std(A))\n",
    "\n",
    "from sklearn.model_selection import train_test_split\n"
   ]
  },
  {
   "cell_type": "code",
   "execution_count": 12,
   "metadata": {
    "collapsed": false
   },
   "outputs": [
    {
     "data": {
      "text/plain": [
       "(448, 70)"
      ]
     },
     "execution_count": 12,
     "metadata": {},
     "output_type": "execute_result"
    }
   ],
   "source": [
    "from sklearn.decomposition import PCA\n",
    "\n",
    "pca=PCA()\n",
    "\n",
    "var_thres= 1\n",
    "pca.set_params(n_components=None).fit(A)\n",
    "num_col_kept = np.sum(np.cumsum(pca.explained_variance_ratio_)<= var_thres)\n",
    "pca.set_params(n_components=num_col_kept).fit_transform(A).shape"
   ]
  },
  {
   "cell_type": "code",
   "execution_count": 13,
   "metadata": {
    "collapsed": false
   },
   "outputs": [
    {
     "data": {
      "text/html": [
       "<div>\n",
       "<table border=\"1\" class=\"dataframe\">\n",
       "  <thead>\n",
       "    <tr style=\"text-align: right;\">\n",
       "      <th></th>\n",
       "      <th>Ticker Symbol</th>\n",
       "      <th>0</th>\n",
       "      <th>1</th>\n",
       "      <th>2</th>\n",
       "      <th>3</th>\n",
       "      <th>4</th>\n",
       "      <th>5</th>\n",
       "      <th>6</th>\n",
       "      <th>7</th>\n",
       "      <th>8</th>\n",
       "      <th>...</th>\n",
       "      <th>68</th>\n",
       "      <th>69</th>\n",
       "      <th>Ticker symbol</th>\n",
       "      <th>Security</th>\n",
       "      <th>SEC filings</th>\n",
       "      <th>GICS Sector</th>\n",
       "      <th>GICS Sub Industry</th>\n",
       "      <th>Address of Headquarters</th>\n",
       "      <th>Date first added</th>\n",
       "      <th>CIK</th>\n",
       "    </tr>\n",
       "  </thead>\n",
       "  <tbody>\n",
       "    <tr>\n",
       "      <th>0</th>\n",
       "      <td>AAL</td>\n",
       "      <td>0.091236</td>\n",
       "      <td>-0.192824</td>\n",
       "      <td>-0.421920</td>\n",
       "      <td>-0.731943</td>\n",
       "      <td>-0.056808</td>\n",
       "      <td>0.083014</td>\n",
       "      <td>1.155235</td>\n",
       "      <td>0.134944</td>\n",
       "      <td>0.854691</td>\n",
       "      <td>...</td>\n",
       "      <td>0.004029</td>\n",
       "      <td>-1.782231e-15</td>\n",
       "      <td>AAL</td>\n",
       "      <td>American Airlines Group</td>\n",
       "      <td>reports</td>\n",
       "      <td>Industrials</td>\n",
       "      <td>Airlines</td>\n",
       "      <td>Fort Worth, Texas</td>\n",
       "      <td>2015-03-23</td>\n",
       "      <td>6201</td>\n",
       "    </tr>\n",
       "    <tr>\n",
       "      <th>1</th>\n",
       "      <td>AAP</td>\n",
       "      <td>-1.760770</td>\n",
       "      <td>0.178400</td>\n",
       "      <td>0.426863</td>\n",
       "      <td>-0.631500</td>\n",
       "      <td>0.838106</td>\n",
       "      <td>-0.357378</td>\n",
       "      <td>0.426649</td>\n",
       "      <td>-0.245079</td>\n",
       "      <td>-0.006634</td>\n",
       "      <td>...</td>\n",
       "      <td>-0.000014</td>\n",
       "      <td>1.372555e-15</td>\n",
       "      <td>AAP</td>\n",
       "      <td>Advance Auto Parts</td>\n",
       "      <td>reports</td>\n",
       "      <td>Consumer Discretionary</td>\n",
       "      <td>Automotive Retail</td>\n",
       "      <td>Roanoke, Virginia</td>\n",
       "      <td>2015-07-09</td>\n",
       "      <td>1158449</td>\n",
       "    </tr>\n",
       "    <tr>\n",
       "      <th>2</th>\n",
       "      <td>AAPL</td>\n",
       "      <td>28.025995</td>\n",
       "      <td>-16.966716</td>\n",
       "      <td>8.131442</td>\n",
       "      <td>-2.079819</td>\n",
       "      <td>-13.702672</td>\n",
       "      <td>-4.053312</td>\n",
       "      <td>2.634507</td>\n",
       "      <td>-4.984420</td>\n",
       "      <td>-5.672015</td>\n",
       "      <td>...</td>\n",
       "      <td>0.000156</td>\n",
       "      <td>4.907972e-16</td>\n",
       "      <td>AAPL</td>\n",
       "      <td>Apple Inc.</td>\n",
       "      <td>reports</td>\n",
       "      <td>Information Technology</td>\n",
       "      <td>Computer Hardware</td>\n",
       "      <td>Cupertino, California</td>\n",
       "      <td>1982-11-30</td>\n",
       "      <td>320193</td>\n",
       "    </tr>\n",
       "    <tr>\n",
       "      <th>3</th>\n",
       "      <td>ABBV</td>\n",
       "      <td>1.081855</td>\n",
       "      <td>-1.499546</td>\n",
       "      <td>0.032877</td>\n",
       "      <td>-0.330233</td>\n",
       "      <td>-3.510270</td>\n",
       "      <td>-0.978523</td>\n",
       "      <td>-0.774417</td>\n",
       "      <td>-1.054031</td>\n",
       "      <td>3.363047</td>\n",
       "      <td>...</td>\n",
       "      <td>0.000375</td>\n",
       "      <td>2.550840e-16</td>\n",
       "      <td>ABBV</td>\n",
       "      <td>AbbVie</td>\n",
       "      <td>reports</td>\n",
       "      <td>Health Care</td>\n",
       "      <td>Pharmaceuticals</td>\n",
       "      <td>North Chicago, Illinois</td>\n",
       "      <td>2012-12-31</td>\n",
       "      <td>1551152</td>\n",
       "    </tr>\n",
       "    <tr>\n",
       "      <th>4</th>\n",
       "      <td>ABC</td>\n",
       "      <td>0.419835</td>\n",
       "      <td>-2.291840</td>\n",
       "      <td>1.818999</td>\n",
       "      <td>-4.424983</td>\n",
       "      <td>1.809160</td>\n",
       "      <td>-0.771868</td>\n",
       "      <td>0.059354</td>\n",
       "      <td>-0.332733</td>\n",
       "      <td>3.372119</td>\n",
       "      <td>...</td>\n",
       "      <td>-0.000085</td>\n",
       "      <td>2.830095e-16</td>\n",
       "      <td>ABC</td>\n",
       "      <td>AmerisourceBergen Corp</td>\n",
       "      <td>reports</td>\n",
       "      <td>Health Care</td>\n",
       "      <td>Health Care Distributors</td>\n",
       "      <td>Chesterbrook, Pennsylvania</td>\n",
       "      <td>NaN</td>\n",
       "      <td>1140859</td>\n",
       "    </tr>\n",
       "  </tbody>\n",
       "</table>\n",
       "<p>5 rows × 79 columns</p>\n",
       "</div>"
      ],
      "text/plain": [
       "  Ticker Symbol          0          1         2         3          4  \\\n",
       "0           AAL   0.091236  -0.192824 -0.421920 -0.731943  -0.056808   \n",
       "1           AAP  -1.760770   0.178400  0.426863 -0.631500   0.838106   \n",
       "2          AAPL  28.025995 -16.966716  8.131442 -2.079819 -13.702672   \n",
       "3          ABBV   1.081855  -1.499546  0.032877 -0.330233  -3.510270   \n",
       "4           ABC   0.419835  -2.291840  1.818999 -4.424983   1.809160   \n",
       "\n",
       "          5         6         7         8   ...           68            69  \\\n",
       "0  0.083014  1.155235  0.134944  0.854691   ...     0.004029 -1.782231e-15   \n",
       "1 -0.357378  0.426649 -0.245079 -0.006634   ...    -0.000014  1.372555e-15   \n",
       "2 -4.053312  2.634507 -4.984420 -5.672015   ...     0.000156  4.907972e-16   \n",
       "3 -0.978523 -0.774417 -1.054031  3.363047   ...     0.000375  2.550840e-16   \n",
       "4 -0.771868  0.059354 -0.332733  3.372119   ...    -0.000085  2.830095e-16   \n",
       "\n",
       "   Ticker symbol                 Security  SEC filings  \\\n",
       "0            AAL  American Airlines Group      reports   \n",
       "1            AAP       Advance Auto Parts      reports   \n",
       "2           AAPL               Apple Inc.      reports   \n",
       "3           ABBV                   AbbVie      reports   \n",
       "4            ABC   AmerisourceBergen Corp      reports   \n",
       "\n",
       "              GICS Sector         GICS Sub Industry  \\\n",
       "0             Industrials                  Airlines   \n",
       "1  Consumer Discretionary         Automotive Retail   \n",
       "2  Information Technology         Computer Hardware   \n",
       "3             Health Care           Pharmaceuticals   \n",
       "4             Health Care  Health Care Distributors   \n",
       "\n",
       "      Address of Headquarters  Date first added      CIK  \n",
       "0           Fort Worth, Texas        2015-03-23     6201  \n",
       "1           Roanoke, Virginia        2015-07-09  1158449  \n",
       "2       Cupertino, California        1982-11-30   320193  \n",
       "3     North Chicago, Illinois        2012-12-31  1551152  \n",
       "4  Chesterbrook, Pennsylvania               NaN  1140859  \n",
       "\n",
       "[5 rows x 79 columns]"
      ]
     },
     "execution_count": 13,
     "metadata": {},
     "output_type": "execute_result"
    }
   ],
   "source": [
    "data = pca.set_params(n_components=num_col_kept).fit_transform(A)\n",
    "data = pd.DataFrame(data, index = A.index)\n",
    "data = pd.merge(data.reset_index(), securities, how='left', left_on='Ticker Symbol', right_on='Ticker symbol')\n",
    "data.head()"
   ]
  },
  {
   "cell_type": "code",
   "execution_count": 14,
   "metadata": {
    "collapsed": false
   },
   "outputs": [],
   "source": [
    "ticker = data['Ticker Symbol']\n",
    "X = data.iloc[:, range(1, num_col_kept+1)]\n",
    "y = data['GICS Sector']"
   ]
  },
  {
   "cell_type": "code",
   "execution_count": 15,
   "metadata": {
    "collapsed": false
   },
   "outputs": [
    {
     "data": {
      "text/plain": [
       "0.9241071428571429"
      ]
     },
     "execution_count": 15,
     "metadata": {},
     "output_type": "execute_result"
    }
   ],
   "source": [
    "from sklearn.linear_model import LogisticRegression\n",
    "\n",
    "logit = LogisticRegression(C=1e6)\n",
    "logit.fit(X, y)\n",
    "logit.score(X, y)"
   ]
  },
  {
   "cell_type": "code",
   "execution_count": 16,
   "metadata": {
    "collapsed": false
   },
   "outputs": [
    {
     "data": {
      "text/plain": [
       "0.7276785714285714"
      ]
     },
     "execution_count": 16,
     "metadata": {},
     "output_type": "execute_result"
    }
   ],
   "source": [
    "data = A\n",
    "data = pd.merge(data.reset_index(), securities, how='left', left_on='Ticker Symbol', right_on='Ticker symbol')\n",
    "\n",
    "ticker = data['Ticker Symbol']\n",
    "X = data.iloc[:, range(1, num_col_kept+1)]\n",
    "y = data['GICS Sector']\n",
    "\n",
    "from sklearn.linear_model import LogisticRegression\n",
    "\n",
    "logit = LogisticRegression(penalty='l1', C=1)\n",
    "logit.fit(X, y)\n",
    "logit.score(X, y)"
   ]
  },
  {
   "cell_type": "code",
   "execution_count": 17,
   "metadata": {
    "collapsed": false
   },
   "outputs": [
    {
     "data": {
      "text/plain": [
       "Research and Development                               12.080533\n",
       "Sale and Purchase of Stock                              9.127711\n",
       "Fixed Assets                                            8.632982\n",
       "Profit Margin                                           6.408596\n",
       "Pre-Tax Margin                                          6.378511\n",
       "Inventory                                               5.737948\n",
       "Cost of Revenue                                         5.663565\n",
       "Intangible Assets                                       5.646524\n",
       "Deferred Liability Charges                              5.552055\n",
       "Operating Margin                                        5.331459\n",
       "Other Operating Items                                   5.320654\n",
       "Depreciation                                            5.249867\n",
       "Goodwill                                                5.035747\n",
       "Interest Expense                                        4.814093\n",
       "Capital Expenditures                                    4.368006\n",
       "Sales, General and Admin.                               4.327878\n",
       "Net Receivables                                         4.224208\n",
       "Long-Term Investments                                   4.097190\n",
       "Gross Margin                                            4.074358\n",
       "Retained Earnings                                       3.904857\n",
       "Total Current Assets                                    3.557769\n",
       "Capital Surplus                                         3.361254\n",
       "Deferred Asset Charges                                  3.319860\n",
       "Other Liabilities                                       3.299354\n",
       "Misc. Stocks                                            3.233016\n",
       "Total Revenue                                           3.211143\n",
       "Other Equity                                            3.076878\n",
       "Accounts Receivable                                     2.977289\n",
       "Net Cash Flow                                           2.942302\n",
       "Changes in Inventories                                  2.928253\n",
       "                                                         ...    \n",
       "Income Tax                                              1.349419\n",
       "Add'l income/expense items                              1.223392\n",
       "Other Investing Activities                              1.194247\n",
       "Earnings Before Interest and Tax                        1.107618\n",
       "Treasury Stock                                          1.016050\n",
       "Liabilities                                             0.978898\n",
       "Other Current Liabilities                               0.900202\n",
       "Equity Earnings/Loss Unconsolidated Subsidiary          0.723798\n",
       "Effect of Exchange Rate                                 0.689622\n",
       "Pre-Tax ROE                                             0.655451\n",
       "Net Income Adjustments                                  0.576449\n",
       "Total Equity                                            0.528540\n",
       "Other Financing Activities                              0.494417\n",
       "Investments                                             0.273436\n",
       "Net Borrowings                                          0.233175\n",
       "Cash and Cash Equivalents                               0.104368\n",
       "Total Liabilities                                       0.049326\n",
       "Net Cash Flows-Financing                                0.000000\n",
       "Earnings Before Tax                                     0.000000\n",
       "Net Cash Flow-Operating                                 0.000000\n",
       "Net Cash Flows-Investing                                0.000000\n",
       "Net Income                                              0.000000\n",
       "Net Income Applicable to Common Shareholders            0.000000\n",
       "Net Income-Cont. Operations                             0.000000\n",
       "Operating Income                                        0.000000\n",
       "Other Operating Activities                              0.000000\n",
       "Short-Term Debt / Current Portion of Long-Term Debt     0.000000\n",
       "Total Assets                                            0.000000\n",
       "Total Liabilities & Equity                              0.000000\n",
       "Accounts Payable                                        0.000000\n",
       "dtype: float64"
      ]
     },
     "execution_count": 17,
     "metadata": {},
     "output_type": "execute_result"
    }
   ],
   "source": [
    "np.sum(np.abs(pd.DataFrame(logit.coef_, columns=X.columns))).sort_values(ascending=False)"
   ]
  },
  {
   "cell_type": "code",
   "execution_count": 18,
   "metadata": {
    "collapsed": false
   },
   "outputs": [],
   "source": [
    "import matplotlib.pyplot as plt\n",
    "import seaborn as sns\n",
    "%matplotlib inline"
   ]
  },
  {
   "cell_type": "code",
   "execution_count": 19,
   "metadata": {
    "collapsed": false
   },
   "outputs": [
    {
     "data": {
      "text/plain": [
       "(-1, 2)"
      ]
     },
     "execution_count": 19,
     "metadata": {},
     "output_type": "execute_result"
    },
    {
     "data": {
      "image/png": "[encoded data removed]",
      "text/plain": [
       "<matplotlib.figure.Figure at 0x1145c2f10>"
      ]
     },
     "metadata": {},
     "output_type": "display_data"
    }
   ],
   "source": [
    "ax = sns.boxplot(y='GICS Sector', x=\"Research and Development\", \n",
    "                 data=pd.concat([X, y], axis=1), orient='h')\n",
    "plt.xlim(-1,2)"
   ]
  },
  {
   "cell_type": "code",
   "execution_count": 20,
   "metadata": {
    "collapsed": false
   },
   "outputs": [
    {
     "data": {
      "text/plain": [
       "(-4, 2)"
      ]
     },
     "execution_count": 20,
     "metadata": {},
     "output_type": "execute_result"
    },
    {
     "data": {
      "image/png": "[encoded data removed]",
      "text/plain": [
       "<matplotlib.figure.Figure at 0x119103c50>"
      ]
     },
     "metadata": {},
     "output_type": "display_data"
    }
   ],
   "source": [
    "ax = sns.boxplot(y='GICS Sector', x=\"Sale and Purchase of Stock\", \n",
    "                 data=pd.concat([X, y], axis=1), orient='h')\n",
    "\n",
    "plt.xlim(-4,2)"
   ]
  },
  {
   "cell_type": "code",
   "execution_count": 21,
   "metadata": {
    "collapsed": false
   },
   "outputs": [
    {
     "data": {
      "image/png": "[encoded data removed]",
      "text/plain": [
       "<matplotlib.figure.Figure at 0x1191039d0>"
      ]
     },
     "metadata": {},
     "output_type": "display_data"
    }
   ],
   "source": [
    "#Fixed Assets\n",
    "ax = sns.boxplot(y='GICS Sector', x=\"Fixed Assets\", \n",
    "                 data=pd.concat([X, y], axis=1), orient='h')"
   ]
  },
  {
   "cell_type": "code",
   "execution_count": 22,
   "metadata": {
    "collapsed": false
   },
   "outputs": [
    {
     "data": {
      "image/png": "[encoded data removed]",
      "text/plain": [
       "<matplotlib.figure.Figure at 0x119103910>"
      ]
     },
     "metadata": {},
     "output_type": "display_data"
    }
   ],
   "source": [
    "#Earnings Before Tax \n",
    "ax = sns.boxplot(y='GICS Sector', x=\"Earnings Before Tax\", \n",
    "                 data=pd.concat([X, y], axis=1), orient='h')"
   ]
  },
  {
   "cell_type": "code",
   "execution_count": 23,
   "metadata": {
    "collapsed": true
   },
   "outputs": [],
   "source": [
    "from sklearn.ensemble import RandomForestClassifier"
   ]
  },
  {
   "cell_type": "code",
   "execution_count": 24,
   "metadata": {
    "collapsed": false
   },
   "outputs": [
    {
     "data": {
      "text/plain": [
       "0.9888392857142857"
      ]
     },
     "execution_count": 24,
     "metadata": {},
     "output_type": "execute_result"
    }
   ],
   "source": [
    "rf = RandomForestClassifier()\n",
    "rf.fit(X, y)\n",
    "rf.score(X, y)"
   ]
  },
  {
   "cell_type": "code",
   "execution_count": 31,
   "metadata": {
    "collapsed": false
   },
   "outputs": [
    {
     "data": {
      "text/plain": [
       "[('Research and Development', 0.046908761307086946),\n",
       " ('Total Current Liabilities', 0.040402743439420255),\n",
       " ('Inventory', 0.033686421840449905),\n",
       " ('Sales, General and Admin.', 0.025612566766867122),\n",
       " ('Intangible Assets', 0.024807913842653774),\n",
       " ('Fixed Assets', 0.024041775568260648),\n",
       " ('Other Assets', 0.02395669230831806),\n",
       " ('Liabilities', 0.021814770632884756),\n",
       " ('Operating Margin', 0.021525238786506386),\n",
       " ('Long-Term Investments', 0.02081332598444547),\n",
       " ('Cost of Revenue', 0.0206195064049042),\n",
       " ('Other Equity', 0.020367571854406526),\n",
       " ('Other Investing Activities', 0.01950717279227834),\n",
       " ('Other Current Assets', 0.019363025420838981),\n",
       " ('Total Current Assets', 0.018964784093508429),\n",
       " ('Profit Margin', 0.017984016354534203),\n",
       " ('Deferred Liability Charges', 0.017564784196474222),\n",
       " ('Operating Income', 0.016258595971887883),\n",
       " ('Net Income', 0.016170924540799575),\n",
       " ('Short-Term Investments', 0.016151569311378188),\n",
       " ('Other Operating Items', 0.016084444047220196),\n",
       " ('Changes in Inventories', 0.016077592455321556),\n",
       " ('Non-Recurring Items', 0.01604326205667795),\n",
       " ('Accounts Receivable', 0.015286508705801458),\n",
       " ('Pre-Tax ROE', 0.01516925269784542),\n",
       " ('Interest Expense', 0.01501588689224298),\n",
       " ('Income Tax', 0.014986390542029094),\n",
       " ('Total Liabilities', 0.014938912001160997),\n",
       " ('Capital Expenditures', 0.014733983448150471),\n",
       " ('Net Receivables', 0.014636971524280017),\n",
       " ('Net Income-Cont. Operations', 0.014574609563794458),\n",
       " ('Retained Earnings', 0.014114348755321532),\n",
       " ('Sale and Purchase of Stock', 0.013979981315252585),\n",
       " ('Short-Term Debt / Current Portion of Long-Term Debt', 0.013852931392292118),\n",
       " ('Other Liabilities', 0.013264439214813758),\n",
       " ('Cash and Cash Equivalents', 0.01285360366429061),\n",
       " ('Net Cash Flows-Investing', 0.012807230064603849),\n",
       " ('Effect of Exchange Rate', 0.012217376788370584),\n",
       " ('Investments', 0.011775494923300239),\n",
       " ('Minority Interest', 0.011760076917715488),\n",
       " ('Net Income Adjustments', 0.011382909560726075),\n",
       " ('Other Operating Activities', 0.011356235131874819),\n",
       " ('Goodwill', 0.011335222157227338),\n",
       " ('Total Equity', 0.011199217190895411),\n",
       " ('Net Income Applicable to Common Shareholders', 0.011124801544078335),\n",
       " ('Net Cash Flow', 0.010904982353928038),\n",
       " ('Net Cash Flows-Financing', 0.010548907112615965),\n",
       " ('After Tax ROE', 0.010150797428590749),\n",
       " (\"Add'l income/expense items\", 0.0099513443257391275),\n",
       " ('Accounts Payable', 0.009653341273020536),\n",
       " ('Common Stocks', 0.0092706685841852949),\n",
       " ('Net Cash Flow-Operating', 0.0087099025471328688),\n",
       " ('Gross Margin', 0.0085127113092224385),\n",
       " ('Earnings Before Interest and Tax', 0.0083321767222601512),\n",
       " ('Pre-Tax Margin', 0.0081683304248731225),\n",
       " ('Treasury Stock', 0.0081639461407340633),\n",
       " ('Total Revenue', 0.0079876664049317956),\n",
       " ('Depreciation', 0.0076860372718394994),\n",
       " ('Other Current Liabilities', 0.0075330951965978639),\n",
       " ('Total Liabilities & Equity', 0.0075329423697010137),\n",
       " ('Other Financing Activities', 0.007473232043801117),\n",
       " ('Net Borrowings', 0.0074550945133739065),\n",
       " ('Earnings Before Tax', 0.0074216306881033107),\n",
       " ('Gross Profit', 0.0072989458753120878),\n",
       " ('Capital Surplus', 0.0072105087833219074),\n",
       " ('Equity Earnings/Loss Unconsolidated Subsidiary', 0.006583386349864247),\n",
       " ('Deferred Asset Charges', 0.0057903064615307271),\n",
       " ('Long-Term Debt', 0.005736425167341074),\n",
       " ('Total Assets', 0.0037131025803118479),\n",
       " ('Misc. Stocks', 0.0011166740984760184)]"
      ]
     },
     "execution_count": 31,
     "metadata": {},
     "output_type": "execute_result"
    }
   ],
   "source": [
    "sorted(zip(X.columns, rf.feature_importances_), key=lambda x: -x[1])"
   ]
  },
  {
   "cell_type": "code",
   "execution_count": 32,
   "metadata": {
    "collapsed": true
   },
   "outputs": [],
   "source": [
    "rf = RandomForestClassifier()"
   ]
  },
  {
   "cell_type": "code",
   "execution_count": 33,
   "metadata": {
    "collapsed": false
   },
   "outputs": [
    {
     "data": {
      "text/plain": [
       "RandomForestClassifier(bootstrap=True, class_weight=None, criterion='gini',\n",
       "            max_depth=None, max_features='auto', max_leaf_nodes=None,\n",
       "            min_impurity_split=1e-07, min_samples_leaf=1,\n",
       "            min_samples_split=2, min_weight_fraction_leaf=0.0,\n",
       "            n_estimators=10, n_jobs=1, oob_score=False, random_state=None,\n",
       "            verbose=0, warm_start=False)"
      ]
     },
     "execution_count": 33,
     "metadata": {},
     "output_type": "execute_result"
    }
   ],
   "source": [
    "rf.fit(X, y)"
   ]
  },
  {
   "cell_type": "code",
   "execution_count": 34,
   "metadata": {
    "collapsed": false
   },
   "outputs": [
    {
     "name": "stdout",
     "output_type": "stream",
     "text": [
      "Help on RandomForestClassifier in module sklearn.ensemble.forest object:\n",
      "\n",
      "class RandomForestClassifier(ForestClassifier)\n",
      " |  A random forest classifier.\n",
      " |  \n",
      " |  A random forest is a meta estimator that fits a number of decision tree\n",
      " |  classifiers on various sub-samples of the dataset and use averaging to\n",
      " |  improve the predictive accuracy and control over-fitting.\n",
      " |  The sub-sample size is always the same as the original\n",
      " |  input sample size but the samples are drawn with replacement if\n",
      " |  `bootstrap=True` (default).\n",
      " |  \n",
      " |  Read more in the :ref:`User Guide <forest>`.\n",
      " |  \n",
      " |  Parameters\n",
      " |  ----------\n",
      " |  n_estimators : integer, optional (default=10)\n",
      " |      The number of trees in the forest.\n",
      " |  \n",
      " |  criterion : string, optional (default=\"gini\")\n",
      " |      The function to measure the quality of a split. Supported criteria are\n",
      " |      \"gini\" for the Gini impurity and \"entropy\" for the information gain.\n",
      " |      Note: this parameter is tree-specific.\n",
      " |  \n",
      " |  max_features : int, float, string or None, optional (default=\"auto\")\n",
      " |      The number of features to consider when looking for the best split:\n",
      " |  \n",
      " |      - If int, then consider `max_features` features at each split.\n",
      " |      - If float, then `max_features` is a percentage and\n",
      " |        `int(max_features * n_features)` features are considered at each\n",
      " |        split.\n",
      " |      - If \"auto\", then `max_features=sqrt(n_features)`.\n",
      " |      - If \"sqrt\", then `max_features=sqrt(n_features)` (same as \"auto\").\n",
      " |      - If \"log2\", then `max_features=log2(n_features)`.\n",
      " |      - If None, then `max_features=n_features`.\n",
      " |  \n",
      " |      Note: the search for a split does not stop until at least one\n",
      " |      valid partition of the node samples is found, even if it requires to\n",
      " |      effectively inspect more than ``max_features`` features.\n",
      " |  \n",
      " |  max_depth : integer or None, optional (default=None)\n",
      " |      The maximum depth of the tree. If None, then nodes are expanded until\n",
      " |      all leaves are pure or until all leaves contain less than\n",
      " |      min_samples_split samples.\n",
      " |  \n",
      " |  min_samples_split : int, float, optional (default=2)\n",
      " |      The minimum number of samples required to split an internal node:\n",
      " |  \n",
      " |      - If int, then consider `min_samples_split` as the minimum number.\n",
      " |      - If float, then `min_samples_split` is a percentage and\n",
      " |        `ceil(min_samples_split * n_samples)` are the minimum\n",
      " |        number of samples for each split.\n",
      " |  \n",
      " |      .. versionchanged:: 0.18\n",
      " |         Added float values for percentages.\n",
      " |  \n",
      " |  min_samples_leaf : int, float, optional (default=1)\n",
      " |      The minimum number of samples required to be at a leaf node:\n",
      " |  \n",
      " |      - If int, then consider `min_samples_leaf` as the minimum number.\n",
      " |      - If float, then `min_samples_leaf` is a percentage and\n",
      " |        `ceil(min_samples_leaf * n_samples)` are the minimum\n",
      " |        number of samples for each node.\n",
      " |  \n",
      " |      .. versionchanged:: 0.18\n",
      " |         Added float values for percentages.\n",
      " |  \n",
      " |  min_weight_fraction_leaf : float, optional (default=0.)\n",
      " |      The minimum weighted fraction of the sum total of weights (of all\n",
      " |      the input samples) required to be at a leaf node. Samples have\n",
      " |      equal weight when sample_weight is not provided.\n",
      " |  \n",
      " |  max_leaf_nodes : int or None, optional (default=None)\n",
      " |      Grow trees with ``max_leaf_nodes`` in best-first fashion.\n",
      " |      Best nodes are defined as relative reduction in impurity.\n",
      " |      If None then unlimited number of leaf nodes.\n",
      " |  \n",
      " |  min_impurity_split : float, optional (default=1e-7)\n",
      " |      Threshold for early stopping in tree growth. A node will split\n",
      " |      if its impurity is above the threshold, otherwise it is a leaf.\n",
      " |  \n",
      " |      .. versionadded:: 0.18\n",
      " |  \n",
      " |  bootstrap : boolean, optional (default=True)\n",
      " |      Whether bootstrap samples are used when building trees.\n",
      " |  \n",
      " |  oob_score : bool (default=False)\n",
      " |      Whether to use out-of-bag samples to estimate\n",
      " |      the generalization accuracy.\n",
      " |  \n",
      " |  n_jobs : integer, optional (default=1)\n",
      " |      The number of jobs to run in parallel for both `fit` and `predict`.\n",
      " |      If -1, then the number of jobs is set to the number of cores.\n",
      " |  \n",
      " |  random_state : int, RandomState instance or None, optional (default=None)\n",
      " |      If int, random_state is the seed used by the random number generator;\n",
      " |      If RandomState instance, random_state is the random number generator;\n",
      " |      If None, the random number generator is the RandomState instance used\n",
      " |      by `np.random`.\n",
      " |  \n",
      " |  verbose : int, optional (default=0)\n",
      " |      Controls the verbosity of the tree building process.\n",
      " |  \n",
      " |  warm_start : bool, optional (default=False)\n",
      " |      When set to ``True``, reuse the solution of the previous call to fit\n",
      " |      and add more estimators to the ensemble, otherwise, just fit a whole\n",
      " |      new forest.\n",
      " |  \n",
      " |  class_weight : dict, list of dicts, \"balanced\",\n",
      " |      \"balanced_subsample\" or None, optional (default=None)\n",
      " |      Weights associated with classes in the form ``{class_label: weight}``.\n",
      " |      If not given, all classes are supposed to have weight one. For\n",
      " |      multi-output problems, a list of dicts can be provided in the same\n",
      " |      order as the columns of y.\n",
      " |  \n",
      " |      The \"balanced\" mode uses the values of y to automatically adjust\n",
      " |      weights inversely proportional to class frequencies in the input data\n",
      " |      as ``n_samples / (n_classes * np.bincount(y))``\n",
      " |  \n",
      " |      The \"balanced_subsample\" mode is the same as \"balanced\" except that\n",
      " |      weights are computed based on the bootstrap sample for every tree\n",
      " |      grown.\n",
      " |  \n",
      " |      For multi-output, the weights of each column of y will be multiplied.\n",
      " |  \n",
      " |      Note that these weights will be multiplied with sample_weight (passed\n",
      " |      through the fit method) if sample_weight is specified.\n",
      " |  \n",
      " |  Attributes\n",
      " |  ----------\n",
      " |  estimators_ : list of DecisionTreeClassifier\n",
      " |      The collection of fitted sub-estimators.\n",
      " |  \n",
      " |  classes_ : array of shape = [n_classes] or a list of such arrays\n",
      " |      The classes labels (single output problem), or a list of arrays of\n",
      " |      class labels (multi-output problem).\n",
      " |  \n",
      " |  n_classes_ : int or list\n",
      " |      The number of classes (single output problem), or a list containing the\n",
      " |      number of classes for each output (multi-output problem).\n",
      " |  \n",
      " |  n_features_ : int\n",
      " |      The number of features when ``fit`` is performed.\n",
      " |  \n",
      " |  n_outputs_ : int\n",
      " |      The number of outputs when ``fit`` is performed.\n",
      " |  \n",
      " |  feature_importances_ : array of shape = [n_features]\n",
      " |      The feature importances (the higher, the more important the feature).\n",
      " |  \n",
      " |  oob_score_ : float\n",
      " |      Score of the training dataset obtained using an out-of-bag estimate.\n",
      " |  \n",
      " |  oob_decision_function_ : array of shape = [n_samples, n_classes]\n",
      " |      Decision function computed with out-of-bag estimate on the training\n",
      " |      set. If n_estimators is small it might be possible that a data point\n",
      " |      was never left out during the bootstrap. In this case,\n",
      " |      `oob_decision_function_` might contain NaN.\n",
      " |  \n",
      " |  References\n",
      " |  ----------\n",
      " |  \n",
      " |  .. [1] L. Breiman, \"Random Forests\", Machine Learning, 45(1), 5-32, 2001.\n",
      " |  \n",
      " |  See also\n",
      " |  --------\n",
      " |  DecisionTreeClassifier, ExtraTreesClassifier\n",
      " |  \n",
      " |  Method resolution order:\n",
      " |      RandomForestClassifier\n",
      " |      ForestClassifier\n",
      " |      abc.NewBase\n",
      " |      BaseForest\n",
      " |      abc.NewBase\n",
      " |      sklearn.ensemble.base.BaseEnsemble\n",
      " |      sklearn.base.BaseEstimator\n",
      " |      sklearn.base.MetaEstimatorMixin\n",
      " |      sklearn.feature_selection.from_model._LearntSelectorMixin\n",
      " |      sklearn.base.TransformerMixin\n",
      " |      sklearn.base.ClassifierMixin\n",
      " |      __builtin__.object\n",
      " |  \n",
      " |  Methods defined here:\n",
      " |  \n",
      " |  __init__(self, n_estimators=10, criterion='gini', max_depth=None, min_samples_split=2, min_samples_leaf=1, min_weight_fraction_leaf=0.0, max_features='auto', max_leaf_nodes=None, min_impurity_split=1e-07, bootstrap=True, oob_score=False, n_jobs=1, random_state=None, verbose=0, warm_start=False, class_weight=None)\n",
      " |  \n",
      " |  ----------------------------------------------------------------------\n",
      " |  Data and other attributes defined here:\n",
      " |  \n",
      " |  __abstractmethods__ = frozenset([])\n",
      " |  \n",
      " |  ----------------------------------------------------------------------\n",
      " |  Methods inherited from ForestClassifier:\n",
      " |  \n",
      " |  predict(self, X)\n",
      " |      Predict class for X.\n",
      " |      \n",
      " |      The predicted class of an input sample is a vote by the trees in\n",
      " |      the forest, weighted by their probability estimates. That is,\n",
      " |      the predicted class is the one with highest mean probability\n",
      " |      estimate across the trees.\n",
      " |      \n",
      " |      Parameters\n",
      " |      ----------\n",
      " |      X : array-like or sparse matrix of shape = [n_samples, n_features]\n",
      " |          The input samples. Internally, its dtype will be converted to\n",
      " |          ``dtype=np.float32``. If a sparse matrix is provided, it will be\n",
      " |          converted into a sparse ``csr_matrix``.\n",
      " |      \n",
      " |      Returns\n",
      " |      -------\n",
      " |      y : array of shape = [n_samples] or [n_samples, n_outputs]\n",
      " |          The predicted classes.\n",
      " |  \n",
      " |  predict_log_proba(self, X)\n",
      " |      Predict class log-probabilities for X.\n",
      " |      \n",
      " |      The predicted class log-probabilities of an input sample is computed as\n",
      " |      the log of the mean predicted class probabilities of the trees in the\n",
      " |      forest.\n",
      " |      \n",
      " |      Parameters\n",
      " |      ----------\n",
      " |      X : array-like or sparse matrix of shape = [n_samples, n_features]\n",
      " |          The input samples. Internally, its dtype will be converted to\n",
      " |          ``dtype=np.float32``. If a sparse matrix is provided, it will be\n",
      " |          converted into a sparse ``csr_matrix``.\n",
      " |      \n",
      " |      Returns\n",
      " |      -------\n",
      " |      p : array of shape = [n_samples, n_classes], or a list of n_outputs\n",
      " |          such arrays if n_outputs > 1.\n",
      " |          The class probabilities of the input samples. The order of the\n",
      " |          classes corresponds to that in the attribute `classes_`.\n",
      " |  \n",
      " |  predict_proba(self, X)\n",
      " |      Predict class probabilities for X.\n",
      " |      \n",
      " |      The predicted class probabilities of an input sample are computed as\n",
      " |      the mean predicted class probabilities of the trees in the forest. The\n",
      " |      class probability of a single tree is the fraction of samples of the same\n",
      " |      class in a leaf.\n",
      " |      \n",
      " |      Parameters\n",
      " |      ----------\n",
      " |      X : array-like or sparse matrix of shape = [n_samples, n_features]\n",
      " |          The input samples. Internally, its dtype will be converted to\n",
      " |          ``dtype=np.float32``. If a sparse matrix is provided, it will be\n",
      " |          converted into a sparse ``csr_matrix``.\n",
      " |      \n",
      " |      Returns\n",
      " |      -------\n",
      " |      p : array of shape = [n_samples, n_classes], or a list of n_outputs\n",
      " |          such arrays if n_outputs > 1.\n",
      " |          The class probabilities of the input samples. The order of the\n",
      " |          classes corresponds to that in the attribute `classes_`.\n",
      " |  \n",
      " |  ----------------------------------------------------------------------\n",
      " |  Methods inherited from BaseForest:\n",
      " |  \n",
      " |  apply(self, X)\n",
      " |      Apply trees in the forest to X, return leaf indices.\n",
      " |      \n",
      " |      Parameters\n",
      " |      ----------\n",
      " |      X : array-like or sparse matrix, shape = [n_samples, n_features]\n",
      " |          The input samples. Internally, its dtype will be converted to\n",
      " |          ``dtype=np.float32``. If a sparse matrix is provided, it will be\n",
      " |          converted into a sparse ``csr_matrix``.\n",
      " |      \n",
      " |      Returns\n",
      " |      -------\n",
      " |      X_leaves : array_like, shape = [n_samples, n_estimators]\n",
      " |          For each datapoint x in X and for each tree in the forest,\n",
      " |          return the index of the leaf x ends up in.\n",
      " |  \n",
      " |  decision_path(self, X)\n",
      " |      Return the decision path in the forest\n",
      " |      \n",
      " |      .. versionadded:: 0.18\n",
      " |      \n",
      " |      Parameters\n",
      " |      ----------\n",
      " |      X : array-like or sparse matrix, shape = [n_samples, n_features]\n",
      " |          The input samples. Internally, its dtype will be converted to\n",
      " |          ``dtype=np.float32``. If a sparse matrix is provided, it will be\n",
      " |          converted into a sparse ``csr_matrix``.\n",
      " |      \n",
      " |      Returns\n",
      " |      -------\n",
      " |      indicator : sparse csr array, shape = [n_samples, n_nodes]\n",
      " |          Return a node indicator matrix where non zero elements\n",
      " |          indicates that the samples goes through the nodes.\n",
      " |      \n",
      " |      n_nodes_ptr : array of size (n_estimators + 1, )\n",
      " |          The columns from indicator[n_nodes_ptr[i]:n_nodes_ptr[i+1]]\n",
      " |          gives the indicator value for the i-th estimator.\n",
      " |  \n",
      " |  fit(self, X, y, sample_weight=None)\n",
      " |      Build a forest of trees from the training set (X, y).\n",
      " |      \n",
      " |      Parameters\n",
      " |      ----------\n",
      " |      X : array-like or sparse matrix of shape = [n_samples, n_features]\n",
      " |          The training input samples. Internally, its dtype will be converted to\n",
      " |          ``dtype=np.float32``. If a sparse matrix is provided, it will be\n",
      " |          converted into a sparse ``csc_matrix``.\n",
      " |      \n",
      " |      y : array-like, shape = [n_samples] or [n_samples, n_outputs]\n",
      " |          The target values (class labels in classification, real numbers in\n",
      " |          regression).\n",
      " |      \n",
      " |      sample_weight : array-like, shape = [n_samples] or None\n",
      " |          Sample weights. If None, then samples are equally weighted. Splits\n",
      " |          that would create child nodes with net zero or negative weight are\n",
      " |          ignored while searching for a split in each node. In the case of\n",
      " |          classification, splits are also ignored if they would result in any\n",
      " |          single class carrying a negative weight in either child node.\n",
      " |      \n",
      " |      Returns\n",
      " |      -------\n",
      " |      self : object\n",
      " |          Returns self.\n",
      " |  \n",
      " |  ----------------------------------------------------------------------\n",
      " |  Data descriptors inherited from BaseForest:\n",
      " |  \n",
      " |  feature_importances_\n",
      " |      Return the feature importances (the higher, the more important the\n",
      " |         feature).\n",
      " |      \n",
      " |      Returns\n",
      " |      -------\n",
      " |      feature_importances_ : array, shape = [n_features]\n",
      " |  \n",
      " |  ----------------------------------------------------------------------\n",
      " |  Methods inherited from sklearn.ensemble.base.BaseEnsemble:\n",
      " |  \n",
      " |  __getitem__(self, index)\n",
      " |      Returns the index'th estimator in the ensemble.\n",
      " |  \n",
      " |  __iter__(self)\n",
      " |      Returns iterator over estimators in the ensemble.\n",
      " |  \n",
      " |  __len__(self)\n",
      " |      Returns the number of estimators in the ensemble.\n",
      " |  \n",
      " |  ----------------------------------------------------------------------\n",
      " |  Methods inherited from sklearn.base.BaseEstimator:\n",
      " |  \n",
      " |  __getstate__(self)\n",
      " |  \n",
      " |  __repr__(self)\n",
      " |  \n",
      " |  __setstate__(self, state)\n",
      " |  \n",
      " |  get_params(self, deep=True)\n",
      " |      Get parameters for this estimator.\n",
      " |      \n",
      " |      Parameters\n",
      " |      ----------\n",
      " |      deep : boolean, optional\n",
      " |          If True, will return the parameters for this estimator and\n",
      " |          contained subobjects that are estimators.\n",
      " |      \n",
      " |      Returns\n",
      " |      -------\n",
      " |      params : mapping of string to any\n",
      " |          Parameter names mapped to their values.\n",
      " |  \n",
      " |  set_params(self, **params)\n",
      " |      Set the parameters of this estimator.\n",
      " |      \n",
      " |      The method works on simple estimators as well as on nested objects\n",
      " |      (such as pipelines). The latter have parameters of the form\n",
      " |      ``<component>__<parameter>`` so that it's possible to update each\n",
      " |      component of a nested object.\n",
      " |      \n",
      " |      Returns\n",
      " |      -------\n",
      " |      self\n",
      " |  \n",
      " |  ----------------------------------------------------------------------\n",
      " |  Data descriptors inherited from sklearn.base.BaseEstimator:\n",
      " |  \n",
      " |  __dict__\n",
      " |      dictionary for instance variables (if defined)\n",
      " |  \n",
      " |  __weakref__\n",
      " |      list of weak references to the object (if defined)\n",
      " |  \n",
      " |  ----------------------------------------------------------------------\n",
      " |  Methods inherited from sklearn.feature_selection.from_model._LearntSelectorMixin:\n",
      " |  \n",
      " |  transform(*args, **kwargs)\n",
      " |      DEPRECATED: Support to use estimators as feature selectors will be removed in version 0.19. Use SelectFromModel instead.\n",
      " |      \n",
      " |      Reduce X to its most important features.\n",
      " |      \n",
      " |              Uses ``coef_`` or ``feature_importances_`` to determine the most\n",
      " |              important features.  For models with a ``coef_`` for each class, the\n",
      " |              absolute sum over the classes is used.\n",
      " |      \n",
      " |              Parameters\n",
      " |              ----------\n",
      " |              X : array or scipy sparse matrix of shape [n_samples, n_features]\n",
      " |                  The input samples.\n",
      " |      \n",
      " |              threshold : string, float or None, optional (default=None)\n",
      " |                  The threshold value to use for feature selection. Features whose\n",
      " |                  importance is greater or equal are kept while the others are\n",
      " |                  discarded. If \"median\" (resp. \"mean\"), then the threshold value is\n",
      " |                  the median (resp. the mean) of the feature importances. A scaling\n",
      " |                  factor (e.g., \"1.25*mean\") may also be used. If None and if\n",
      " |                  available, the object attribute ``threshold`` is used. Otherwise,\n",
      " |                  \"mean\" is used by default.\n",
      " |      \n",
      " |              Returns\n",
      " |              -------\n",
      " |              X_r : array of shape [n_samples, n_selected_features]\n",
      " |                  The input samples with only the selected features.\n",
      " |  \n",
      " |  ----------------------------------------------------------------------\n",
      " |  Methods inherited from sklearn.base.TransformerMixin:\n",
      " |  \n",
      " |  fit_transform(self, X, y=None, **fit_params)\n",
      " |      Fit to data, then transform it.\n",
      " |      \n",
      " |      Fits transformer to X and y with optional parameters fit_params\n",
      " |      and returns a transformed version of X.\n",
      " |      \n",
      " |      Parameters\n",
      " |      ----------\n",
      " |      X : numpy array of shape [n_samples, n_features]\n",
      " |          Training set.\n",
      " |      \n",
      " |      y : numpy array of shape [n_samples]\n",
      " |          Target values.\n",
      " |      \n",
      " |      Returns\n",
      " |      -------\n",
      " |      X_new : numpy array of shape [n_samples, n_features_new]\n",
      " |          Transformed array.\n",
      " |  \n",
      " |  ----------------------------------------------------------------------\n",
      " |  Methods inherited from sklearn.base.ClassifierMixin:\n",
      " |  \n",
      " |  score(self, X, y, sample_weight=None)\n",
      " |      Returns the mean accuracy on the given test data and labels.\n",
      " |      \n",
      " |      In multi-label classification, this is the subset accuracy\n",
      " |      which is a harsh metric since you require for each sample that\n",
      " |      each label set be correctly predicted.\n",
      " |      \n",
      " |      Parameters\n",
      " |      ----------\n",
      " |      X : array-like, shape = (n_samples, n_features)\n",
      " |          Test samples.\n",
      " |      \n",
      " |      y : array-like, shape = (n_samples) or (n_samples, n_outputs)\n",
      " |          True labels for X.\n",
      " |      \n",
      " |      sample_weight : array-like, shape = [n_samples], optional\n",
      " |          Sample weights.\n",
      " |      \n",
      " |      Returns\n",
      " |      -------\n",
      " |      score : float\n",
      " |          Mean accuracy of self.predict(X) wrt. y.\n",
      "\n"
     ]
    }
   ],
   "source": [
    "help(rf)"
   ]
  },
  {
   "cell_type": "code",
   "execution_count": null,
   "metadata": {
    "collapsed": true
   },
   "outputs": [],
   "source": []
  }
 ],
 "metadata": {
  "kernelspec": {
   "display_name": "Python [Root]",
   "language": "python",
   "name": "Python [Root]"
  },
  "language_info": {
   "codemirror_mode": {
    "name": "ipython",
    "version": 2
   },
   "file_extension": ".py",
   "mimetype": "text/x-python",
   "name": "python",
   "nbconvert_exporter": "python",
   "pygments_lexer": "ipython2",
   "version": "2.7.12"
  }
 },
 "nbformat": 4,
 "nbformat_minor": 0
}
