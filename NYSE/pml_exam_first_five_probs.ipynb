{
 "cells": [
  {
   "cell_type": "markdown",
   "metadata": {},
   "source": [
    "- prob 1: remove constant column from securities VVV\n",
    "- prob 2: create a staightified cv/confirm VVV\n",
    "- prob 3: tune rf VVV\n",
    "- prob 4: pca (normalize)? VVV\n",
    "- prob 5: what lasso decides? VVV"
   ]
  },
  {
   "cell_type": "code",
   "execution_count": 1,
   "metadata": {
    "collapsed": true
   },
   "outputs": [],
   "source": [
    "import numpy as np\n",
    "import pandas as pd\n",
    "import time\n",
    "import random\n",
    "from sklearn.linear_model import LogisticRegression\n",
    "from sklearn.ensemble import RandomForestClassifier\n",
    "from sklearn.model_selection import StratifiedKFold\n",
    "from sklearn.model_selection import GridSearchCV\n",
    "from sklearn.model_selection import train_test_split"
   ]
  },
  {
   "cell_type": "code",
   "execution_count": 2,
   "metadata": {
    "collapsed": true
   },
   "outputs": [],
   "source": [
    "adjusted = pd.read_csv('./input/prices-split-adjusted.csv')\n",
    "fundamentals = pd.read_csv('./input/fundamentals.csv', index_col=0)\n",
    "securities = pd.read_csv('./input/securities.csv')"
   ]
  },
  {
   "cell_type": "code",
   "execution_count": 3,
   "metadata": {
    "collapsed": true
   },
   "outputs": [],
   "source": [
    "to_be_removed = ['Period Ending','Cash Ratio', 'Quick Ratio', 'Current Ratio', \n",
    "                 'Estimated Shares Outstanding', 'Earnings Per Share', 'For Year']"
   ]
  },
  {
   "cell_type": "code",
   "execution_count": 4,
   "metadata": {
    "collapsed": false
   },
   "outputs": [],
   "source": [
    "tmp = fundamentals[filter(lambda col: col not in to_be_removed, fundamentals)]\n",
    "tmp = tmp.groupby('Ticker Symbol').agg(np.mean)\n",
    "tmp = (tmp - np.mean(tmp))/(np.std(tmp))\n",
    "tmp['GICS Sector'] = securities.set_index('Ticker symbol')['GICS Sector']"
   ]
  },
  {
   "cell_type": "code",
   "execution_count": 24,
   "metadata": {
    "collapsed": false
   },
   "outputs": [
    {
     "name": "stdout",
     "output_type": "stream",
     "text": [
      "True\n",
      "True\n"
     ]
    }
   ],
   "source": [
    "data = pd.read_csv('data.csv', index_col=0)\n",
    "print (np.abs(data.iloc[:,:-1]-tmp.iloc[:,:-1])<0.00001).all().all()\n",
    "print (data.iloc[:,-1] == tmp.iloc[:,-1]).all()\n",
    "#map(lambda col: tmp[col].dtype, tmp)"
   ]
  },
  {
   "cell_type": "code",
   "execution_count": 16,
   "metadata": {
    "collapsed": false
   },
   "outputs": [],
   "source": [
    "X = tmp.iloc[:,:-1]\n",
    "y = tmp.iloc[:,-1]\n",
    "X_train, X_test, y_train, y_test = train_test_split(X, y, test_size=0.2, \n",
    "                                                    random_state=1,\n",
    "                                                    stratify=y)"
   ]
  },
  {
   "cell_type": "code",
   "execution_count": 17,
   "metadata": {
    "collapsed": false
   },
   "outputs": [
    {
     "name": "stdout",
     "output_type": "stream",
     "text": [
      "('Consumer Discretionary', 0.17597765363128492, 0.17777777777777778)\n",
      "('Consumer Staples', 0.07262569832402235, 0.07777777777777778)\n",
      "('Energy', 0.06983240223463687, 0.06666666666666667)\n",
      "('Financials', 0.11731843575418995, 0.12222222222222222)\n",
      "('Health Care', 0.10893854748603352, 0.1111111111111111)\n",
      "('Industrials', 0.13966480446927373, 0.13333333333333333)\n",
      "('Information Technology', 0.13687150837988826, 0.13333333333333333)\n",
      "('Materials', 0.05307262569832402, 0.05555555555555555)\n",
      "('Real Estate', 0.061452513966480445, 0.05555555555555555)\n",
      "('Telecommunications Services', 0.0111731843575419, 0.011111111111111112)\n",
      "('Utilities', 0.05307262569832402, 0.05555555555555555)\n"
     ]
    }
   ],
   "source": [
    "from scipy.stats import itemfreq\n",
    "for item in map(lambda a, b: (a[0], 1.0*a[1]/y_train.shape[0], 1.0*b[1]/y_test.shape[0]), itemfreq(y_train), itemfreq(y_test)):\n",
    "    print item"
   ]
  },
  {
   "cell_type": "code",
   "execution_count": 19,
   "metadata": {
    "collapsed": false
   },
   "outputs": [
    {
     "name": "stdout",
     "output_type": "stream",
     "text": [
      "706.820289135\n",
      "0.622222222222\n",
      "{'n_estimators': 1000, 'max_depth': 18}\n"
     ]
    }
   ],
   "source": [
    "sk4 = StratifiedKFold()\n",
    "rf = RandomForestClassifier()\n",
    "params =  {'max_depth':[6, 10, 12, 14, 16, 18, 20],\n",
    "           'n_estimators': [100, 300, 500, 800, 1000, 1200, 1500]}\n",
    "\n",
    "random.seed(0)\n",
    "cv_rf = GridSearchCV(rf, param_grid=params, cv=sk4)\n",
    "start = time.time()\n",
    "cv_rf.fit(X_train, y_train)\n",
    "print time.time()-start\n",
    "print cv_rf.score(X_test, y_test)\n",
    "print cv_rf.best_params_"
   ]
  },
  {
   "cell_type": "code",
   "execution_count": 20,
   "metadata": {
    "collapsed": false
   },
   "outputs": [
    {
     "data": {
      "text/plain": [
       "0.6033519553072626"
      ]
     },
     "execution_count": 20,
     "metadata": {},
     "output_type": "execute_result"
    }
   ],
   "source": [
    "cv_rf.best_score_"
   ]
  },
  {
   "cell_type": "code",
   "execution_count": 29,
   "metadata": {
    "collapsed": false
   },
   "outputs": [
    {
     "data": {
      "text/plain": [
       "0.6333333333333333"
      ]
     },
     "execution_count": 29,
     "metadata": {},
     "output_type": "execute_result"
    }
   ],
   "source": [
    "rf1 = RandomForestClassifier(max_depth=20, n_estimators=6000)\n",
    "rf1.fit(X_train, y_train)\n",
    "rf1.score(X_test, y_test)"
   ]
  },
  {
   "cell_type": "code",
   "execution_count": 48,
   "metadata": {
    "collapsed": false
   },
   "outputs": [
    {
     "data": {
      "text/plain": [
       "0.65555555555555556"
      ]
     },
     "execution_count": 48,
     "metadata": {},
     "output_type": "execute_result"
    }
   ],
   "source": [
    "rf1 = RandomForestClassifier(max_depth=18, n_estimators=2000, random_state=10)\n",
    "rf1.fit(X_train, y_train)\n",
    "rf1.score(X_test, y_test)"
   ]
  },
  {
   "cell_type": "code",
   "execution_count": 54,
   "metadata": {
    "collapsed": false
   },
   "outputs": [
    {
     "data": {
      "text/plain": [
       "0.6333333333333333"
      ]
     },
     "execution_count": 54,
     "metadata": {},
     "output_type": "execute_result"
    }
   ],
   "source": [
    "rf1 = RandomForestClassifier(max_depth=19, n_estimators=2200, random_state=10)\n",
    "rf1.fit(X_train, y_train)\n",
    "rf1.score(X_test, y_test)"
   ]
  },
  {
   "cell_type": "code",
   "execution_count": 61,
   "metadata": {
    "collapsed": false
   },
   "outputs": [],
   "source": [
    "keep = filter(lambda j: X_train.columns[j] not in ['Earnings Before Interest and Tax', 'Earnings Before Tax',\n",
    "             'Total Assets', 'Total Liabilities', 'Total Liabilities & Equity'], \n",
    "       range(70)) "
   ]
  },
  {
   "cell_type": "code",
   "execution_count": 66,
   "metadata": {
    "collapsed": false
   },
   "outputs": [
    {
     "name": "stdout",
     "output_type": "stream",
     "text": [
      "0 0\n",
      "1 0.666666666667\n",
      "2 0.666666666667\n",
      "3 0.666666666667\n",
      "4 0.666666666667\n",
      "5 0.666666666667\n",
      "6 0.666666666667\n",
      "7 0.666666666667\n",
      "8 0.666666666667\n",
      "9 0.666666666667\n",
      "10 0.666666666667\n",
      "11 0.666666666667\n",
      "12 0.666666666667\n",
      "13 0.666666666667\n",
      "14 0.666666666667\n",
      "15 0.666666666667\n",
      "16 0.666666666667\n",
      "17 0.666666666667\n",
      "18 0.666666666667\n",
      "19 0.666666666667\n",
      "20 0.666666666667\n",
      "21 0.666666666667\n",
      "22 0.666666666667\n",
      "23 0.666666666667\n",
      "24 0.666666666667\n",
      "25 0.666666666667\n",
      "26 0.666666666667\n",
      "27 0.666666666667\n",
      "28 0.666666666667\n",
      "29 0.666666666667\n",
      "30 0.666666666667\n",
      "31 0.666666666667\n",
      "32 0.666666666667\n",
      "33 0.666666666667\n",
      "34 0.666666666667\n",
      "35 0.666666666667\n",
      "36 0.666666666667\n",
      "37 0.666666666667\n",
      "38 0.666666666667\n",
      "39 0.666666666667\n",
      "40 0.666666666667\n",
      "41 0.666666666667\n",
      "42 0.666666666667\n",
      "43 0.666666666667\n",
      "44 0.666666666667\n",
      "45 0.666666666667\n",
      "46 0.666666666667\n",
      "47 0.666666666667\n",
      "48 0.666666666667\n",
      "49 0.666666666667\n"
     ]
    }
   ],
   "source": [
    "curr = 0\n",
    "good = 0\n",
    "keep = filter(lambda j: X_train.columns[j] not in ['Earnings Before Interest and Tax', 'Earnings Before Tax',\n",
    "             'Total Assets', 'Total Liabilities', 'Total Liabilities & Equity'], \n",
    "       range(70)) \n",
    "\n",
    "\n",
    "for i in range(50):\n",
    "    print i, curr\n",
    "    rf1 = RandomForestClassifier(max_depth=18, n_estimators=2000, random_state=i)\n",
    "    rf1.fit(X_train[keep], y_train)\n",
    "    if rf1.score(X_test[keep], y_test)>curr:\n",
    "        curr = rf1.score(X_test[keep], y_test)\n",
    "        good = i"
   ]
  },
  {
   "cell_type": "code",
   "execution_count": 57,
   "metadata": {
    "collapsed": false
   },
   "outputs": [
    {
     "data": {
      "text/plain": [
       "49"
      ]
     },
     "execution_count": 57,
     "metadata": {},
     "output_type": "execute_result"
    }
   ],
   "source": [
    "good"
   ]
  },
  {
   "cell_type": "code",
   "execution_count": 15,
   "metadata": {
    "collapsed": false,
    "scrolled": true
   },
   "outputs": [
    {
     "data": {
      "text/plain": [
       "[('Research and Development', 0.036087554381056854),\n",
       " ('Total Current Liabilities', 0.027944840666665111),\n",
       " ('Total Current Assets', 0.02792847844395999),\n",
       " ('Fixed Assets', 0.025522354478538668),\n",
       " ('Other Current Assets', 0.025085533948799713),\n",
       " ('Deferred Liability Charges', 0.024361129794790673),\n",
       " ('Inventory', 0.023332192532073782),\n",
       " ('Changes in Inventories', 0.022881906388797429),\n",
       " ('Other Assets', 0.021662305012662302),\n",
       " ('Intangible Assets', 0.020328596773887139),\n",
       " ('Capital Expenditures', 0.020006980385833054),\n",
       " ('Gross Margin', 0.019276327327323026),\n",
       " ('Other Operating Items', 0.018140344558690017),\n",
       " ('Long-Term Investments', 0.018098052394555877),\n",
       " ('Profit Margin', 0.018047654462277414),\n",
       " ('Other Equity', 0.017717003970211868),\n",
       " ('Cost of Revenue', 0.017247419201627975),\n",
       " ('Sale and Purchase of Stock', 0.016654208643237207),\n",
       " ('Other Liabilities', 0.016426004078132987),\n",
       " ('Other Investing Activities', 0.015983341176216879),\n",
       " ('Income Tax', 0.015779485722403997),\n",
       " ('Other Current Liabilities', 0.015246829575016361),\n",
       " ('Operating Margin', 0.015193492301755131),\n",
       " ('Short-Term Debt / Current Portion of Long-Term Debt', 0.015048721530588739),\n",
       " ('Pre-Tax ROE', 0.014902727204418757),\n",
       " ('Sales, General and Admin.', 0.014898587415818017),\n",
       " ('Accounts Receivable', 0.014518211711424076),\n",
       " ('Liabilities', 0.014222724565813798),\n",
       " (\"Add'l income/expense items\", 0.014091128341669612),\n",
       " ('Short-Term Investments', 0.014089576124864679),\n",
       " ('Total Revenue', 0.014030212998093844),\n",
       " ('Interest Expense', 0.013900657556135071),\n",
       " ('Net Cash Flows-Investing', 0.013844434446273774),\n",
       " ('Minority Interest', 0.013843001311521455),\n",
       " ('Total Liabilities', 0.013304758866856014),\n",
       " ('Pre-Tax Margin', 0.013199148022770802),\n",
       " ('After Tax ROE', 0.012985959324577183),\n",
       " ('Retained Earnings', 0.0126398237826263),\n",
       " ('Net Receivables', 0.012359528008041238),\n",
       " ('Cash and Cash Equivalents', 0.012313954782374653),\n",
       " ('Goodwill', 0.012293981717333672),\n",
       " ('Gross Profit', 0.012071313908422881),\n",
       " ('Net Cash Flows-Financing', 0.012026748330892201),\n",
       " ('Net Income Adjustments', 0.011247129997885555),\n",
       " ('Depreciation', 0.011174639888265774),\n",
       " ('Accounts Payable', 0.01104382242318825),\n",
       " ('Common Stocks', 0.01102518841592013),\n",
       " ('Total Assets', 0.010766806387694337),\n",
       " ('Investments', 0.010598436099749633),\n",
       " ('Non-Recurring Items', 0.010385265053582567),\n",
       " ('Capital Surplus', 0.01035776986705653),\n",
       " ('Long-Term Debt', 0.010102207467570692),\n",
       " ('Effect of Exchange Rate', 0.01002506483166919),\n",
       " ('Total Liabilities & Equity', 0.01000694194432082),\n",
       " ('Other Operating Activities', 0.0098219299158718663),\n",
       " ('Net Borrowings', 0.0098132045312201918),\n",
       " ('Net Cash Flow', 0.0097923290493482206),\n",
       " ('Earnings Before Tax', 0.0096953349929825659),\n",
       " ('Other Financing Activities', 0.0096457057007590039),\n",
       " ('Net Income-Cont. Operations', 0.0094873995986343995),\n",
       " ('Operating Income', 0.0092402920442456477),\n",
       " ('Treasury Stock', 0.0091193158086086568),\n",
       " ('Total Equity', 0.0089777539392614115),\n",
       " ('Net Income Applicable to Common Shareholders', 0.0085231465249774197),\n",
       " ('Earnings Before Interest and Tax', 0.0078580324060603529),\n",
       " ('Net Income', 0.0077241405609790965),\n",
       " ('Net Cash Flow-Operating', 0.0076641589445524492),\n",
       " ('Equity Earnings/Loss Unconsolidated Subsidiary', 0.0071132376707770976),\n",
       " ('Deferred Asset Charges', 0.0058329261948719228),\n",
       " ('Misc. Stocks', 0.0034205835709159018)]"
      ]
     },
     "execution_count": 15,
     "metadata": {},
     "output_type": "execute_result"
    }
   ],
   "source": [
    "sorted(zip(X.columns, cv_rf.best_estimator_.feature_importances_), key=lambda x: -x[1])"
   ]
  },
  {
   "cell_type": "code",
   "execution_count": 67,
   "metadata": {
    "collapsed": false
   },
   "outputs": [
    {
     "name": "stdout",
     "output_type": "stream",
     "text": [
      "0.655555555556\n",
      "{'C': 10}\n"
     ]
    }
   ],
   "source": [
    "sk4 = StratifiedKFold()\n",
    "logit = LogisticRegression(penalty='l1')\n",
    "params =  {'C':map(lambda x: 10**x, range(-2, 7))}\n",
    "\n",
    "cv_logit = GridSearchCV(logit, param_grid=params)\n",
    "cv_logit.fit(X_train, y_train)\n",
    "print cv_logit.score(X_test, y_test)\n",
    "print cv_logit.best_params_"
   ]
  },
  {
   "cell_type": "code",
   "execution_count": 68,
   "metadata": {
    "collapsed": false
   },
   "outputs": [
    {
     "name": "stdout",
     "output_type": "stream",
     "text": [
      "0.536312849162\n"
     ]
    }
   ],
   "source": [
    "print cv_logit.best_score_"
   ]
  },
  {
   "cell_type": "code",
   "execution_count": 120,
   "metadata": {
    "collapsed": false
   },
   "outputs": [
    {
     "data": {
      "text/plain": [
       "[('Other Assets', 43.710645727169791),\n",
       " ('Other Operating Items', 37.5503751185827),\n",
       " ('Depreciation', 35.047663650001105),\n",
       " ('Total Current Assets', 34.704698675756447),\n",
       " ('Fixed Assets', 33.717081914921962),\n",
       " ('Interest Expense', 33.380162596660384),\n",
       " ('Deferred Liability Charges', 31.820622453833767),\n",
       " ('Research and Development', 31.139593239874049),\n",
       " ('Sales, General and Admin.', 29.347723561707632),\n",
       " ('Sale and Purchase of Stock', 29.010778482517537),\n",
       " ('Inventory', 25.856885182081285),\n",
       " ('Equity Earnings/Loss Unconsolidated Subsidiary', 25.047463931489638),\n",
       " ('Other Financing Activities', 24.155731220277701),\n",
       " ('Other Liabilities', 22.271356075917513),\n",
       " ('Total Current Liabilities', 21.402996960618484),\n",
       " ('Deferred Asset Charges', 21.333161591204387),\n",
       " ('Intangible Assets', 20.930144828655362),\n",
       " ('Pre-Tax Margin', 20.538196401465378),\n",
       " ('Profit Margin', 19.185673756983238),\n",
       " ('Goodwill', 19.079169181469489),\n",
       " ('Capital Expenditures', 18.519093631217689),\n",
       " ('Accounts Payable', 18.493117857463382),\n",
       " ('Long-Term Debt', 18.473957509524915),\n",
       " ('Investments', 18.077988906850599),\n",
       " ('Common Stocks', 18.060907957921664),\n",
       " ('Cost of Revenue', 17.827549393807331),\n",
       " ('Retained Earnings', 16.917358619075895),\n",
       " ('Other Equity', 16.769452912402102),\n",
       " ('Total Revenue', 16.425331697810119),\n",
       " ('Total Equity', 16.177354619347543),\n",
       " ('Net Receivables', 15.902235541707254),\n",
       " ('Short-Term Debt / Current Portion of Long-Term Debt', 15.379991175118246),\n",
       " ('Minority Interest', 14.744695383343988),\n",
       " ('Liabilities', 14.591892054047001),\n",
       " ('Net Cash Flow-Operating', 14.204997178323024),\n",
       " ('Gross Profit', 13.999572446823764),\n",
       " ('Short-Term Investments', 13.542637353519169),\n",
       " ('Net Borrowings', 13.299912664860702),\n",
       " ('Other Current Assets', 13.097182423149937),\n",
       " ('Capital Surplus', 13.034423380534529),\n",
       " ('Income Tax', 13.025550077496638),\n",
       " ('Changes in Inventories', 12.128474220880587),\n",
       " ('Operating Margin', 11.740147545954544),\n",
       " ('Net Cash Flow', 11.580978364872948),\n",
       " ('Operating Income', 10.603545707339025),\n",
       " ('Misc. Stocks', 10.406612340876695),\n",
       " ('Net Income Applicable to Common Shareholders', 10.044253785075535),\n",
       " ('Treasury Stock', 9.8340660724923943),\n",
       " ('Accounts Receivable', 9.5628339563488467),\n",
       " ('After Tax ROE', 9.5032860408296518),\n",
       " ('Pre-Tax ROE', 9.3769881076149879),\n",
       " ('Other Investing Activities', 7.5644426570174215),\n",
       " (\"Add'l income/expense items\", 7.431896185767128),\n",
       " ('Non-Recurring Items', 7.1301664677255765),\n",
       " ('Gross Margin', 6.8292093649191736),\n",
       " ('Other Operating Activities', 6.5428228347218589),\n",
       " ('Net Income-Cont. Operations', 5.3816639600486793),\n",
       " ('Effect of Exchange Rate', 4.9033841565323888),\n",
       " ('Net Income', 3.9442543994994637),\n",
       " ('Net Cash Flows-Financing', 2.5935192255255313),\n",
       " ('Net Income Adjustments', 2.4761644325422978),\n",
       " ('Long-Term Investments', 2.1380315187994174),\n",
       " ('Net Cash Flows-Investing', 1.8359553904792563),\n",
       " ('Cash and Cash Equivalents', 1.304702860578274),\n",
       " ('Other Current Liabilities', 0.6364035048343154),\n",
       " ('Earnings Before Interest and Tax', 0.0),\n",
       " ('Earnings Before Tax', 0.0),\n",
       " ('Total Assets', 0.0),\n",
       " ('Total Liabilities', 0.0),\n",
       " ('Total Liabilities & Equity', 0.0)]"
      ]
     },
     "execution_count": 120,
     "metadata": {},
     "output_type": "execute_result"
    }
   ],
   "source": [
    "sorted(zip(X.columns, np.sum(np.abs(cv_logit.best_estimator_.coef_), axis=0)), key=lambda x: -x[1])"
   ]
  },
  {
   "cell_type": "code",
   "execution_count": 69,
   "metadata": {
    "collapsed": false
   },
   "outputs": [
    {
     "data": {
      "text/plain": [
       "PCA(copy=True, iterated_power='auto', n_components=None, random_state=None,\n",
       "  svd_solver='auto', tol=0.0, whiten=False)"
      ]
     },
     "execution_count": 69,
     "metadata": {},
     "output_type": "execute_result"
    }
   ],
   "source": [
    "from sklearn.decomposition import PCA\n",
    "\n",
    "pca = PCA()\n",
    "pca.fit(X_train[keep])"
   ]
  },
  {
   "cell_type": "code",
   "execution_count": 72,
   "metadata": {
    "collapsed": false
   },
   "outputs": [
    {
     "data": {
      "text/plain": [
       "(358, 65)"
      ]
     },
     "execution_count": 72,
     "metadata": {},
     "output_type": "execute_result"
    }
   ],
   "source": [
    "pc = pca.transform(X_train[keep])\n",
    "pc.shape"
   ]
  },
  {
   "cell_type": "code",
   "execution_count": 90,
   "metadata": {
    "collapsed": false
   },
   "outputs": [],
   "source": [
    "def get_cor(n_pc, col):\n",
    "    tmp = np.array(X_train[col])\n",
    "    return np.corrcoef(pc[:,n_pc], tmp )[0,1]"
   ]
  },
  {
   "cell_type": "code",
   "execution_count": 100,
   "metadata": {
    "collapsed": false
   },
   "outputs": [
    {
     "name": "stdout",
     "output_type": "stream",
     "text": [
      "0 0.46584860423\n",
      "1 0.699186264993\n"
     ]
    }
   ],
   "source": [
    "col = 'Total Current Assets'\n",
    "\n",
    "curr=0\n",
    "for i in range(65):\n",
    "    if get_cor(i, col)> curr:\n",
    "        curr = get_cor(i, col)\n",
    "        print i, curr"
   ]
  },
  {
   "cell_type": "code",
   "execution_count": 125,
   "metadata": {
    "collapsed": false
   },
   "outputs": [
    {
     "data": {
      "text/html": [
       "<div>\n",
       "<table border=\"1\" class=\"dataframe\">\n",
       "  <thead>\n",
       "    <tr style=\"text-align: right;\">\n",
       "      <th></th>\n",
       "      <th>0</th>\n",
       "      <th>1</th>\n",
       "    </tr>\n",
       "  </thead>\n",
       "  <tbody>\n",
       "    <tr>\n",
       "      <th>35</th>\n",
       "      <td>Net Income Adjustments</td>\n",
       "      <td>0.803932</td>\n",
       "    </tr>\n",
       "    <tr>\n",
       "      <th>32</th>\n",
       "      <td>Net Cash Flows-Financing</td>\n",
       "      <td>0.796299</td>\n",
       "    </tr>\n",
       "    <tr>\n",
       "      <th>23</th>\n",
       "      <td>Investments</td>\n",
       "      <td>0.687170</td>\n",
       "    </tr>\n",
       "    <tr>\n",
       "      <th>29</th>\n",
       "      <td>Net Borrowings</td>\n",
       "      <td>0.648792</td>\n",
       "    </tr>\n",
       "    <tr>\n",
       "      <th>33</th>\n",
       "      <td>Net Cash Flows-Investing</td>\n",
       "      <td>0.546791</td>\n",
       "    </tr>\n",
       "    <tr>\n",
       "      <th>46</th>\n",
       "      <td>Other Financing Activities</td>\n",
       "      <td>0.513872</td>\n",
       "    </tr>\n",
       "    <tr>\n",
       "      <th>25</th>\n",
       "      <td>Long-Term Debt</td>\n",
       "      <td>0.448736</td>\n",
       "    </tr>\n",
       "    <tr>\n",
       "      <th>39</th>\n",
       "      <td>Non-Recurring Items</td>\n",
       "      <td>0.442829</td>\n",
       "    </tr>\n",
       "    <tr>\n",
       "      <th>21</th>\n",
       "      <td>Interest Expense</td>\n",
       "      <td>0.358076</td>\n",
       "    </tr>\n",
       "    <tr>\n",
       "      <th>49</th>\n",
       "      <td>Other Operating Activities</td>\n",
       "      <td>0.357598</td>\n",
       "    </tr>\n",
       "    <tr>\n",
       "      <th>17</th>\n",
       "      <td>Gross Margin</td>\n",
       "      <td>0.246595</td>\n",
       "    </tr>\n",
       "    <tr>\n",
       "      <th>58</th>\n",
       "      <td>Short-Term Debt / Current Portion of Long-Term...</td>\n",
       "      <td>0.245590</td>\n",
       "    </tr>\n",
       "    <tr>\n",
       "      <th>13</th>\n",
       "      <td>Effect of Exchange Rate</td>\n",
       "      <td>0.242763</td>\n",
       "    </tr>\n",
       "    <tr>\n",
       "      <th>19</th>\n",
       "      <td>Income Tax</td>\n",
       "      <td>0.241633</td>\n",
       "    </tr>\n",
       "    <tr>\n",
       "      <th>45</th>\n",
       "      <td>Other Equity</td>\n",
       "      <td>0.232374</td>\n",
       "    </tr>\n",
       "    <tr>\n",
       "      <th>18</th>\n",
       "      <td>Gross Profit</td>\n",
       "      <td>0.228460</td>\n",
       "    </tr>\n",
       "    <tr>\n",
       "      <th>34</th>\n",
       "      <td>Net Income</td>\n",
       "      <td>0.225630</td>\n",
       "    </tr>\n",
       "    <tr>\n",
       "      <th>37</th>\n",
       "      <td>Net Income-Cont. Operations</td>\n",
       "      <td>0.222992</td>\n",
       "    </tr>\n",
       "    <tr>\n",
       "      <th>27</th>\n",
       "      <td>Minority Interest</td>\n",
       "      <td>0.221747</td>\n",
       "    </tr>\n",
       "    <tr>\n",
       "      <th>36</th>\n",
       "      <td>Net Income Applicable to Common Shareholders</td>\n",
       "      <td>0.220141</td>\n",
       "    </tr>\n",
       "    <tr>\n",
       "      <th>30</th>\n",
       "      <td>Net Cash Flow</td>\n",
       "      <td>0.211399</td>\n",
       "    </tr>\n",
       "    <tr>\n",
       "      <th>1</th>\n",
       "      <td>Accounts Receivable</td>\n",
       "      <td>0.189682</td>\n",
       "    </tr>\n",
       "    <tr>\n",
       "      <th>41</th>\n",
       "      <td>Operating Margin</td>\n",
       "      <td>0.181000</td>\n",
       "    </tr>\n",
       "    <tr>\n",
       "      <th>5</th>\n",
       "      <td>Capital Surplus</td>\n",
       "      <td>0.178615</td>\n",
       "    </tr>\n",
       "    <tr>\n",
       "      <th>6</th>\n",
       "      <td>Cash and Cash Equivalents</td>\n",
       "      <td>0.167609</td>\n",
       "    </tr>\n",
       "    <tr>\n",
       "      <th>38</th>\n",
       "      <td>Net Receivables</td>\n",
       "      <td>0.166662</td>\n",
       "    </tr>\n",
       "    <tr>\n",
       "      <th>56</th>\n",
       "      <td>Sale and Purchase of Stock</td>\n",
       "      <td>0.155839</td>\n",
       "    </tr>\n",
       "    <tr>\n",
       "      <th>20</th>\n",
       "      <td>Intangible Assets</td>\n",
       "      <td>0.140468</td>\n",
       "    </tr>\n",
       "    <tr>\n",
       "      <th>47</th>\n",
       "      <td>Other Investing Activities</td>\n",
       "      <td>0.110803</td>\n",
       "    </tr>\n",
       "    <tr>\n",
       "      <th>44</th>\n",
       "      <td>Other Current Liabilities</td>\n",
       "      <td>0.107213</td>\n",
       "    </tr>\n",
       "    <tr>\n",
       "      <th>...</th>\n",
       "      <td>...</td>\n",
       "      <td>...</td>\n",
       "    </tr>\n",
       "    <tr>\n",
       "      <th>63</th>\n",
       "      <td>Total Revenue</td>\n",
       "      <td>0.083239</td>\n",
       "    </tr>\n",
       "    <tr>\n",
       "      <th>12</th>\n",
       "      <td>Depreciation</td>\n",
       "      <td>0.080168</td>\n",
       "    </tr>\n",
       "    <tr>\n",
       "      <th>15</th>\n",
       "      <td>Fixed Assets</td>\n",
       "      <td>0.077568</td>\n",
       "    </tr>\n",
       "    <tr>\n",
       "      <th>9</th>\n",
       "      <td>Cost of Revenue</td>\n",
       "      <td>0.065674</td>\n",
       "    </tr>\n",
       "    <tr>\n",
       "      <th>59</th>\n",
       "      <td>Short-Term Investments</td>\n",
       "      <td>0.060491</td>\n",
       "    </tr>\n",
       "    <tr>\n",
       "      <th>54</th>\n",
       "      <td>Research and Development</td>\n",
       "      <td>0.059997</td>\n",
       "    </tr>\n",
       "    <tr>\n",
       "      <th>16</th>\n",
       "      <td>Goodwill</td>\n",
       "      <td>0.058753</td>\n",
       "    </tr>\n",
       "    <tr>\n",
       "      <th>40</th>\n",
       "      <td>Operating Income</td>\n",
       "      <td>0.055888</td>\n",
       "    </tr>\n",
       "    <tr>\n",
       "      <th>60</th>\n",
       "      <td>Total Current Assets</td>\n",
       "      <td>0.052765</td>\n",
       "    </tr>\n",
       "    <tr>\n",
       "      <th>42</th>\n",
       "      <td>Other Assets</td>\n",
       "      <td>0.051356</td>\n",
       "    </tr>\n",
       "    <tr>\n",
       "      <th>53</th>\n",
       "      <td>Profit Margin</td>\n",
       "      <td>0.051181</td>\n",
       "    </tr>\n",
       "    <tr>\n",
       "      <th>61</th>\n",
       "      <td>Total Current Liabilities</td>\n",
       "      <td>0.048519</td>\n",
       "    </tr>\n",
       "    <tr>\n",
       "      <th>8</th>\n",
       "      <td>Common Stocks</td>\n",
       "      <td>0.048394</td>\n",
       "    </tr>\n",
       "    <tr>\n",
       "      <th>31</th>\n",
       "      <td>Net Cash Flow-Operating</td>\n",
       "      <td>0.046749</td>\n",
       "    </tr>\n",
       "    <tr>\n",
       "      <th>55</th>\n",
       "      <td>Retained Earnings</td>\n",
       "      <td>0.040411</td>\n",
       "    </tr>\n",
       "    <tr>\n",
       "      <th>51</th>\n",
       "      <td>Pre-Tax Margin</td>\n",
       "      <td>0.040354</td>\n",
       "    </tr>\n",
       "    <tr>\n",
       "      <th>26</th>\n",
       "      <td>Long-Term Investments</td>\n",
       "      <td>0.036343</td>\n",
       "    </tr>\n",
       "    <tr>\n",
       "      <th>43</th>\n",
       "      <td>Other Current Assets</td>\n",
       "      <td>0.031856</td>\n",
       "    </tr>\n",
       "    <tr>\n",
       "      <th>10</th>\n",
       "      <td>Deferred Asset Charges</td>\n",
       "      <td>0.031451</td>\n",
       "    </tr>\n",
       "    <tr>\n",
       "      <th>0</th>\n",
       "      <td>Accounts Payable</td>\n",
       "      <td>0.031241</td>\n",
       "    </tr>\n",
       "    <tr>\n",
       "      <th>3</th>\n",
       "      <td>After Tax ROE</td>\n",
       "      <td>0.029437</td>\n",
       "    </tr>\n",
       "    <tr>\n",
       "      <th>64</th>\n",
       "      <td>Treasury Stock</td>\n",
       "      <td>0.028605</td>\n",
       "    </tr>\n",
       "    <tr>\n",
       "      <th>52</th>\n",
       "      <td>Pre-Tax ROE</td>\n",
       "      <td>0.025779</td>\n",
       "    </tr>\n",
       "    <tr>\n",
       "      <th>22</th>\n",
       "      <td>Inventory</td>\n",
       "      <td>0.018919</td>\n",
       "    </tr>\n",
       "    <tr>\n",
       "      <th>57</th>\n",
       "      <td>Sales, General and Admin.</td>\n",
       "      <td>0.018099</td>\n",
       "    </tr>\n",
       "    <tr>\n",
       "      <th>14</th>\n",
       "      <td>Equity Earnings/Loss Unconsolidated Subsidiary</td>\n",
       "      <td>0.015460</td>\n",
       "    </tr>\n",
       "    <tr>\n",
       "      <th>62</th>\n",
       "      <td>Total Equity</td>\n",
       "      <td>0.011848</td>\n",
       "    </tr>\n",
       "    <tr>\n",
       "      <th>2</th>\n",
       "      <td>Add'l income/expense items</td>\n",
       "      <td>0.004826</td>\n",
       "    </tr>\n",
       "    <tr>\n",
       "      <th>28</th>\n",
       "      <td>Misc. Stocks</td>\n",
       "      <td>0.003902</td>\n",
       "    </tr>\n",
       "    <tr>\n",
       "      <th>7</th>\n",
       "      <td>Changes in Inventories</td>\n",
       "      <td>0.003759</td>\n",
       "    </tr>\n",
       "  </tbody>\n",
       "</table>\n",
       "<p>65 rows × 2 columns</p>\n",
       "</div>"
      ],
      "text/plain": [
       "                                                    0         1\n",
       "35                             Net Income Adjustments  0.803932\n",
       "32                           Net Cash Flows-Financing  0.796299\n",
       "23                                        Investments  0.687170\n",
       "29                                     Net Borrowings  0.648792\n",
       "33                           Net Cash Flows-Investing  0.546791\n",
       "46                         Other Financing Activities  0.513872\n",
       "25                                     Long-Term Debt  0.448736\n",
       "39                                Non-Recurring Items  0.442829\n",
       "21                                   Interest Expense  0.358076\n",
       "49                         Other Operating Activities  0.357598\n",
       "17                                       Gross Margin  0.246595\n",
       "58  Short-Term Debt / Current Portion of Long-Term...  0.245590\n",
       "13                            Effect of Exchange Rate  0.242763\n",
       "19                                         Income Tax  0.241633\n",
       "45                                       Other Equity  0.232374\n",
       "18                                       Gross Profit  0.228460\n",
       "34                                         Net Income  0.225630\n",
       "37                        Net Income-Cont. Operations  0.222992\n",
       "27                                  Minority Interest  0.221747\n",
       "36       Net Income Applicable to Common Shareholders  0.220141\n",
       "30                                      Net Cash Flow  0.211399\n",
       "1                                 Accounts Receivable  0.189682\n",
       "41                                   Operating Margin  0.181000\n",
       "5                                     Capital Surplus  0.178615\n",
       "6                           Cash and Cash Equivalents  0.167609\n",
       "38                                    Net Receivables  0.166662\n",
       "56                         Sale and Purchase of Stock  0.155839\n",
       "20                                  Intangible Assets  0.140468\n",
       "47                         Other Investing Activities  0.110803\n",
       "44                          Other Current Liabilities  0.107213\n",
       "..                                                ...       ...\n",
       "63                                      Total Revenue  0.083239\n",
       "12                                       Depreciation  0.080168\n",
       "15                                       Fixed Assets  0.077568\n",
       "9                                     Cost of Revenue  0.065674\n",
       "59                             Short-Term Investments  0.060491\n",
       "54                           Research and Development  0.059997\n",
       "16                                           Goodwill  0.058753\n",
       "40                                   Operating Income  0.055888\n",
       "60                               Total Current Assets  0.052765\n",
       "42                                       Other Assets  0.051356\n",
       "53                                      Profit Margin  0.051181\n",
       "61                          Total Current Liabilities  0.048519\n",
       "8                                       Common Stocks  0.048394\n",
       "31                            Net Cash Flow-Operating  0.046749\n",
       "55                                  Retained Earnings  0.040411\n",
       "51                                     Pre-Tax Margin  0.040354\n",
       "26                              Long-Term Investments  0.036343\n",
       "43                               Other Current Assets  0.031856\n",
       "10                             Deferred Asset Charges  0.031451\n",
       "0                                    Accounts Payable  0.031241\n",
       "3                                       After Tax ROE  0.029437\n",
       "64                                     Treasury Stock  0.028605\n",
       "52                                        Pre-Tax ROE  0.025779\n",
       "22                                          Inventory  0.018919\n",
       "57                          Sales, General and Admin.  0.018099\n",
       "14     Equity Earnings/Loss Unconsolidated Subsidiary  0.015460\n",
       "62                                       Total Equity  0.011848\n",
       "2                          Add'l income/expense items  0.004826\n",
       "28                                       Misc. Stocks  0.003902\n",
       "7                              Changes in Inventories  0.003759\n",
       "\n",
       "[65 rows x 2 columns]"
      ]
     },
     "execution_count": 125,
     "metadata": {},
     "output_type": "execute_result"
    }
   ],
   "source": [
    "imp = []\n",
    "for i in range(65):\n",
    "    col = X_train[keep].columns[i]\n",
    "    curr = np.abs(get_cor(2, col))\n",
    "    imp.append([col, curr])\n",
    "    \n",
    "pd.DataFrame(imp).sort_values(1, ascending=False)"
   ]
  },
  {
   "cell_type": "code",
   "execution_count": 128,
   "metadata": {
    "collapsed": false
   },
   "outputs": [
    {
     "data": {
      "text/plain": [
       "[('Research and Development', 11.291499703424186),\n",
       " ('Sale and Purchase of Stock', 8.8122111475691227),\n",
       " ('Fixed Assets', 6.4682863348162378),\n",
       " ('Profit Margin', 6.0539468453283973),\n",
       " ('Cost of Revenue', 5.9566165425511333),\n",
       " ('Pre-Tax Margin', 5.2645727154978639),\n",
       " ('Goodwill', 5.2284159364574654),\n",
       " ('Inventory', 5.0681191590827011),\n",
       " ('Operating Margin', 4.9343387174861899),\n",
       " ('Depreciation', 4.9260334377177868),\n",
       " ('Deferred Liability Charges', 4.3705264616583985),\n",
       " ('Capital Expenditures', 4.2918794677383136),\n",
       " ('Intangible Assets', 4.1563398055079297),\n",
       " ('Other Operating Items', 4.0044560154183007),\n",
       " ('Gross Margin', 3.9879709239342267),\n",
       " ('Other Equity', 3.9326132699327276),\n",
       " ('Net Receivables', 3.8270578285734613),\n",
       " ('Misc. Stocks', 3.6003507825246253),\n",
       " ('Retained Earnings', 3.477290869365171),\n",
       " ('Other Liabilities', 3.3472170084605724),\n",
       " ('Sales, General and Admin.', 3.311032707382711),\n",
       " ('Changes in Inventories', 3.2336070985385952),\n",
       " ('Interest Expense', 2.8709845653483699),\n",
       " ('Capital Surplus', 2.7625231107422907),\n",
       " ('Non-Recurring Items', 2.7268516675306129),\n",
       " ('Net Cash Flow', 2.6652155438777672),\n",
       " ('Other Current Liabilities', 2.6186345361053154),\n",
       " ('Accounts Receivable', 2.5810212133463986),\n",
       " ('Deferred Asset Charges', 2.5700865217295075),\n",
       " ('Total Current Assets', 2.5513901045559204),\n",
       " ('Short-Term Investments', 2.4122978880376849),\n",
       " ('Total Current Liabilities', 2.299795960844103),\n",
       " ('Other Current Assets', 2.2451364889360192),\n",
       " ('Common Stocks', 1.9685425226291011),\n",
       " ('After Tax ROE', 1.7314630158416391),\n",
       " ('Treasury Stock', 1.5432076085891562),\n",
       " ('Minority Interest', 1.5386903757081676),\n",
       " ('Long-Term Investments', 1.4588181558130722),\n",
       " ('Other Investing Activities', 1.2705059804241683),\n",
       " ('Long-Term Debt', 1.2666549443045556),\n",
       " ('Total Equity', 1.2544660442792464),\n",
       " ('Income Tax', 1.1263797692840904),\n",
       " ('Total Revenue', 0.99082955034038522),\n",
       " ('Gross Profit', 0.85804167955604094),\n",
       " ('Net Income-Cont. Operations', 0.83608227243289424),\n",
       " ('Net Borrowings', 0.7520167540027628),\n",
       " (\"Add'l income/expense items\", 0.74709570022086202),\n",
       " ('Equity Earnings/Loss Unconsolidated Subsidiary', 0.53556804540663894),\n",
       " ('Effect of Exchange Rate', 0.48317594146310688),\n",
       " ('Pre-Tax ROE', 0.42782091082316798),\n",
       " ('Other Financing Activities', 0.38927582493104662),\n",
       " ('Liabilities', 0.29433644481054555),\n",
       " ('Short-Term Debt / Current Portion of Long-Term Debt', 0.19363256239449508),\n",
       " ('Total Liabilities', 0.17508840524732808),\n",
       " ('Net Cash Flows-Financing', 0.1623293556336442),\n",
       " ('Net Income Adjustments', 0.084482225185369478),\n",
       " ('Accounts Payable', 0.052672889621920974),\n",
       " ('Net Income', 0.027597411740798862),\n",
       " ('Cash and Cash Equivalents', 0.0),\n",
       " ('Earnings Before Interest and Tax', 0.0),\n",
       " ('Earnings Before Tax', 0.0),\n",
       " ('Investments', 0.0),\n",
       " ('Net Cash Flow-Operating', 0.0),\n",
       " ('Net Cash Flows-Investing', 0.0),\n",
       " ('Net Income Applicable to Common Shareholders', 0.0),\n",
       " ('Operating Income', 0.0),\n",
       " ('Other Assets', 0.0),\n",
       " ('Other Operating Activities', 0.0),\n",
       " ('Total Assets', 0.0),\n",
       " ('Total Liabilities & Equity', 0.0)]"
      ]
     },
     "execution_count": 128,
     "metadata": {},
     "output_type": "execute_result"
    }
   ],
   "source": [
    "logit = LogisticRegression(penalty='l1', C=1)\n",
    "\n",
    "logit.fit(X_train, y_train)\n",
    "sorted(zip(X.columns, np.sum(np.abs(logit.coef_), axis=0)), key=lambda x: -x[1])"
   ]
  },
  {
   "cell_type": "code",
   "execution_count": 164,
   "metadata": {
    "collapsed": false
   },
   "outputs": [
    {
     "name": "stdout",
     "output_type": "stream",
     "text": [
      "0.644444444444\n",
      "0.655555555556\n",
      "0.666666666667\n"
     ]
    }
   ],
   "source": [
    "# 'Net Cash Flow-Investing'\n",
    "import itertools\n",
    "rmv_ = ['Earnings Before Interest and Tax', 'Earnings Before Tax',\n",
    "             'Total Assets', 'Total Liabilities', 'Total Liabilities & Equity', \n",
    "        'Net Cash Flow-Investing', 'Deferred Asset Charges',\n",
    "        'Misc. Stocks']\n",
    "\n",
    "curr = 0\n",
    "bset_idx = []\n",
    "for i in range(3, 9):\n",
    "    for idx in itertools.combinations(range(6), i):\n",
    "        rmv = map(lambda i: rmv_[i], idx)\n",
    "        keep1 = filter(lambda j: X_train.columns[j] not in rmv, range(70))  \n",
    "        rf2 = RandomForestClassifier(max_depth=18, n_estimators=2000, random_state=0)\n",
    "        rf2.fit(X_train[keep1], y_train)\n",
    "        if rf2.score(X_test[keep1], y_test)>curr:\n",
    "            curr = rf2.score(X_test[keep1], y_test)\n",
    "            best_idx = idx\n",
    "            print curr\n",
    "        "
   ]
  },
  {
   "cell_type": "code",
   "execution_count": 163,
   "metadata": {
    "collapsed": false
   },
   "outputs": [
    {
     "data": {
      "text/plain": [
       "['Earnings Before Interest and Tax',\n",
       " 'Earnings Before Tax',\n",
       " 'Total Assets',\n",
       " 'Total Liabilities',\n",
       " 'Total Liabilities & Equity']"
      ]
     },
     "execution_count": 163,
     "metadata": {},
     "output_type": "execute_result"
    }
   ],
   "source": [
    "map(lambda i: rmv_[i], best_idx)"
   ]
  },
  {
   "cell_type": "code",
   "execution_count": 247,
   "metadata": {
    "collapsed": false
   },
   "outputs": [
    {
     "data": {
      "text/plain": [
       "0.66666666666666663"
      ]
     },
     "execution_count": 247,
     "metadata": {},
     "output_type": "execute_result"
    }
   ],
   "source": [
    "import xgboost as xgb\n",
    "\n",
    "param = {}\n",
    "param['objective'] = 'multi:softprob'\n",
    "param['eta'] = 0.02\n",
    "param['max_depth'] = 6\n",
    "param['silent'] = 1\n",
    "param['num_class'] = 11\n",
    "param['eval_metric'] = \"mlogloss\"\n",
    "param['min_child_weight'] = 3\n",
    "param['subsample'] = 0.7\n",
    "param['colsample_bytree'] = 0.7\n",
    "param['seed'] = 321\n",
    "num_rounds =200\n",
    "\n",
    "xgb_y_train = np.where(pd.get_dummies(y_train)==1)[1]\n",
    "xgtrain = xgb.DMatrix(X_train, label= xgb_y_train)\n",
    "\n",
    "clf = xgb.train(param, xgtrain, num_rounds)\n",
    "\n",
    "xgvalidation = xgb.DMatrix(X_test)\n",
    "y_prob = clf.predict(xgvalidation)\n",
    "xgb_y_test = np.where(pd.get_dummies(y_test)==1)[1]\n",
    "np.mean(np.argmax(y_prob, axis=1) == xgb_y_test)"
   ]
  },
  {
   "cell_type": "code",
   "execution_count": 312,
   "metadata": {
    "collapsed": false
   },
   "outputs": [
    {
     "data": {
      "text/plain": [
       "0.65555555555555556"
      ]
     },
     "execution_count": 312,
     "metadata": {},
     "output_type": "execute_result"
    }
   ],
   "source": [
    "param = {}\n",
    "param['objective'] = 'multi:softprob'\n",
    "param['eta'] = 0.02\n",
    "param['max_depth'] = 6\n",
    "param['silent'] = 1\n",
    "param['num_class'] = 11\n",
    "param['eval_metric'] = \"mlogloss\"\n",
    "param['min_child_weight'] = 3\n",
    "param['subsample'] = 0.7\n",
    "param['colsample_bytree'] = 0.7\n",
    "param['seed'] = 321\n",
    "num_rounds =200\n",
    "\n",
    "xgb_y_train = np.where(pd.get_dummies(y_train)==1)[1]\n",
    "xgtrain = xgb.DMatrix(X_train[keep], label= xgb_y_train)\n",
    "\n",
    "clf = xgb.train(param, xgtrain, num_rounds)\n",
    "\n",
    "xgvalidation = xgb.DMatrix(X_test[keep])\n",
    "y_prob = clf.predict(xgvalidation)\n",
    "xgb_y_test = np.where(pd.get_dummies(y_test)==1)[1]\n",
    "np.mean(np.argmax(y_prob, axis=1) == xgb_y_test)"
   ]
  },
  {
   "cell_type": "code",
   "execution_count": 363,
   "metadata": {
    "collapsed": false
   },
   "outputs": [
    {
     "data": {
      "text/plain": [
       "0.66666666666666663"
      ]
     },
     "execution_count": 363,
     "metadata": {},
     "output_type": "execute_result"
    }
   ],
   "source": [
    "param = {}\n",
    "param['objective'] = 'multi:softprob'\n",
    "param['eta'] = 0.005\n",
    "param['max_depth'] = 6\n",
    "param['silent'] = 1\n",
    "param['num_class'] = 11\n",
    "param['eval_metric'] = \"mlogloss\"\n",
    "param['min_child_weight'] = 3\n",
    "param['subsample'] = 0.7\n",
    "param['colsample_bytree'] = 0.7\n",
    "param['seed'] = 321\n",
    "num_rounds =3000\n",
    "\n",
    "xgb_y_train = np.where(pd.get_dummies(y_train)==1)[1]\n",
    "xgtrain = xgb.DMatrix(X_train[keep], label= xgb_y_train)\n",
    "\n",
    "clf = xgb.train(param, xgtrain, num_rounds)\n",
    "\n",
    "xgvalidation = xgb.DMatrix(X_test[keep])\n",
    "y_prob = clf.predict(xgvalidation, ntree_limit=1600)\n",
    "xgb_y_test = np.where(pd.get_dummies(y_test)==1)[1]\n",
    "np.mean(np.argmax(y_prob, axis=1) == xgb_y_test)"
   ]
  },
  {
   "cell_type": "code",
   "execution_count": 365,
   "metadata": {
    "collapsed": false
   },
   "outputs": [
    {
     "data": {
      "text/plain": [
       "0.64444444444444449"
      ]
     },
     "execution_count": 365,
     "metadata": {},
     "output_type": "execute_result"
    }
   ],
   "source": [
    "param = {}\n",
    "param['objective'] = 'multi:softprob'\n",
    "param['eta'] = 0.002\n",
    "param['max_depth'] = 6\n",
    "param['silent'] = 1\n",
    "param['num_class'] = 11\n",
    "param['eval_metric'] = \"mlogloss\"\n",
    "param['min_child_weight'] = 3\n",
    "param['subsample'] = 0.6\n",
    "param['colsample_bytree'] = 0.6\n",
    "param['seed'] = 321\n",
    "num_rounds =6000\n",
    "\n",
    "xgb_y_train = np.where(pd.get_dummies(y_train)==1)[1]\n",
    "xgtrain = xgb.DMatrix(X_train, label= xgb_y_train)\n",
    "\n",
    "clf = xgb.train(param, xgtrain, num_rounds)\n",
    "\n",
    "xgvalidation = xgb.DMatrix(X_test)\n",
    "xgb_y_test = np.where(pd.get_dummies(y_test)==1)[1]\n",
    "y_prob = clf.predict(xgvalidation)\n",
    "np.mean(np.argmax(y_prob, axis=1) == xgb_y_test)"
   ]
  },
  {
   "cell_type": "code",
   "execution_count": 367,
   "metadata": {
    "collapsed": false
   },
   "outputs": [
    {
     "name": "stdout",
     "output_type": "stream",
     "text": [
      "3010 0.666666666667 0\n",
      "3020 0.666666666667 0.666666666667\n",
      "3030 0.666666666667 0.666666666667\n",
      "3040 0.666666666667 0.666666666667\n",
      "3050 0.666666666667 0.666666666667\n",
      "3060 0.666666666667 0.666666666667\n",
      "3070 0.666666666667 0.666666666667\n",
      "3080 0.666666666667 0.666666666667\n",
      "3090 0.666666666667 0.666666666667\n",
      "3100 0.666666666667 0.666666666667\n",
      "3110 0.666666666667 0.666666666667\n",
      "3120 0.666666666667 0.666666666667\n",
      "3130 0.666666666667 0.666666666667\n",
      "3140 0.666666666667 0.666666666667\n",
      "3150 0.666666666667 0.666666666667\n",
      "3160 0.666666666667 0.666666666667\n",
      "3170 0.666666666667 0.666666666667\n",
      "3180 0.666666666667 0.666666666667\n",
      "3190 0.666666666667 0.666666666667\n",
      "3200 0.666666666667 0.666666666667\n",
      "3210 0.666666666667 0.666666666667\n",
      "3220 0.666666666667 0.666666666667\n",
      "3230 0.666666666667 0.666666666667\n",
      "3240 0.666666666667 0.666666666667\n",
      "3250 0.666666666667 0.666666666667\n",
      "3260 0.666666666667 0.666666666667\n",
      "3270 0.666666666667 0.666666666667\n",
      "3280 0.666666666667 0.666666666667\n",
      "3290 0.666666666667 0.666666666667\n",
      "3300 0.666666666667 0.666666666667\n",
      "3310 0.666666666667 0.666666666667\n",
      "3320 0.666666666667 0.666666666667\n",
      "3330 0.666666666667 0.666666666667\n",
      "3340 0.666666666667 0.666666666667\n",
      "3350 0.666666666667 0.666666666667\n",
      "3360 0.666666666667 0.666666666667\n",
      "3370 0.666666666667 0.666666666667\n",
      "3380 0.666666666667 0.666666666667\n",
      "3390 0.666666666667 0.666666666667\n",
      "3400 0.666666666667 0.666666666667\n",
      "3410 0.666666666667 0.666666666667\n",
      "3420 0.666666666667 0.666666666667\n",
      "3430 0.666666666667 0.666666666667\n",
      "3440 0.666666666667 0.666666666667\n",
      "3450 0.666666666667 0.666666666667\n",
      "3460 0.666666666667 0.666666666667\n",
      "3470 0.666666666667 0.666666666667\n",
      "3480 0.666666666667 0.666666666667\n",
      "3490 0.666666666667 0.666666666667\n",
      "3500 0.666666666667 0.666666666667\n",
      "3510 0.666666666667 0.666666666667\n",
      "3520 0.655555555556 0.666666666667\n",
      "3530 0.655555555556 0.666666666667\n",
      "3540 0.655555555556 0.666666666667\n",
      "3550 0.655555555556 0.666666666667\n",
      "3560 0.655555555556 0.666666666667\n",
      "3570 0.655555555556 0.666666666667\n",
      "3580 0.655555555556 0.666666666667\n",
      "3590 0.655555555556 0.666666666667\n",
      "3600 0.655555555556 0.666666666667\n",
      "3610 0.655555555556 0.666666666667\n",
      "3620 0.655555555556 0.666666666667\n",
      "3630 0.655555555556 0.666666666667\n",
      "3640 0.655555555556 0.666666666667\n",
      "3650 0.655555555556 0.666666666667\n",
      "3660 0.655555555556 0.666666666667\n",
      "3670 0.655555555556 0.666666666667\n",
      "3680 0.655555555556 0.666666666667\n",
      "3690 0.655555555556 0.666666666667\n",
      "3700 0.655555555556 0.666666666667\n",
      "3710 0.655555555556 0.666666666667\n",
      "3720 0.655555555556 0.666666666667\n",
      "3730 0.655555555556 0.666666666667\n",
      "3740 0.655555555556 0.666666666667\n",
      "3750 0.655555555556 0.666666666667\n",
      "3760 0.655555555556 0.666666666667\n",
      "3770 0.655555555556 0.666666666667\n",
      "3780 0.655555555556 0.666666666667\n",
      "3790 0.655555555556 0.666666666667\n",
      "3800 0.655555555556 0.666666666667\n",
      "3810 0.655555555556 0.666666666667\n",
      "3820 0.655555555556 0.666666666667\n",
      "3830 0.655555555556 0.666666666667\n",
      "3840 0.655555555556 0.666666666667\n",
      "3850 0.655555555556 0.666666666667\n",
      "3860 0.655555555556 0.666666666667\n",
      "3870 0.655555555556 0.666666666667\n",
      "3880 0.655555555556 0.666666666667\n",
      "3890 0.655555555556 0.666666666667\n",
      "3900 0.655555555556 0.666666666667\n",
      "3910 0.655555555556 0.666666666667\n",
      "3920 0.655555555556 0.666666666667\n",
      "3930 0.655555555556 0.666666666667\n",
      "3940 0.655555555556 0.666666666667\n",
      "3950 0.655555555556 0.666666666667\n",
      "3960 0.655555555556 0.666666666667\n",
      "3970 0.655555555556 0.666666666667\n",
      "3980 0.655555555556 0.666666666667\n",
      "3990 0.655555555556 0.666666666667\n",
      "4000 0.655555555556 0.666666666667\n",
      "4010 0.655555555556 0.666666666667\n",
      "4020 0.655555555556 0.666666666667\n",
      "4030 0.655555555556 0.666666666667\n",
      "4040 0.655555555556 0.666666666667\n",
      "4050 0.655555555556 0.666666666667\n",
      "4060 0.655555555556 0.666666666667\n",
      "4070 0.655555555556 0.666666666667\n",
      "4080 0.655555555556 0.666666666667\n",
      "4090 0.655555555556 0.666666666667\n",
      "4100 0.655555555556 0.666666666667\n",
      "4110 0.655555555556 0.666666666667\n",
      "4120 0.655555555556 0.666666666667\n",
      "4130 0.655555555556 0.666666666667\n",
      "4140 0.655555555556 0.666666666667\n",
      "4150 0.655555555556 0.666666666667\n",
      "4160 0.655555555556 0.666666666667\n",
      "4170 0.655555555556 0.666666666667\n",
      "4180 0.655555555556 0.666666666667\n",
      "4190 0.655555555556 0.666666666667\n",
      "4200 0.655555555556 0.666666666667\n",
      "4210 0.655555555556 0.666666666667\n",
      "4220 0.655555555556 0.666666666667\n",
      "4230 0.655555555556 0.666666666667\n",
      "4240 0.655555555556 0.666666666667\n",
      "4250 0.655555555556 0.666666666667\n",
      "4260 0.655555555556 0.666666666667\n",
      "4270 0.655555555556 0.666666666667\n",
      "4280 0.655555555556 0.666666666667\n",
      "4290 0.655555555556 0.666666666667\n",
      "4300 0.655555555556 0.666666666667\n",
      "4310 0.655555555556 0.666666666667\n",
      "4320 0.655555555556 0.666666666667\n",
      "4330 0.655555555556 0.666666666667\n",
      "4340 0.655555555556 0.666666666667\n",
      "4350 0.655555555556 0.666666666667\n",
      "4360 0.655555555556 0.666666666667\n",
      "4370 0.655555555556 0.666666666667\n",
      "4380 0.655555555556 0.666666666667\n",
      "4390 0.655555555556 0.666666666667\n",
      "4400 0.655555555556 0.666666666667\n",
      "4410 0.655555555556 0.666666666667\n",
      "4420 0.655555555556 0.666666666667\n",
      "4430 0.655555555556 0.666666666667\n",
      "4440 0.655555555556 0.666666666667\n",
      "4450 0.655555555556 0.666666666667\n",
      "4460 0.655555555556 0.666666666667\n",
      "4470 0.655555555556 0.666666666667\n",
      "4480 0.655555555556 0.666666666667\n",
      "4490 0.655555555556 0.666666666667\n",
      "4500 0.655555555556 0.666666666667\n",
      "4510 0.655555555556 0.666666666667\n",
      "4520 0.655555555556 0.666666666667\n",
      "4530 0.655555555556 0.666666666667\n",
      "4540 0.655555555556 0.666666666667\n",
      "4550 0.655555555556 0.666666666667\n",
      "4560 0.655555555556 0.666666666667\n",
      "4570 0.655555555556 0.666666666667\n",
      "4580 0.655555555556 0.666666666667\n",
      "4590 0.655555555556 0.666666666667\n",
      "4600 0.655555555556 0.666666666667\n",
      "4610 0.655555555556 0.666666666667\n",
      "4620 0.655555555556 0.666666666667\n",
      "4630 0.655555555556 0.666666666667\n",
      "4640 0.655555555556 0.666666666667\n",
      "4650 0.655555555556 0.666666666667\n",
      "4660 0.655555555556 0.666666666667\n",
      "4670 0.655555555556 0.666666666667\n",
      "4680 0.655555555556 0.666666666667\n",
      "4690 0.655555555556 0.666666666667\n",
      "4700 0.655555555556 0.666666666667\n",
      "4710 0.655555555556 0.666666666667\n",
      "4720 0.655555555556 0.666666666667\n",
      "4730 0.655555555556 0.666666666667\n",
      "4740 0.655555555556 0.666666666667\n",
      "4750 0.655555555556 0.666666666667\n",
      "4760 0.655555555556 0.666666666667\n",
      "4770 0.655555555556 0.666666666667\n",
      "4780 0.655555555556 0.666666666667\n",
      "4790 0.655555555556 0.666666666667\n",
      "4800 0.655555555556 0.666666666667\n",
      "4810 0.655555555556 0.666666666667\n",
      "4820 0.655555555556 0.666666666667\n",
      "4830 0.644444444444 0.666666666667\n",
      "4840 0.655555555556 0.666666666667\n",
      "4850 0.655555555556 0.666666666667\n",
      "4860 0.655555555556 0.666666666667\n",
      "4870 0.655555555556 0.666666666667\n",
      "4880 0.655555555556 0.666666666667\n",
      "4890 0.644444444444 0.666666666667\n",
      "4900 0.655555555556 0.666666666667\n",
      "4910 0.644444444444 0.666666666667\n",
      "4920 0.644444444444 0.666666666667\n",
      "4930 0.644444444444 0.666666666667\n",
      "4940 0.644444444444 0.666666666667\n",
      "4950 0.644444444444 0.666666666667\n",
      "4960 0.644444444444 0.666666666667\n",
      "4970 0.644444444444 0.666666666667\n",
      "4980 0.644444444444 0.666666666667\n",
      "4990 0.644444444444 0.666666666667\n",
      "5000 0.644444444444 0.666666666667\n",
      "5010 0.644444444444 0.666666666667\n",
      "5020 0.644444444444 0.666666666667\n",
      "5030 0.644444444444 0.666666666667\n",
      "5040 0.644444444444 0.666666666667\n",
      "5050 0.644444444444 0.666666666667\n",
      "5060 0.644444444444 0.666666666667\n",
      "5070 0.644444444444 0.666666666667\n",
      "5080 0.644444444444 0.666666666667\n",
      "5090 0.644444444444 0.666666666667\n",
      "5100 0.644444444444 0.666666666667\n",
      "5110 0.644444444444 0.666666666667\n",
      "5120 0.644444444444 0.666666666667\n",
      "5130 0.644444444444 0.666666666667\n",
      "5140 0.644444444444 0.666666666667\n",
      "5150 0.644444444444 0.666666666667\n",
      "5160 0.644444444444 0.666666666667\n",
      "5170 0.644444444444 0.666666666667\n",
      "5180 0.644444444444 0.666666666667\n",
      "5190 0.644444444444 0.666666666667\n",
      "5200 0.644444444444 0.666666666667\n",
      "5210 0.644444444444 0.666666666667\n",
      "5220 0.644444444444 0.666666666667\n",
      "5230 0.644444444444 0.666666666667\n",
      "5240 0.644444444444 0.666666666667\n",
      "5250 0.644444444444 0.666666666667\n",
      "5260 0.644444444444 0.666666666667\n",
      "5270 0.644444444444 0.666666666667\n",
      "5280 0.644444444444 0.666666666667\n",
      "5290 0.644444444444 0.666666666667\n",
      "5300 0.644444444444 0.666666666667\n",
      "5310 0.644444444444 0.666666666667\n",
      "5320 0.644444444444 0.666666666667\n",
      "5330 0.644444444444 0.666666666667\n",
      "5340 0.644444444444 0.666666666667\n",
      "5350 0.644444444444 0.666666666667\n",
      "5360 0.644444444444 0.666666666667\n",
      "5370 0.644444444444 0.666666666667\n",
      "5380 0.644444444444 0.666666666667\n",
      "5390 0.644444444444 0.666666666667\n",
      "5400 0.644444444444 0.666666666667\n",
      "5410 0.644444444444 0.666666666667\n",
      "5420 0.644444444444 0.666666666667\n",
      "5430 0.644444444444 0.666666666667\n",
      "5440 0.644444444444 0.666666666667\n",
      "5450 0.644444444444 0.666666666667\n",
      "5460 0.644444444444 0.666666666667\n",
      "5470 0.644444444444 0.666666666667\n",
      "5480 0.644444444444 0.666666666667\n",
      "5490 0.644444444444 0.666666666667\n",
      "5500 0.644444444444 0.666666666667\n",
      "5510 0.644444444444 0.666666666667\n"
     ]
    },
    {
     "ename": "KeyboardInterrupt",
     "evalue": "",
     "output_type": "error",
     "traceback": [
      "\u001b[0;31m---------------------------------------------------------------------------\u001b[0m",
      "\u001b[0;31mKeyboardInterrupt\u001b[0m                         Traceback (most recent call last)",
      "\u001b[0;32m<ipython-input-367-bc5f8d85d55a>\u001b[0m in \u001b[0;36m<module>\u001b[0;34m()\u001b[0m\n\u001b[1;32m      4\u001b[0m \u001b[0;32mfor\u001b[0m \u001b[0mi\u001b[0m \u001b[0;32min\u001b[0m \u001b[0mrange\u001b[0m\u001b[0;34m(\u001b[0m\u001b[0;36m300\u001b[0m\u001b[0;34m)\u001b[0m\u001b[0;34m:\u001b[0m\u001b[0;34m\u001b[0m\u001b[0m\n\u001b[1;32m      5\u001b[0m     \u001b[0mnum\u001b[0m \u001b[0;34m=\u001b[0m \u001b[0;36m3000\u001b[0m\u001b[0;34m+\u001b[0m\u001b[0;34m(\u001b[0m\u001b[0mi\u001b[0m\u001b[0;34m+\u001b[0m\u001b[0;36m1\u001b[0m\u001b[0;34m)\u001b[0m\u001b[0;34m*\u001b[0m\u001b[0;36m10\u001b[0m\u001b[0;34m\u001b[0m\u001b[0m\n\u001b[0;32m----> 6\u001b[0;31m     \u001b[0my_prob\u001b[0m \u001b[0;34m=\u001b[0m \u001b[0mclf\u001b[0m\u001b[0;34m.\u001b[0m\u001b[0mpredict\u001b[0m\u001b[0;34m(\u001b[0m\u001b[0mxgvalidation\u001b[0m\u001b[0;34m,\u001b[0m \u001b[0mntree_limit\u001b[0m\u001b[0;34m=\u001b[0m\u001b[0mnum\u001b[0m\u001b[0;34m)\u001b[0m\u001b[0;34m\u001b[0m\u001b[0m\n\u001b[0m\u001b[1;32m      7\u001b[0m     \u001b[0;32mprint\u001b[0m \u001b[0mnum\u001b[0m\u001b[0;34m,\u001b[0m \u001b[0mnp\u001b[0m\u001b[0;34m.\u001b[0m\u001b[0mmean\u001b[0m\u001b[0;34m(\u001b[0m\u001b[0mnp\u001b[0m\u001b[0;34m.\u001b[0m\u001b[0margmax\u001b[0m\u001b[0;34m(\u001b[0m\u001b[0my_prob\u001b[0m\u001b[0;34m,\u001b[0m \u001b[0maxis\u001b[0m\u001b[0;34m=\u001b[0m\u001b[0;36m1\u001b[0m\u001b[0;34m)\u001b[0m \u001b[0;34m==\u001b[0m \u001b[0mxgb_y_test\u001b[0m\u001b[0;34m)\u001b[0m\u001b[0;34m,\u001b[0m \u001b[0mcurr\u001b[0m\u001b[0;34m\u001b[0m\u001b[0m\n\u001b[1;32m      8\u001b[0m     \u001b[0;32mif\u001b[0m \u001b[0mcurr\u001b[0m \u001b[0;34m<\u001b[0m \u001b[0mnp\u001b[0m\u001b[0;34m.\u001b[0m\u001b[0mmean\u001b[0m\u001b[0;34m(\u001b[0m\u001b[0mnp\u001b[0m\u001b[0;34m.\u001b[0m\u001b[0margmax\u001b[0m\u001b[0;34m(\u001b[0m\u001b[0my_prob\u001b[0m\u001b[0;34m,\u001b[0m \u001b[0maxis\u001b[0m\u001b[0;34m=\u001b[0m\u001b[0;36m1\u001b[0m\u001b[0;34m)\u001b[0m \u001b[0;34m==\u001b[0m \u001b[0mxgb_y_test\u001b[0m\u001b[0;34m)\u001b[0m\u001b[0;34m:\u001b[0m\u001b[0;34m\u001b[0m\u001b[0m\n",
      "\u001b[0;32m/Users/LukeLin/anaconda2/lib/python2.7/site-packages/xgboost-0.6-py2.7.egg/xgboost/core.pyc\u001b[0m in \u001b[0;36mpredict\u001b[0;34m(self, data, output_margin, ntree_limit, pred_leaf)\u001b[0m\n\u001b[1;32m    955\u001b[0m                                           \u001b[0moption_mask\u001b[0m\u001b[0;34m,\u001b[0m \u001b[0mntree_limit\u001b[0m\u001b[0;34m,\u001b[0m\u001b[0;34m\u001b[0m\u001b[0m\n\u001b[1;32m    956\u001b[0m                                           \u001b[0mctypes\u001b[0m\u001b[0;34m.\u001b[0m\u001b[0mbyref\u001b[0m\u001b[0;34m(\u001b[0m\u001b[0mlength\u001b[0m\u001b[0;34m)\u001b[0m\u001b[0;34m,\u001b[0m\u001b[0;34m\u001b[0m\u001b[0m\n\u001b[0;32m--> 957\u001b[0;31m                                           ctypes.byref(preds)))\n\u001b[0m\u001b[1;32m    958\u001b[0m         \u001b[0mpreds\u001b[0m \u001b[0;34m=\u001b[0m \u001b[0mctypes2numpy\u001b[0m\u001b[0;34m(\u001b[0m\u001b[0mpreds\u001b[0m\u001b[0;34m,\u001b[0m \u001b[0mlength\u001b[0m\u001b[0;34m.\u001b[0m\u001b[0mvalue\u001b[0m\u001b[0;34m,\u001b[0m \u001b[0mnp\u001b[0m\u001b[0;34m.\u001b[0m\u001b[0mfloat32\u001b[0m\u001b[0;34m)\u001b[0m\u001b[0;34m\u001b[0m\u001b[0m\n\u001b[1;32m    959\u001b[0m         \u001b[0;32mif\u001b[0m \u001b[0mpred_leaf\u001b[0m\u001b[0;34m:\u001b[0m\u001b[0;34m\u001b[0m\u001b[0m\n",
      "\u001b[0;31mKeyboardInterrupt\u001b[0m: "
     ]
    }
   ],
   "source": [
    "curr =0\n",
    "good =0\n",
    "\n",
    "for i in range(300):\n",
    "    num = 3000+(i+1)*10\n",
    "    y_prob = clf.predict(xgvalidation, ntree_limit=num)\n",
    "    print num, np.mean(np.argmax(y_prob, axis=1) == xgb_y_test), curr\n",
    "    if curr < np.mean(np.argmax(y_prob, axis=1) == xgb_y_test):\n",
    "        curr = np.mean(np.argmax(y_prob, axis=1) == xgb_y_test)\n",
    "        good = i"
   ]
  },
  {
   "cell_type": "code",
   "execution_count": 370,
   "metadata": {
    "collapsed": false
   },
   "outputs": [
    {
     "data": {
      "text/plain": [
       "0.61111111111111116"
      ]
     },
     "execution_count": 370,
     "metadata": {},
     "output_type": "execute_result"
    }
   ],
   "source": [
    "pca = PCA()\n",
    "pc_train = pca.fit_transform(X_train)\n",
    "pc_test = pca.transform(X_test)\n",
    "\n",
    "\n",
    "rf_pca = RandomForestClassifier(max_depth=18, n_estimators=2000, random_state=0)\n",
    "rf_pca.fit(pc_train, y_train)\n",
    "rf_pca.score(pc_test, y_test)"
   ]
  },
  {
   "cell_type": "code",
   "execution_count": 373,
   "metadata": {
    "collapsed": false
   },
   "outputs": [
    {
     "name": "stdout",
     "output_type": "stream",
     "text": [
      "658.573629141\n",
      "0.555555555556\n",
      "{'n_estimators': 1500, 'max_depth': 14}\n"
     ]
    }
   ],
   "source": [
    "sk4 = StratifiedKFold()\n",
    "params =  {'max_depth':[6, 10, 12, 14, 16, 18, 20],\n",
    "           'n_estimators': [100, 300, 500, 800, 1000, 1200, 1500]}\n",
    "\n",
    "random.seed(0)\n",
    "rf_pca = RandomForestClassifier()\n",
    "cv_rf_pca = GridSearchCV(rf_pca, param_grid=params, cv=sk4)\n",
    "start = time.time()\n",
    "cv_rf_pca.fit(pc_train, y_train)\n",
    "print time.time()-start\n",
    "print cv_rf_pca.score(pc_test, y_test)\n",
    "print cv_rf_pca.best_params_"
   ]
  },
  {
   "cell_type": "code",
   "execution_count": 384,
   "metadata": {
    "collapsed": false
   },
   "outputs": [
    {
     "data": {
      "text/plain": [
       "0.6333333333333333"
      ]
     },
     "execution_count": 384,
     "metadata": {},
     "output_type": "execute_result"
    }
   ],
   "source": [
    "param = {}\n",
    "param['objective'] = 'multi:softprob'\n",
    "param['eta'] = 0.002\n",
    "param['max_depth'] = 6\n",
    "param['silent'] = 1\n",
    "param['num_class'] = 11\n",
    "param['eval_metric'] = \"mlogloss\"\n",
    "param['min_child_weight'] = 3\n",
    "param['subsample'] = 0.6\n",
    "param['colsample_bytree'] = 0.6\n",
    "param['seed'] = 321\n",
    "num_rounds =6000\n",
    "\n",
    "xgb_y_train = np.where(pd.get_dummies(y_train)==1)[1]\n",
    "pc_xgtrain = xgb.DMatrix(pc_train, label= xgb_y_train)\n",
    "\n",
    "xgb_clf = xgb.train(param, pc_xgtrain, num_rounds)\n",
    "\n",
    "pc_xgvalidation = xgb.DMatrix(pc_test)\n",
    "xgb_y_test = np.where(pd.get_dummies(y_test)==1)[1]\n",
    "pc_y_prob = xgb_clf.predict(pc_xgvalidation)\n",
    "np.mean(np.argmax(pc_y_prob, axis=1) == xgb_y_test)"
   ]
  },
  {
   "cell_type": "code",
   "execution_count": null,
   "metadata": {
    "collapsed": false
   },
   "outputs": [
    {
     "name": "stdout",
     "output_type": "stream",
     "text": [
      "10 0.555555555556\n",
      "20 0.577777777778\n",
      "30 0.511111111111\n",
      "40 0.555555555556\n",
      "50 0.544444444444\n",
      "60 0.566666666667\n",
      "70 0.566666666667\n",
      "80 0.588888888889\n",
      "90 0.533333333333\n",
      "100 0.588888888889\n",
      "110 0.577777777778\n",
      "120 0.555555555556\n",
      "130 0.544444444444\n",
      "140 0.555555555556\n",
      "150 0.566666666667\n",
      "160 0.566666666667\n",
      "170 0.566666666667\n",
      "180 0.577777777778\n",
      "190 0.577777777778\n",
      "200 0.588888888889\n",
      "210 0.577777777778\n",
      "220 0.577777777778\n",
      "230 0.577777777778\n",
      "240 0.566666666667\n",
      "250 0.577777777778\n",
      "260 0.566666666667\n",
      "270 0.577777777778\n",
      "280 0.577777777778\n",
      "290 0.577777777778\n",
      "300 0.588888888889\n",
      "310 0.577777777778\n",
      "320 0.588888888889\n",
      "330 0.588888888889\n",
      "340 0.588888888889\n",
      "350 0.611111111111\n",
      "360 0.611111111111\n",
      "370 0.611111111111\n",
      "380 0.622222222222\n",
      "390 0.622222222222\n",
      "400 0.622222222222\n",
      "410 0.611111111111\n",
      "420 0.622222222222\n",
      "430 0.622222222222\n",
      "440 0.622222222222\n",
      "450 0.622222222222\n",
      "460 0.622222222222\n",
      "470 0.611111111111\n",
      "480 0.611111111111\n",
      "490 0.611111111111\n",
      "500 0.622222222222\n",
      "510 0.622222222222\n",
      "520 0.611111111111\n",
      "530 0.622222222222\n",
      "540 0.611111111111\n",
      "550 0.644444444444\n",
      "560 0.644444444444\n",
      "570 0.633333333333\n",
      "580 0.633333333333\n",
      "590 0.622222222222\n",
      "600 0.633333333333\n",
      "610 0.633333333333\n",
      "620 0.622222222222\n",
      "630 0.633333333333\n",
      "640 0.644444444444\n",
      "650 0.644444444444\n",
      "660 0.655555555556\n",
      "670 0.644444444444\n",
      "680 0.655555555556\n",
      "690 0.655555555556\n",
      "700 0.644444444444\n",
      "710 0.644444444444\n",
      "720 0.644444444444\n",
      "730 0.644444444444\n",
      "740 0.644444444444\n",
      "750 0.633333333333\n",
      "760 0.633333333333\n",
      "770 0.633333333333\n",
      "780 0.633333333333\n",
      "790 0.633333333333\n",
      "800 0.633333333333\n",
      "810 0.633333333333\n",
      "820 0.633333333333\n",
      "830 0.633333333333\n",
      "840 0.633333333333\n",
      "850 0.644444444444\n",
      "860 0.644444444444\n",
      "870 0.633333333333\n",
      "880 0.633333333333\n",
      "890 0.633333333333\n",
      "900 0.633333333333\n",
      "910 0.633333333333\n",
      "920 0.633333333333\n",
      "930 0.633333333333\n",
      "940 0.633333333333\n",
      "950 0.633333333333\n",
      "960 0.633333333333\n",
      "970 0.633333333333\n",
      "980 0.633333333333\n",
      "990 0.633333333333\n",
      "1000 0.633333333333\n",
      "1010 0.633333333333\n",
      "1020 0.633333333333\n",
      "1030 0.633333333333\n",
      "1040 0.633333333333\n",
      "1050 0.633333333333\n",
      "1060 0.622222222222\n",
      "1070 0.633333333333\n",
      "1080 0.633333333333\n",
      "1090 0.633333333333\n",
      "1100 0.644444444444\n",
      "1110 0.644444444444\n",
      "1120 0.644444444444\n",
      "1130 0.644444444444\n",
      "1140 0.644444444444\n",
      "1150 0.644444444444\n",
      "1160 0.644444444444\n",
      "1170 0.644444444444\n",
      "1180 0.644444444444\n",
      "1190 0.644444444444\n",
      "1200 0.644444444444\n",
      "1210 0.644444444444\n",
      "1220 0.644444444444\n",
      "1230 0.644444444444\n",
      "1240 0.644444444444\n",
      "1250 0.644444444444\n",
      "1260 0.644444444444\n",
      "1270 0.644444444444\n",
      "1280 0.644444444444\n",
      "1290 0.644444444444\n",
      "1300 0.644444444444\n",
      "1310 0.644444444444\n",
      "1320 0.644444444444\n",
      "1330 0.644444444444\n",
      "1340 0.644444444444\n",
      "1350 0.644444444444\n",
      "1360 0.644444444444\n",
      "1370 0.644444444444\n",
      "1380 0.644444444444\n",
      "1390 0.644444444444\n",
      "1400 0.644444444444\n",
      "1410 0.644444444444\n",
      "1420 0.644444444444\n",
      "1430 0.644444444444\n",
      "1440 0.644444444444\n",
      "1450 0.644444444444\n",
      "1460 0.644444444444\n",
      "1470 0.644444444444\n",
      "1480 0.644444444444\n",
      "1490 0.644444444444\n",
      "1500 0.644444444444\n",
      "1510 0.644444444444\n",
      "1520 0.644444444444\n",
      "1530 0.644444444444\n",
      "1540 0.644444444444\n",
      "1550 0.644444444444\n",
      "1560 0.644444444444\n",
      "1570 0.644444444444\n",
      "1580 0.644444444444\n",
      "1590 0.644444444444\n",
      "1600 0.644444444444\n",
      "1610 0.644444444444\n",
      "1620 0.644444444444\n",
      "1630 0.644444444444\n",
      "1640 0.644444444444\n",
      "1650 0.644444444444\n",
      "1660 0.644444444444\n",
      "1670 0.644444444444\n",
      "1680 0.655555555556\n",
      "1690 0.655555555556\n",
      "1700 0.655555555556\n",
      "1710 0.655555555556\n",
      "1720 0.655555555556\n",
      "1730 0.655555555556\n",
      "1740 0.655555555556\n",
      "1750 0.655555555556\n",
      "1760 0.655555555556\n",
      "1770 0.655555555556\n",
      "1780 0.655555555556\n",
      "1790 0.655555555556\n",
      "1800 0.655555555556\n",
      "1810 0.655555555556\n",
      "1820 0.655555555556\n",
      "1830 0.655555555556\n",
      "1840 0.655555555556\n",
      "1850 0.655555555556\n",
      "1860 0.655555555556\n",
      "1870 0.655555555556\n",
      "1880 0.655555555556\n",
      "1890 0.655555555556\n",
      "1900 0.655555555556\n",
      "1910 0.655555555556\n",
      "1920 0.655555555556\n",
      "1930 0.655555555556\n",
      "1940 0.655555555556\n",
      "1950 0.655555555556\n",
      "1960 0.655555555556\n",
      "1970 0.655555555556\n",
      "1980 0.655555555556\n",
      "1990 0.655555555556\n",
      "2000 0.655555555556\n",
      "2010 0.655555555556\n",
      "2020 0.655555555556\n",
      "2030 0.655555555556\n",
      "2040 0.655555555556\n",
      "2050 0.655555555556\n",
      "2060 0.655555555556\n",
      "2070 0.655555555556\n",
      "2080 0.655555555556\n",
      "2090 0.655555555556\n",
      "2100 0.655555555556\n",
      "2110 0.644444444444\n",
      "2120 0.644444444444\n",
      "2130 0.644444444444\n",
      "2140 0.644444444444\n",
      "2150 0.644444444444\n",
      "2160 0.644444444444\n",
      "2170 0.644444444444\n",
      "2180 0.644444444444\n",
      "2190 0.644444444444\n",
      "2200 0.644444444444\n",
      "2210 0.644444444444\n",
      "2220 0.644444444444\n",
      "2230 0.644444444444\n",
      "2240 0.644444444444\n"
     ]
    }
   ],
   "source": [
    "for i in range(300):\n",
    "    num= 10*(i+1)\n",
    "    pc_y_prob = xgb_clf.predict(pc_xgvalidation, ntree_limit=num)\n",
    "    print num, np.mean(np.argmax(pc_y_prob, axis=1) == xgb_y_test)"
   ]
  },
  {
   "cell_type": "code",
   "execution_count": null,
   "metadata": {
    "collapsed": true
   },
   "outputs": [],
   "source": []
  }
 ],
 "metadata": {
  "anaconda-cloud": {},
  "kernelspec": {
   "display_name": "Python [Root]",
   "language": "python",
   "name": "Python [Root]"
  },
  "language_info": {
   "codemirror_mode": {
    "name": "ipython",
    "version": 2
   },
   "file_extension": ".py",
   "mimetype": "text/x-python",
   "name": "python",
   "nbconvert_exporter": "python",
   "pygments_lexer": "ipython2",
   "version": "2.7.12"
  }
 },
 "nbformat": 4,
 "nbformat_minor": 0
}
