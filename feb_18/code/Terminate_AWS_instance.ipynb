{
 "cells": [
  {
   "cell_type": "markdown",
   "metadata": {},
   "source": [
    "#### 請按以下步驟終止 (Terminate) 已開啟的 AWS instance，以終止計費。\n",
    "\n",
    "\n",
    "#### 進入到Console 以後點選你的 running instance\n",
    "\n",
    "<img src=https://raw.githubusercontent.com/LukeLinEx/LukeLinEx.github.io/master/feb_18/terminate/1.png>"
   ]
  },
  {
   "cell_type": "markdown",
   "metadata": {},
   "source": [
    "#### 在框框裡勾選你要終止的 instance，並點擊Actions\n",
    "<img src=https://raw.githubusercontent.com/LukeLinEx/LukeLinEx.github.io/master/feb_18/terminate/2.png>"
   ]
  },
  {
   "cell_type": "markdown",
   "metadata": {},
   "source": [
    "#### 把游標移到 Instance State\n",
    "\n",
    "<img src=https://raw.githubusercontent.com/LukeLinEx/LukeLinEx.github.io/master/feb_18/terminate/3.png>"
   ]
  },
  {
   "cell_type": "markdown",
   "metadata": {},
   "source": [
    "#### 點選Terminate。請注意一旦終止則所有的資料都不復存在，需先行將資料存到 local computer 裡面。\n",
    "\n",
    "<img src=https://raw.githubusercontent.com/LukeLinEx/LukeLinEx.github.io/master/feb_18/terminate/4.png>"
   ]
  },
  {
   "cell_type": "code",
   "execution_count": null,
   "metadata": {
    "collapsed": true
   },
   "outputs": [],
   "source": []
  }
 ],
 "metadata": {
  "kernelspec": {
   "display_name": "Python [Root]",
   "language": "python",
   "name": "Python [Root]"
  },
  "language_info": {
   "codemirror_mode": {
    "name": "ipython",
    "version": 2
   },
   "file_extension": ".py",
   "mimetype": "text/x-python",
   "name": "python",
   "nbconvert_exporter": "python",
   "pygments_lexer": "ipython2",
   "version": "2.7.12"
  }
 },
 "nbformat": 4,
 "nbformat_minor": 0
}
