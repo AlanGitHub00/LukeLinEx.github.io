{
 "cells": [
  {
   "cell_type": "markdown",
   "metadata": {},
   "source": [
    "## Step 1: Sign in\n",
    "\n",
    "<img src=https://raw.githubusercontent.com/LukeLinEx/LukeLinEx.github.io/master/feb_18/1_sign_in.png>"
   ]
  },
  {
   "cell_type": "markdown",
   "metadata": {},
   "source": [
    "## Step 2: Dash board\n",
    "\n",
    "<img src=https://raw.githubusercontent.com/LukeLinEx/LukeLinEx.github.io/master/feb_18/2_dash_board.png>"
   ]
  },
  {
   "cell_type": "markdown",
   "metadata": {},
   "source": [
    "## Step 3: Start to launch\n",
    "\n",
    "<img src=https://raw.githubusercontent.com/LukeLinEx/LukeLinEx.github.io/master/feb_18/3_launch.png>"
   ]
  },
  {
   "cell_type": "markdown",
   "metadata": {},
   "source": [
    "## Step 4: Select virtual machine \n",
    "\n",
    "**Here we select the type of machine we would like to use. I usually used Ubuntu 14.04**\n",
    "\n",
    "<img src=https://raw.githubusercontent.com/LukeLinEx/LukeLinEx.github.io/master/feb_18/4_select_vm.png>"
   ]
  },
  {
   "cell_type": "markdown",
   "metadata": {},
   "source": [
    "## Step 5: Select instance type\n",
    "\n",
    "Decide how powerful you want you instance be. The ones eligible for free tier (no charge upto certain usage) is recommended if this is the first time you use AWS).\n",
    "\n",
    "- Just check the instance type you want and then hit the next button.\n",
    "\n",
    "<img src=https://raw.githubusercontent.com/LukeLinEx/LukeLinEx.github.io/master/feb_18/5_instance_type.png>"
   ]
  },
  {
   "cell_type": "markdown",
   "metadata": {},
   "source": [
    "## Step 6: Configure\n",
    "\n",
    "We can go with default setting. Just click next.\n",
    "\n",
    "<img src=https://raw.githubusercontent.com/LukeLinEx/LukeLinEx.github.io/master/feb_18/6_configure.png>"
   ]
  },
  {
   "cell_type": "markdown",
   "metadata": {},
   "source": [
    "## Step 7: Storage (Free tier upto 30 GB)\n",
    "\n",
    "<img src=https://raw.githubusercontent.com/LukeLinEx/LukeLinEx.github.io/master/feb_18/7_stroage.png>"
   ]
  },
  {
   "cell_type": "markdown",
   "metadata": {},
   "source": [
    "## Step 8: Add tag\n",
    "\n",
    "Here you can give your instance a name.\n",
    "\n",
    "<img src=https://raw.githubusercontent.com/LukeLinEx/LukeLinEx.github.io/master/feb_18/8_tag.png>"
   ]
  },
  {
   "cell_type": "markdown",
   "metadata": {},
   "source": [
    "## Step 9: Security group\n",
    "\n",
    "Security group controls traffic to an instance. For example, to allow access from browser, one needs to add **http** into a group. Make sure you add the four rules into the group and then hit the launch button:\n",
    "\n",
    "- SSH: access via terminal\n",
    "- HTTP: access via browser\n",
    "- Port 3838: default port for shiny server. (Need to change \"Source\" into \"Anywhere\" manually)\n",
    "- Port 8787: default port for rstudio server. (Need to change \"Source\" into \"Anywhere\" manually)\n",
    "\n",
    "<img src=https://raw.githubusercontent.com/LukeLinEx/LukeLinEx.github.io/master/feb_18/9_group.png>"
   ]
  },
  {
   "cell_type": "markdown",
   "metadata": {},
   "source": [
    "## Step 10: Hit launch\n",
    "\n",
    "This page allow you to review your setting. You can go ahead to hit the launch button.\n",
    "\n",
    "<img src=https://raw.githubusercontent.com/LukeLinEx/LukeLinEx.github.io/master/feb_18/10_hit_launch.png>"
   ]
  },
  {
   "cell_type": "markdown",
   "metadata": {},
   "source": [
    "## Step 11: Create key\n",
    "\n",
    "For a new user, you need to create a new key.\n",
    "- Select \"Create a new key\"\n",
    "- Name your key in the space below.\n",
    "\n",
    "<img src=https://raw.githubusercontent.com/LukeLinEx/LukeLinEx.github.io/master/feb_18/11_new_key.png>"
   ]
  },
  {
   "cell_type": "markdown",
   "metadata": {},
   "source": [
    "## Step 12: Download the key\n",
    "\n",
    "### Caution: Never share you key! Never push it to github!\n",
    "\n",
    "Once you enter the key name, you can download it. Save the key somewhere you can easily find **in your computer**. Please **never share it!**\n",
    "\n",
    "The key is the credential you use when access your instance. Whoever has the key can easily launch new istance on your cost.\n",
    "\n",
    "<img src=https://raw.githubusercontent.com/LukeLinEx/LukeLinEx.github.io/master/feb_18/12_download_key.png>"
   ]
  },
  {
   "cell_type": "markdown",
   "metadata": {},
   "source": [
    "## Step 13: Complete\n",
    "\n",
    "Once you download the key the \"Launch Instances\" button would be activated. Hit it, wait couple seconds and then your instance will be ready to go!\n",
    "\n",
    "<img src=https://raw.githubusercontent.com/LukeLinEx/LukeLinEx.github.io/master/feb_18/13_complete.png>\n"
   ]
  },
  {
   "cell_type": "code",
   "execution_count": null,
   "metadata": {
    "collapsed": true
   },
   "outputs": [],
   "source": []
  }
 ],
 "metadata": {
  "anaconda-cloud": {},
  "kernelspec": {
   "display_name": "Python [Root]",
   "language": "python",
   "name": "Python [Root]"
  },
  "language_info": {
   "codemirror_mode": {
    "name": "ipython",
    "version": 2
   },
   "file_extension": ".py",
   "mimetype": "text/x-python",
   "name": "python",
   "nbconvert_exporter": "python",
   "pygments_lexer": "ipython2",
   "version": "2.7.12"
  }
 },
 "nbformat": 4,
 "nbformat_minor": 0
}
