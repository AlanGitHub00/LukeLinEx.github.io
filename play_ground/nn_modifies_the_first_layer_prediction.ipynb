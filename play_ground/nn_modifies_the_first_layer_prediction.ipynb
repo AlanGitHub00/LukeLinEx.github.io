{
 "cells": [
  {
   "cell_type": "code",
   "execution_count": 1,
   "metadata": {
    "collapsed": true
   },
   "outputs": [],
   "source": [
    "import tensorflow as tf\n",
    "import numpy as np\n",
    "import matplotlib.pyplot as plt\n",
    "import datetime\n",
    "import time\n",
    "%matplotlib inline"
   ]
  },
  {
   "cell_type": "code",
   "execution_count": 2,
   "metadata": {
    "collapsed": true
   },
   "outputs": [],
   "source": [
    "def weight_variable(shape):\n",
    "    initial = tf.truncated_normal(shape, stddev=0.1)\n",
    "    return tf.Variable(initial)\n",
    "\n",
    "def sigmoid(x):\n",
    "    sess = tf.InteractiveSession()\n",
    "    x = tf.constant(x, dtype=tf.float32)\n",
    "    sess.run(tf.initialize_all_variables())\n",
    "    result = tf.nn.sigmoid(x).eval()\n",
    "    sess.close()\n",
    "    return result\n",
    "\n",
    "def bias_variable(shape):\n",
    "    initial = tf.constant(0.1, shape=shape)\n",
    "    return tf.Variable(initial)\n",
    "\n",
    "\n",
    "\n",
    "def single_hidden_nn_train(x_train, y_train, x_test=None, y_test=None,\n",
    "                           x_valid=None, y_valid=None,\n",
    "                           hidden_size=2, steps=5):\n",
    "    \"\"\"\n",
    "    :param hidden_size: int type, size of the (only) single layer\n",
    "    :param steps: iteration steps\n",
    "    :rtype : tuple of strings -- method and result\n",
    "    \"\"\"\n",
    "    num_features = x_train.shape[1]\n",
    "    num_class = y_train.shape[1]\n",
    "    sess = tf.InteractiveSession()\n",
    "    x = tf.placeholder(tf.float32, shape=[None, num_features])\n",
    "    y = tf.placeholder(tf.float32, shape=[None, num_class])\n",
    "\n",
    "    W = weight_variable([num_features, hidden_size])\n",
    "    b = bias_variable([hidden_size])\n",
    "    W2 = weight_variable([hidden_size, num_class])\n",
    "    b2 = bias_variable([num_class])\n",
    "\n",
    "    #hidden = tf.nn.relu(tf.matmul(x, W) + b)\n",
    "    hidden = tf.nn.sigmoid(tf.matmul(x, W) + b)\n",
    "    y_lin = tf.matmul(hidden, W2) + b2\n",
    "    loss = -tf.reduce_mean(y_lin*y - tf.log(1+tf.exp(y_lin)), 0)  \n",
    "    train_step = tf.train.GradientDescentOptimizer(0.1).minimize(loss)\n",
    "    \n",
    "    \n",
    "    \n",
    "    \n",
    "    #correct_prediction = tf.equal(tf.argmax(prediction, 1), tf.argmax(y, 1))\n",
    "    #accuracy = tf.reduce_mean(tf.cast(correct_prediction, tf.float32))  # Do we need to do this every step??\n",
    "    sess.run(tf.initialize_all_variables())\n",
    "    for i in range(steps):\n",
    "#         if i % 100 == 0:\n",
    "#             train_accuracy = accuracy.eval(feed_dict={x: x_train, y: y_train})\n",
    "#             print(\"step %d, training accuracy %g\" % (i, train_accuracy))\n",
    "        train_step.run(feed_dict={x: x_train, y: y_train})\n",
    "    \n",
    "    print W2.eval()\n",
    "    W = W.eval()\n",
    "    b = b.eval()\n",
    "    sess.close()\n",
    "    return W, b"
   ]
  },
  {
   "cell_type": "code",
   "execution_count": 3,
   "metadata": {
    "collapsed": false
   },
   "outputs": [],
   "source": [
    "x_train = np.array(sorted(np.random.rand(400)*6)).reshape(-1, 1)\n",
    "y_train = np.array([1]*100+[0]*200 + [1]*100)"
   ]
  },
  {
   "cell_type": "code",
   "execution_count": 4,
   "metadata": {
    "collapsed": false
   },
   "outputs": [
    {
     "name": "stdout",
     "output_type": "stream",
     "text": [
      "[[-12.64018822]\n",
      " [ 13.92048454]]\n"
     ]
    }
   ],
   "source": [
    "w, b  = single_hidden_nn_train(x_train, y_train.reshape(-1,1), steps=20000)"
   ]
  },
  {
   "cell_type": "code",
   "execution_count": 5,
   "metadata": {
    "collapsed": false
   },
   "outputs": [
    {
     "data": {
      "text/plain": [
       "[<matplotlib.lines.Line2D at 0x10efb3ed0>]"
      ]
     },
     "execution_count": 5,
     "metadata": {},
     "output_type": "execute_result"
    },
    {
     "data": {
      "image/png": "[encoded data removed]",
      "text/plain": [
       "<matplotlib.figure.Figure at 0x10ef19490>"
      ]
     },
     "metadata": {},
     "output_type": "display_data"
    }
   ],
   "source": [
    "plt.scatter(x_train, y_train, alpha=0.3, s=2,\n",
    "            color = map(lambda x: 'r' if x==0 else 'b', y_train))\n",
    "pts = np.linspace(0,6,800)\n",
    "curve1 = sigmoid(b[0] + w[0][0]*pts)\n",
    "curve2 = sigmoid(b[1] + w[0][1]*pts)\n",
    "plt.plot(pts, curve1,'g')\n",
    "plt.plot(pts, curve2,'y')"
   ]
  },
  {
   "cell_type": "code",
   "execution_count": null,
   "metadata": {
    "collapsed": true
   },
   "outputs": [],
   "source": []
  }
 ],
 "metadata": {
  "kernelspec": {
   "display_name": "Python [Root]",
   "language": "python",
   "name": "Python [Root]"
  },
  "language_info": {
   "codemirror_mode": {
    "name": "ipython",
    "version": 2
   },
   "file_extension": ".py",
   "mimetype": "text/x-python",
   "name": "python",
   "nbconvert_exporter": "python",
   "pygments_lexer": "ipython2",
   "version": "2.7.12"
  }
 },
 "nbformat": 4,
 "nbformat_minor": 0
}
