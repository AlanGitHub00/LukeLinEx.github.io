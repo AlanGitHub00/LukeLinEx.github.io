{
 "cells": [
  {
   "cell_type": "code",
   "execution_count": 3,
   "metadata": {
    "collapsed": true
   },
   "outputs": [],
   "source": [
    "# Test code goes here!\n",
    "import unittest\n",
    "import json"
   ]
  },
  {
   "cell_type": "markdown",
   "metadata": {},
   "source": [
    "---\n",
    "\n",
    "### Problem 1 (Once people know the match method)\n",
    "\n",
    "Write a function **`matchAll(pattern, list)`**, return True if the pattern matches all the strings in the list."
   ]
  },
  {
   "cell_type": "code",
   "execution_count": 2,
   "metadata": {
    "collapsed": true
   },
   "outputs": [],
   "source": [
    "#### Pre code for this problem\n"
   ]
  },
  {
   "cell_type": "code",
   "execution_count": 11,
   "metadata": {
    "collapsed": false
   },
   "outputs": [],
   "source": [
    "import re\n",
    "\n",
    "\n",
    "class MyTest(unittest.TestCase):\n",
    "    # define testing functions here\n",
    "    def test_matchAll(self):\n",
    "        self.assertTrue(matchAll('a', ['a', 'ab', 'abc']))\n",
    "        self.assertFalse(matchAll('a', ['a', 'ab', 'bc']))\n",
    "        self.assertTrue(matchAll('(ab)?', ['a', 'ab', 'abc']))\n",
    "        self.assertTrue(matchAll('.', ['a', 'ab', 'abc']))\n",
    "        self.assertFalse(matchAll('.{2,3}', ['a', 'ab', 'abc']))\n",
    "        self.assertTrue(matchAll('ab+c',['abc', 'abbc', 'abbbbbbc'] ))\n",
    "        self.assertFalse(matchAll('ab+c',['ac', 'abbc', 'abbbbbbc'] ))\n"
   ]
  },
  {
   "cell_type": "code",
   "execution_count": 12,
   "metadata": {
    "collapsed": false
   },
   "outputs": [
    {
     "name": "stderr",
     "output_type": "stream",
     "text": [
      "test_matchAll (__main__.MyTest) ... ok\n",
      "\n",
      "----------------------------------------------------------------------\n",
      "Ran 1 test in 0.001s\n",
      "\n",
      "OK\n"
     ]
    }
   ],
   "source": [
    "# The Answer\n",
    "def matchAll(pattern, ls):\n",
    "    return reduce(lambda prev, curr: bool(re.match(pattern, curr)) and prev, ls, True)\n",
    "\n",
    "\n",
    "suite = unittest.TestLoader().loadTestsFromTestCase(*[MyTest])\n",
    "testResult = unittest.TextTestRunner(verbosity=2).run(suite)\n",
    "total = testResult.testsRun"
   ]
  },
  {
   "cell_type": "markdown",
   "metadata": {},
   "source": [
    "---\n",
    "\n",
    "### Problem 2 (Once people know the match method)\n",
    "\n",
    "Write a function **`matchNone(pattern, list)`**, return True if the pattern does not match any one of the strings in the list."
   ]
  },
  {
   "cell_type": "code",
   "execution_count": 1,
   "metadata": {
    "collapsed": true
   },
   "outputs": [],
   "source": [
    "#### Pre code for this problem\n"
   ]
  },
  {
   "cell_type": "code",
   "execution_count": 12,
   "metadata": {
    "collapsed": true
   },
   "outputs": [],
   "source": [
    "import re\n",
    "\n",
    "\n",
    "class MyTest(unittest.TestCase):\n",
    "    # define testing functions here\n",
    "    def test_matchNone(self):\n",
    "        self.assertTrue(matchNone('a', ['b', 'bb', 'bbb']))\n",
    "        self.assertFalse(matchNone('a', ['b', 'ba', 'bab']))\n",
    "        self.assertFalse(matchNone('(ab)?', ['a', 'ab', 'ac']))\n",
    "        self.assertFalse(matchNone('a{2,}', ['a', 'aa', 'abc']))\n",
    "        self.assertTrue(matchNone('a{2,3}', ['a', 'ab', 'abc']))\n",
    "        self.assertFalse(matchNone('ab?c',['ac', 'abc', 'abbc'] ))\n",
    "        self.assertFalse(matchNone('ab?c',['abc', 'abbc', 'abbbc'] ))\n",
    "        self.assertTrue(matchNone('ab?c',['abbc', 'abbbc', 'abbbbc'] ))"
   ]
  },
  {
   "cell_type": "code",
   "execution_count": 13,
   "metadata": {
    "collapsed": false
   },
   "outputs": [
    {
     "name": "stderr",
     "output_type": "stream",
     "text": [
      "test_matchNone (__main__.MyTest) ... ok\n",
      "\n",
      "----------------------------------------------------------------------\n",
      "Ran 1 test in 0.001s\n",
      "\n",
      "OK\n"
     ]
    }
   ],
   "source": [
    "# The Answer\n",
    "def matchNone(pattern, ls):\n",
    "    compiled = re.compile(pattern)\n",
    "    for word in ls:\n",
    "        if compiled.search(word) is not None:\n",
    "            return False\n",
    "    return True\n",
    "\n",
    "\n",
    "suite = unittest.TestLoader().loadTestsFromTestCase(*[MyTest])\n",
    "testResult = unittest.TextTestRunner(verbosity=2).run(suite)\n",
    "total = testResult.testsRun"
   ]
  },
  {
   "cell_type": "markdown",
   "metadata": {},
   "source": [
    "---\n",
    "\n",
    "### Problem 3 (Once people know the meta character)\n",
    "\n",
    " Write a pattern to match the following words (open question, choose your approach):\n",
    "\n",
    " ```\n",
    " ['a', 'an', 'absh', 'apple', 'adsorb', 'apple99']\n",
    " ```"
   ]
  },
  {
   "cell_type": "code",
   "execution_count": 1,
   "metadata": {
    "collapsed": true
   },
   "outputs": [],
   "source": [
    "#### Pre code for this problem\n",
    "def matchAll(pattern, ls):\n",
    "    return reduce(lambda prev, curr: bool(re.match(pattern, curr)) and prev, ls, True)"
   ]
  },
  {
   "cell_type": "code",
   "execution_count": 4,
   "metadata": {
    "collapsed": false
   },
   "outputs": [],
   "source": [
    "import re\n",
    "\n",
    "\n",
    "class MyTest(unittest.TestCase):\n",
    "    # define testing functions here\n",
    "    def test_wordPatter(self):\n",
    "        self.assertTrue(matchAll(wordPattern, ['a', 'an', 'absh', 'apple', 'adsorb', 'apple99']))"
   ]
  },
  {
   "cell_type": "code",
   "execution_count": 7,
   "metadata": {
    "collapsed": false
   },
   "outputs": [
    {
     "name": "stderr",
     "output_type": "stream",
     "text": [
      "test_matchNone (__main__.MyTest) ... ok\n",
      "\n",
      "----------------------------------------------------------------------\n",
      "Ran 1 test in 0.001s\n",
      "\n",
      "OK\n"
     ]
    }
   ],
   "source": [
    "# The Answer\n",
    "wordPattern = 'a+'\n",
    "\n",
    "suite = unittest.TestLoader().loadTestsFromTestCase(*[MyTest])\n",
    "testResult = unittest.TextTestRunner(verbosity=2).run(suite)\n",
    "total = testResult.testsRun"
   ]
  },
  {
   "cell_type": "markdown",
   "metadata": {},
   "source": [
    "---\n",
    "\n",
    "### Problem 4 (Once people know the meta character)\n",
    "Write a pattern that does not match any of the following words (open question, choose your approach):\n",
    "```\n",
    "['can', 'fan', 'dan', 'ran', 'pan']\n",
    "```"
   ]
  },
  {
   "cell_type": "code",
   "execution_count": 8,
   "metadata": {
    "collapsed": true
   },
   "outputs": [],
   "source": [
    "#### Pre code for this problem\n",
    "def matchNone(pattern, ls):\n",
    "    compiled = re.compile(pattern)\n",
    "    for word in ls:\n",
    "        if compiled.search(word) is not None:\n",
    "            return False\n",
    "    return True"
   ]
  },
  {
   "cell_type": "code",
   "execution_count": 12,
   "metadata": {
    "collapsed": true
   },
   "outputs": [],
   "source": [
    "import re\n",
    "\n",
    "\n",
    "class MyTest(unittest.TestCase):\n",
    "    # define testing functions here\n",
    "    def test_wordPatter(self):\n",
    "        self.assertTrue(matchNone(wordPattern, ['can', 'fan', 'dan', 'ran', 'pan']))"
   ]
  },
  {
   "cell_type": "code",
   "execution_count": 18,
   "metadata": {
    "collapsed": false
   },
   "outputs": [
    {
     "name": "stderr",
     "output_type": "stream",
     "text": [
      "test_wordPatter (__main__.MyTest) ... ok\n",
      "\n",
      "----------------------------------------------------------------------\n",
      "Ran 1 test in 0.001s\n",
      "\n",
      "OK\n"
     ]
    }
   ],
   "source": [
    "# The Answer\n",
    "wordPattern = 'man'\n",
    "\n",
    "suite = unittest.TestLoader().loadTestsFromTestCase(*[MyTest])\n",
    "testResult = unittest.TextTestRunner(verbosity=2).run(suite)\n",
    "total = testResult.testsRun"
   ]
  },
  {
   "cell_type": "markdown",
   "metadata": {},
   "source": [
    "---\n",
    "### Problem 5 (Once people know the meta character)\n",
    "\n",
    "Write a regular expression that matches these three words (open question, choose your approach): \n",
    "```\n",
    "['can', 'fan', 'dan']\n",
    "```\n",
    "and does not match any of these three words: \n",
    "```\n",
    "['man', 'ran', 'pan']\n",
    "```"
   ]
  },
  {
   "cell_type": "code",
   "execution_count": 21,
   "metadata": {
    "collapsed": true
   },
   "outputs": [],
   "source": [
    "#### Pre code for this problem\n",
    "def matchAll(pattern, ls):\n",
    "    return reduce(lambda prev, curr: bool(re.match(pattern, curr)) and prev, ls, True)\n",
    "\n",
    "def matchNone(pattern, ls):\n",
    "    compiled = re.compile(pattern)\n",
    "    for word in ls:\n",
    "        if compiled.search(word) is not None:\n",
    "            return False\n",
    "    return True"
   ]
  },
  {
   "cell_type": "code",
   "execution_count": 22,
   "metadata": {
    "collapsed": true
   },
   "outputs": [],
   "source": [
    "class MyTest(unittest.TestCase):\n",
    "    # define testing functions here\n",
    "    def test_wordPatter(self):\n",
    "        self.assertTrue(matchAll(wordPattern, ['can', 'fan', 'dan']))\n",
    "        self.assertTrue(matchNone(wordPattern, ['man', 'ran', 'pan']))"
   ]
  },
  {
   "cell_type": "code",
   "execution_count": 23,
   "metadata": {
    "collapsed": false
   },
   "outputs": [
    {
     "name": "stderr",
     "output_type": "stream",
     "text": [
      "test_wordPatter (__main__.MyTest) ... ok\n",
      "\n",
      "----------------------------------------------------------------------\n",
      "Ran 1 test in 0.001s\n",
      "\n",
      "OK\n"
     ]
    }
   ],
   "source": [
    "# The Answer\n",
    "wordPattern = '[cfd]an'\n",
    "\n",
    "suite = unittest.TestLoader().loadTestsFromTestCase(*[MyTest])\n",
    "testResult = unittest.TextTestRunner(verbosity=2).run(suite)\n",
    "total = testResult.testsRun"
   ]
  },
  {
   "cell_type": "markdown",
   "metadata": {},
   "source": [
    "---\n",
    "\n",
    "### Part 6 (Once people know the meta character)\n",
    "\n",
    "Write a regular expression that matches these five words:\n",
    "```\n",
    "['pit', 'spot', 'spate', 'slap two', 'respite']\n",
    "```    \n",
    "and does not match any of these four words:\n",
    "```\n",
    "['pt', 'Pot', 'peat', 'part']\n",
    "```\n",
    "This exercise comes from [http://regex.sketchengine.co.uk/](http://regex.sketchengine.co.uk/cgi/ex1.cgi) and you can find more exercises there."
   ]
  },
  {
   "cell_type": "code",
   "execution_count": 24,
   "metadata": {
    "collapsed": true
   },
   "outputs": [],
   "source": [
    "#### Pre code for this problem\n",
    "def matchAll(pattern, ls):\n",
    "    return reduce(lambda prev, curr: bool(re.match(pattern, curr)) and prev, ls, True)\n",
    "\n",
    "def matchNone(pattern, ls):\n",
    "    compiled = re.compile(pattern)\n",
    "    for word in ls:\n",
    "        if compiled.search(word) is not None:\n",
    "            return False\n",
    "    return True"
   ]
  },
  {
   "cell_type": "code",
   "execution_count": 25,
   "metadata": {
    "collapsed": true
   },
   "outputs": [],
   "source": [
    "class MyTest(unittest.TestCase):\n",
    "    # define testing functions here\n",
    "    def test_wordPatter(self):\n",
    "        self.assertTrue(matchAll(wordPattern, ['pit', 'spot', 'spate', 'slap two', 'respite']))\n",
    "        self.assertTrue(matchNone(wordPattern, ['pt', 'Pot', 'peat', 'part']))"
   ]
  },
  {
   "cell_type": "code",
   "execution_count": 28,
   "metadata": {
    "collapsed": false,
    "scrolled": true
   },
   "outputs": [
    {
     "name": "stderr",
     "output_type": "stream",
     "text": [
      "test_wordPatter (__main__.MyTest) ... ok\n",
      "\n",
      "----------------------------------------------------------------------\n",
      "Ran 1 test in 0.001s\n",
      "\n",
      "OK\n"
     ]
    }
   ],
   "source": [
    "# The Answer\n",
    "wordPattern = '(.*)p.t(.*)'\n",
    "\n",
    "suite = unittest.TestLoader().loadTestsFromTestCase(*[MyTest])\n",
    "testResult = unittest.TextTestRunner(verbosity=2).run(suite)\n",
    "total = testResult.testsRun"
   ]
  },
  {
   "cell_type": "markdown",
   "metadata": {},
   "source": [
    "---\n",
    "### Part 7\n",
    "\n",
    "Write a regular expression that matches these five words:\n",
    "```\n",
    "['rap them', 'tapeth', 'apth', 'wrap/try', 'sap tray', '87ap9th', 'apothecary']\n",
    "```\n",
    "\n",
    "and does not match any of these four words:\n",
    "```\n",
    "['aleht', 'happy them', 'tarpth', 'Apt', 'peth', 'tarreth', 'ddapdg', 'apples', 'shape the']\n",
    "```"
   ]
  },
  {
   "cell_type": "code",
   "execution_count": 29,
   "metadata": {
    "collapsed": true
   },
   "outputs": [],
   "source": [
    "#### Pre code for this problem\n",
    "def matchAll(pattern, ls):\n",
    "    return reduce(lambda prev, curr: bool(re.match(pattern, curr)) and prev, ls, True)\n",
    "\n",
    "def matchNone(pattern, ls):\n",
    "    compiled = re.compile(pattern)\n",
    "    for word in ls:\n",
    "        if compiled.search(word) is not None:\n",
    "            return False\n",
    "    return True"
   ]
  },
  {
   "cell_type": "code",
   "execution_count": 30,
   "metadata": {
    "collapsed": true
   },
   "outputs": [],
   "source": [
    "class MyTest(unittest.TestCase):\n",
    "    # define testing functions here\n",
    "    def test_wordPatter(self):\n",
    "        self.assertTrue(matchAll(wordPattern, ['rap them', 'tapeth', 'apth', 'wrap/try', \n",
    "                                               'sap tray', '87ap9th', 'apothecary']))\n",
    "        self.assertTrue(matchNone(wordPattern, ['aleht', 'happy them', 'tarpth', 'Apt', 'peth',\n",
    "                                                'tarreth', 'ddapdg', 'apples', 'shape the']))"
   ]
  },
  {
   "cell_type": "code",
   "execution_count": 31,
   "metadata": {
    "collapsed": false
   },
   "outputs": [
    {
     "name": "stderr",
     "output_type": "stream",
     "text": [
      "test_wordPatter (__main__.MyTest) ... ok\n",
      "\n",
      "----------------------------------------------------------------------\n",
      "Ran 1 test in 0.001s\n",
      "\n",
      "OK\n"
     ]
    }
   ],
   "source": [
    "# The Answer\n",
    "wordPattern = '(.*)ap(.?)t(.*)'\n",
    "\n",
    "suite = unittest.TestLoader().loadTestsFromTestCase(*[MyTest])\n",
    "testResult = unittest.TextTestRunner(verbosity=2).run(suite)\n",
    "total = testResult.testsRun"
   ]
  },
  {
   "cell_type": "code",
   "execution_count": null,
   "metadata": {
    "collapsed": true
   },
   "outputs": [],
   "source": []
  }
 ],
 "metadata": {
  "anaconda-cloud": {},
  "kernelspec": {
   "display_name": "Python [Root]",
   "language": "python",
   "name": "Python [Root]"
  },
  "language_info": {
   "codemirror_mode": {
    "name": "ipython",
    "version": 2
   },
   "file_extension": ".py",
   "mimetype": "text/x-python",
   "name": "python",
   "nbconvert_exporter": "python",
   "pygments_lexer": "ipython2",
   "version": "2.7.11"
  }
 },
 "nbformat": 4,
 "nbformat_minor": 0
}
