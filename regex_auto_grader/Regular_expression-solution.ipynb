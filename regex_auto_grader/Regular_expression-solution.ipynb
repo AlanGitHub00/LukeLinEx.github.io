{
 "cells": [
  {
   "cell_type": "markdown",
   "metadata": {},
   "source": [
    "## Regular Expression"
   ]
  },
  {
   "cell_type": "markdown",
   "metadata": {
    "internals": {
     "slide_type": "subslide"
    },
    "slideshow": {
     "slide_type": "slide"
    }
   },
   "source": [
    "(1) Write a function **matchAll(pattern, list)**, return True if the pattern matches all the strings in the list."
   ]
  },
  {
   "cell_type": "code",
   "execution_count": 2,
   "metadata": {
    "collapsed": false,
    "internals": {},
    "slideshow": {
     "slide_type": "-"
    }
   },
   "outputs": [],
   "source": [
    "### solution\n",
    "import re\n",
    "def matchAll(pattern, ls):\n",
    "    result = True\n",
    "    for word in ls:\n",
    "        result = result and ( re.search(pattern, word) != None )\n",
    "    return result\n",
    "\n",
    "# other solution\n",
    "def matchAll(pattern, ls):\n",
    "    compiled = re.compile(pattern)\n",
    "    for word in ls:\n",
    "        if compiled.search(word) is None:\n",
    "            return False\n",
    "    return True"
   ]
  },
  {
   "cell_type": "markdown",
   "metadata": {
    "internals": {},
    "slideshow": {
     "slide_type": "-"
    }
   },
   "source": [
    "Here are some tests:"
   ]
  },
  {
   "cell_type": "code",
   "execution_count": 3,
   "metadata": {
    "collapsed": false,
    "internals": {
     "slide_helper": "subslide_end"
    },
    "slide_helper": "slide_end",
    "slideshow": {
     "slide_type": "-"
    }
   },
   "outputs": [
    {
     "name": "stdout",
     "output_type": "stream",
     "text": [
      "True\n",
      "False\n",
      "True\n",
      "True\n",
      "False\n"
     ]
    }
   ],
   "source": [
    "print matchAll('a', ['a', 'ab', 'abc']) # True\n",
    "print matchAll('a', ['a', 'ab', 'bc'])  # False\n",
    "print matchAll('(ab)?', ['a', 'ab', 'abc'])  # True\n",
    "print matchAll('.', ['a', 'ab', 'abc'])      # True\n",
    "print matchAll('.{2,3}', ['a', 'ab', 'abc']) # False"
   ]
  },
  {
   "cell_type": "markdown",
   "metadata": {
    "internals": {
     "slide_type": "subslide"
    },
    "slideshow": {
     "slide_type": "slide"
    }
   },
   "source": [
    "(2) Write a function matchNone(pattern, list), return True if the pattern does not match any one of the strings in the list."
   ]
  },
  {
   "cell_type": "code",
   "execution_count": 4,
   "metadata": {
    "collapsed": false,
    "internals": {},
    "slideshow": {
     "slide_type": "-"
    }
   },
   "outputs": [],
   "source": [
    "### solution\n",
    "def matchNone(pattern, ls):\n",
    "    compiled = re.compile(pattern)\n",
    "    for word in ls:\n",
    "        if compiled.search(word) is not None:\n",
    "            return False\n",
    "    return True"
   ]
  },
  {
   "cell_type": "markdown",
   "metadata": {
    "collapsed": false,
    "internals": {},
    "slideshow": {
     "slide_type": "-"
    }
   },
   "source": [
    "Here are some tests:"
   ]
  },
  {
   "cell_type": "code",
   "execution_count": 5,
   "metadata": {
    "collapsed": false,
    "internals": {
     "slide_helper": "subslide_end"
    },
    "slide_helper": "slide_end",
    "slideshow": {
     "slide_type": "-"
    }
   },
   "outputs": [
    {
     "name": "stdout",
     "output_type": "stream",
     "text": [
      "True\n",
      "False\n",
      "False\n",
      "False\n",
      "True\n"
     ]
    }
   ],
   "source": [
    "print matchNone('a', ['b', 'bb', 'bbb'])      # True\n",
    "print matchNone('a', ['b', 'ba', 'bab'])      # False\n",
    "print matchNone('(ab)?', ['a', 'ab', 'ac'])   # False\n",
    "print matchNone('a{2,}', ['a', 'aa', 'abc'])  # False\n",
    "print matchNone('a{2,3}', ['a', 'ab', 'abc']) # True"
   ]
  },
  {
   "cell_type": "markdown",
   "metadata": {
    "internals": {
     "slide_type": "subslide"
    },
    "slideshow": {
     "slide_type": "slide"
    }
   },
   "source": [
    "(3) Write a pattern to match the following words (open question, choose your approach):\n",
    "\n",
    "        a, an, absh, apple, adsorb, apple99"
   ]
  },
  {
   "cell_type": "code",
   "execution_count": 6,
   "metadata": {
    "collapsed": false,
    "internals": {
     "slide_helper": "subslide_end"
    },
    "slide_helper": "slide_end",
    "slideshow": {
     "slide_type": "-"
    }
   },
   "outputs": [
    {
     "data": {
      "text/plain": [
       "True"
      ]
     },
     "execution_count": 6,
     "metadata": {},
     "output_type": "execute_result"
    }
   ],
   "source": [
    "wordPattern = 'a+'\n",
    "matchAll(wordPattern, ['a', 'an', 'absh', 'appale', 'adsorb', 'apple99']) # True"
   ]
  },
  {
   "cell_type": "markdown",
   "metadata": {
    "internals": {
     "slide_type": "subslide"
    },
    "slideshow": {
     "slide_type": "slide"
    }
   },
   "source": [
    "(4) Write a pattern that does not match the following words (open question, choose your approach):\n",
    "        \n",
    "        can, fan, dan, ran, pan"
   ]
  },
  {
   "cell_type": "code",
   "execution_count": 7,
   "metadata": {
    "collapsed": false,
    "internals": {
     "slide_helper": "subslide_end"
    },
    "slide_helper": "slide_end",
    "slideshow": {
     "slide_type": "-"
    }
   },
   "outputs": [
    {
     "data": {
      "text/plain": [
       "True"
      ]
     },
     "execution_count": 7,
     "metadata": {},
     "output_type": "execute_result"
    }
   ],
   "source": [
    "wordPattern = 'man'\n",
    "matchNone(wordPattern, ['can', 'fan', 'dan', 'ran', 'pan']) # True"
   ]
  },
  {
   "cell_type": "markdown",
   "metadata": {
    "internals": {
     "slide_type": "subslide"
    },
    "slideshow": {
     "slide_type": "slide"
    }
   },
   "source": [
    "(5) Write a regular expression that matches these three words (open question, choose your approach): \n",
    "\n",
    "        - can, fan, dan\n",
    "and does not match these three words: \n",
    "\n",
    "        - man, ran, pan"
   ]
  },
  {
   "cell_type": "code",
   "execution_count": 8,
   "metadata": {
    "collapsed": false,
    "internals": {
     "slide_helper": "subslide_end"
    },
    "slide_helper": "slide_end",
    "slideshow": {
     "slide_type": "-"
    }
   },
   "outputs": [
    {
     "name": "stdout",
     "output_type": "stream",
     "text": [
      "True\n",
      "True\n",
      "True\n",
      "True\n"
     ]
    }
   ],
   "source": [
    "wordPattern = '[cdf]..'  \n",
    "print matchAll(wordPattern, ['can', 'fan', 'dan']) # True\n",
    "print matchNone(wordPattern, ['man', 'ran', 'pan']) # True\n",
    "\n",
    "# other solution\n",
    "wordPattern = '^[cdf]'\n",
    "print matchAll(wordPattern, ['can', 'fan', 'dan']) # True\n",
    "print matchNone(wordPattern, ['man', 'ran', 'pan']) # True"
   ]
  },
  {
   "cell_type": "markdown",
   "metadata": {
    "internals": {
     "slide_type": "subslide"
    },
    "slideshow": {
     "slide_type": "slide"
    }
   },
   "source": [
    "(6) Write a regular expression that matches these five words:\n",
    "        - pit, spot, spate, slap two, respite\n",
    "    \n",
    "and does not match these four words:\n",
    "\n",
    "        - pt, Pot, peat, part\n",
    "\n",
    "This exercise comes from [http://regex.sketchengine.co.uk/](http://regex.sketchengine.co.uk/cgi/ex1.cgi) and you can find more exercises there."
   ]
  },
  {
   "cell_type": "code",
   "execution_count": 9,
   "metadata": {
    "collapsed": false,
    "internals": {
     "slide_helper": "subslide_end"
    },
    "slide_helper": "slide_end",
    "slideshow": {
     "slide_type": "-"
    }
   },
   "outputs": [
    {
     "name": "stdout",
     "output_type": "stream",
     "text": [
      "True\n",
      "True\n"
     ]
    }
   ],
   "source": [
    "wordPattern = '(.*)p.t(.*)'\n",
    "print matchAll(wordPattern, ['pit', 'spot', 'spate', 'slap two', 'respite']) # True\n",
    "print matchNone(wordPattern, ['pt', 'Pot', 'peat', 'part']) # True"
   ]
  },
  {
   "cell_type": "markdown",
   "metadata": {
    "internals": {
     "slide_type": "subslide"
    },
    "slideshow": {
     "slide_type": "slide"
    }
   },
   "source": [
    "(7)**[optinal]**\n",
    "Write a regular expression that matches these five words:\n",
    "    - rap them, tapeth, apth, wrap/try, sap tray, 87ap9th, apothecary\n",
    "\n",
    "and does not match these four words:\n",
    "    - aleht, happy them, tarpth, Apt, peth, tarreth, ddapdg, apples, shape the"
   ]
  },
  {
   "cell_type": "code",
   "execution_count": 10,
   "metadata": {
    "collapsed": false,
    "internals": {
     "slide_helper": "subslide_end"
    },
    "slide_helper": "slide_end",
    "slideshow": {
     "slide_type": "-"
    }
   },
   "outputs": [
    {
     "name": "stdout",
     "output_type": "stream",
     "text": [
      "True\n",
      "True\n"
     ]
    }
   ],
   "source": [
    "wordPattern = '(.*)ap(.?)t(.*)'\n",
    "print matchAll(wordPattern, ['rap them', 'tapeth', 'apth', 'wrap/try', \\\n",
    "                             'sap tray', '87ap9th', 'apothecary']) # True\n",
    "print matchNone(wordPattern, ['aleht', 'happy them', 'tarpth', 'Apt', 'peth', \\\n",
    "                              'tarreth', 'ddapdg', 'apples', 'shape the']) # True"
   ]
  },
  {
   "cell_type": "markdown",
   "metadata": {
    "internals": {
     "slide_type": "subslide"
    },
    "slideshow": {
     "slide_type": "slide"
    }
   },
   "source": [
    "(8)**[optinal]** In this exercise, you need to handle a file 'record.txt', which is filled with chat records.\n",
    "\n",
    "The first 10 lines looks like this:"
   ]
  },
  {
   "cell_type": "code",
   "execution_count": 11,
   "metadata": {
    "collapsed": false,
    "internals": {},
    "slideshow": {
     "slide_type": "-"
    }
   },
   "outputs": [
    {
     "name": "stdout",
     "output_type": "stream",
     "text": [
      "Jack 17:26:46\r\n",
      "The slogan duplicates a bliss after the plastic accent.\r\n",
      "Michael 17:26:47\r\n",
      "A tidied successor enlightens the advertised contract.\r\n",
      "William 17:26:48\r\n",
      "The secondary freedom matures beneath your suitable tip.\r\n",
      "John 17:26:50\r\n",
      "A wonderful newcomer expires on top of a cryptic entrance.\r\n",
      "William 17:26:51\r\n",
      "A bastard degenerates before the chorus!\r\n"
     ]
    }
   ],
   "source": [
    "!head ./record.txt"
   ]
  },
  {
   "cell_type": "markdown",
   "metadata": {
    "internals": {
     "slide_helper": "subslide_end"
    },
    "slide_helper": "slide_end",
    "slideshow": {
     "slide_type": "-"
    }
   },
   "source": [
    "Each line is either a sentence or a people's name followed with the time. Your task is finding out :\n",
    "\n",
    "    - names of people appear in this chat record.\n",
    "    - how many messages each person sent, and sort them in descending order.\n",
    "    \n",
    "The result looks like:\n",
    "\n",
    "    [('Emily', 111), ('John', 91), ('Michael', 88), ('Jack', 82), ('Mary', 82), ('William', 81), ('Emma', 80), ('Elizabeth', 80), ('Daniel', 72), ('Jayden', 70)]"
   ]
  },
  {
   "cell_type": "code",
   "execution_count": 10,
   "metadata": {
    "collapsed": false
   },
   "outputs": [
    {
     "name": "stdout",
     "output_type": "stream",
     "text": [
      "[('Emily', 122), ('John', 99), ('Michael', 98), ('William', 91), ('Jack', 90), ('Elizabeth', 89), ('Emma', 87), ('Mary', 86), ('Jayden', 83), ('Daniel', 77)]\n"
     ]
    }
   ],
   "source": [
    "### solution\n",
    "import re\n",
    "with open('./record.txt') as f:\n",
    "    record = f.read()\n",
    "    \n",
    "wordPattern = '(.*) \\d\\d:\\d\\d:\\d\\d'\n",
    "name_pooled = re.findall(wordPattern, record)\n",
    "name_summarized = {}\n",
    "for word in name_pooled:\n",
    "    if word in name_summarized.keys():\n",
    "        name_summarized[word] += 1\n",
    "    else:\n",
    "        name_summarized[word] = 1\n",
    "name_summarized = name_summarized.items()\n",
    "print sorted(name_summarized, key = lambda x: x[1], reverse = True)"
   ]
  },
  {
   "cell_type": "code",
   "execution_count": null,
   "metadata": {
    "collapsed": true
   },
   "outputs": [],
   "source": []
  }
 ],
 "metadata": {
  "kernelspec": {
   "display_name": "Python [Root]",
   "language": "python",
   "name": "Python [Root]"
  },
  "language_info": {
   "codemirror_mode": {
    "name": "ipython",
    "version": 2
   },
   "file_extension": ".py",
   "mimetype": "text/x-python",
   "name": "python",
   "nbconvert_exporter": "python",
   "pygments_lexer": "ipython2",
   "version": "2.7.11"
  }
 },
 "nbformat": 4,
 "nbformat_minor": 0
}
